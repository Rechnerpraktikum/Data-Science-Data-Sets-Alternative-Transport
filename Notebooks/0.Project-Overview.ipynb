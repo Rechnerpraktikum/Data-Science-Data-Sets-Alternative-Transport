{
 "cells": [
  {
   "cell_type": "markdown",
   "metadata": {},
   "source": [
    "## Short Introduction"
   ]
  },
  {
   "cell_type": "markdown",
   "metadata": {},
   "source": [
    "## Our Team"
   ]
  },
  {
   "cell_type": "markdown",
   "metadata": {},
   "source": [
    "The roles among the team were clearly distributed.\n",
    "First we sat together to clearly discuss our use-case and made a plan how to realize the project. Fortunately we found out that Steve and Paul used quite similar datasets in Homework 2 and that we could combine them perfectly to one use-case scenario. We talked and discussed to formulate a hypothesis we want to investigate. Our communication among the team was really good and therefore we could easily distribute the roles.\n",
    "\n",
    "#### Stefan: He adopted the main coding parts and always found an answer to some coding problems which appeared.\n",
    "#### Bernhard: He always keeped the overview about our project by using Git. Therefore we always used the same files.\n",
    "#### Paul: He supported Stefan in the coding part and did some parts of it. Paul also found most of the dataset in the web.\n",
    "\n"
   ]
  },
  {
   "cell_type": "markdown",
   "metadata": {},
   "source": [
    "## Project Idea\n",
    "Our Idea in this use case was to find out which universities have the best access to alternative transport in Vienna."
   ]
  },
  {
   "cell_type": "markdown",
   "metadata": {},
   "source": [
    "### Script overview\n",
    "http://localhost:8888/notebooks/A.Data%20Processing%20(Carsharing%20%2B%20Citybike).ipynb\n",
    "\n",
    "http://localhost:8888/notebooks/B.Data%20Processing%20(Uni%20Locations).ipynb\n",
    "\n",
    "http://localhost:8888/notebooks/C.Uni%20Distances%20(to%20Carsharing%20%2B%20Citybike).ipynb\n"
   ]
  },
  {
   "cell_type": "markdown",
   "metadata": {},
   "source": [
    "## Future Work"
   ]
  },
  {
   "cell_type": "markdown",
   "metadata": {},
   "source": [
    "We could add another dataset which is about the sharing economy in Vienna. For instance, adding a dataset about the parkingspaces, about the public transportation capabilities etc. in Vienna and therefore investigate another hypothesis based on the geo-coordinates of the universities in Vienna. Furthermore we thought about displaying the locations and universities investigated on a map to get a nice overview of the sharing economy in Vienna. \n",
    "We think that this code is a good foundation to further work on that issue. \n",
    "If we want to do the same analysis in a year from now, we have to check if the datasets were updated or if there were data added in the various datasets. Moreover we could use the same workflow in a year."
   ]
  },
  {
   "cell_type": "code",
   "execution_count": null,
   "metadata": {
    "collapsed": true
   },
   "outputs": [],
   "source": []
  }
 ],
 "metadata": {
  "kernelspec": {
   "display_name": "Python 3",
   "language": "python",
   "name": "python3"
  },
  "language_info": {
   "codemirror_mode": {
    "name": "ipython",
    "version": 3
   },
   "file_extension": ".py",
   "mimetype": "text/x-python",
   "name": "python",
   "nbconvert_exporter": "python",
   "pygments_lexer": "ipython3",
   "version": "3.5.1"
  }
 },
 "nbformat": 4,
 "nbformat_minor": 1
}
