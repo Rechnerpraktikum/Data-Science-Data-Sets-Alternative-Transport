{
 "cells": [
  {
   "cell_type": "code",
   "execution_count": 1,
   "metadata": {
    "collapsed": true
   },
   "outputs": [],
   "source": [
    "import csv\n",
    "import os\n",
    "import math"
   ]
  },
  {
   "cell_type": "code",
   "execution_count": 2,
   "metadata": {
    "collapsed": false
   },
   "outputs": [
    {
     "data": {
      "text/plain": [
       "{'1545931': 'Wirtschaftsuniversität Wien',\n",
       " '1546113': 'Universität für Musik und darstellende Kunst Wien',\n",
       " '1546123': 'Universität für angewandte Kunst',\n",
       " '1546137': 'Medizinische Universität Wien',\n",
       " '1546148': 'Universität für Bodenkultur Wien',\n",
       " '1546202': 'Technische Universität Wien',\n",
       " '1546253': 'Campus der Universität Wien',\n",
       " '1546266': 'Webster University Vienna',\n",
       " '1546291': 'Universität Wien Hauptgebäude',\n",
       " '1546292': 'Universitätssportzentrum Wien'}"
      ]
     },
     "execution_count": 2,
     "metadata": {},
     "output_type": "execute_result"
    }
   ],
   "source": [
    "uniname = {}\n",
    "with open('./dictionaries/uniname.csv', 'r') as f:\n",
    "    file = csv.reader(f, delimiter=\",\")\n",
    "    for row in file:\n",
    "        uniname[row[0]]=row[1]\n",
    "uniname"
   ]
  },
  {
   "cell_type": "code",
   "execution_count": 5,
   "metadata": {
    "collapsed": false,
    "scrolled": true
   },
   "outputs": [],
   "source": [
    "unigps = {}\n",
    "with open('./dictionaries/unigps.csv', 'r') as f:\n",
    "    file = csv.reader(f, delimiter=\",\")\n",
    "    for row in file:\n",
    "        unigps[row[0]]=row[1]\n",
    "#unigps"
   ]
  },
  {
   "cell_type": "code",
   "execution_count": 8,
   "metadata": {
    "collapsed": false
   },
   "outputs": [
    {
     "data": {
      "text/plain": [
       "{'1545931': '48.21384341856702,16.408860446502068',\n",
       " '1546113': '48.196989050609844,16.38231295437089',\n",
       " '1546123': '48.20838710235376,16.38293943118496',\n",
       " '1546137': '48.21963565071546,16.351735473671383',\n",
       " '1546148': '48.23654607282594,16.337577480698467',\n",
       " '1546202': '48.198976375914846,16.369895225486264',\n",
       " '1546253': '48.21624134156441,16.351350792743386',\n",
       " '1546266': '48.223429445296574,16.423918403848166',\n",
       " '1546291': '48.213012828415096,16.360851928870705',\n",
       " '1546292': '48.2054889397581,16.317331757786384'}"
      ]
     },
     "execution_count": 8,
     "metadata": {},
     "output_type": "execute_result"
    }
   ],
   "source": [
    "unigpsloc = {}\n",
    "for k, v in uniname.items():\n",
    "    if k in unigps.keys():\n",
    "        unigpsloc[k] = unigps.get(k)\n",
    "unigpsloc"
   ]
  },
  {
   "cell_type": "code",
   "execution_count": 11,
   "metadata": {
    "collapsed": false
   },
   "outputs": [],
   "source": [
    "# Write Unigpsloc Dict\n",
    "with open('./dictionaries/unigpsloc.csv', 'w', newline='') as csvfile:\n",
    "    writer = csv.writer(csvfile, delimiter=',')\n",
    "    for k, v in unigpsloc.items():\n",
    "        writer.writerow( [ k, v ] )\n",
    "#unigpsloc"
   ]
  },
  {
   "cell_type": "markdown",
   "metadata": {},
   "source": [
    "# Calculate Distances"
   ]
  },
  {
   "cell_type": "code",
   "execution_count": null,
   "metadata": {
    "collapsed": true
   },
   "outputs": [],
   "source": []
  }
 ],
 "metadata": {
  "kernelspec": {
   "display_name": "Python 3",
   "language": "python",
   "name": "python3"
  },
  "language_info": {
   "codemirror_mode": {
    "name": "ipython",
    "version": 3
   },
   "file_extension": ".py",
   "mimetype": "text/x-python",
   "name": "python",
   "nbconvert_exporter": "python",
   "pygments_lexer": "ipython3",
   "version": "3.5.1"
  }
 },
 "nbformat": 4,
 "nbformat_minor": 1
}
