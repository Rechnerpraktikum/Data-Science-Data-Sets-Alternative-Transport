{
 "cells": [
  {
   "cell_type": "markdown",
   "metadata": {},
   "source": [
    "# Main File - Calculate Distance to Universities\n",
    "## Import+Use created dictionaries for data to avoid calculating it every time"
   ]
  },
  {
   "cell_type": "code",
   "execution_count": 1,
   "metadata": {
    "collapsed": true
   },
   "outputs": [],
   "source": [
    "import csv\n",
    "import os\n",
    "import math"
   ]
  },
  {
   "cell_type": "code",
   "execution_count": 3,
   "metadata": {
    "collapsed": false
   },
   "outputs": [
    {
     "data": {
      "text/plain": [
       "{'1545931': 'Wirtschaftsuniversität Wien',\n",
       " '1546113': 'Universität für Musik und darstellende Kunst Wien',\n",
       " '1546123': 'Universität für angewandte Kunst',\n",
       " '1546137': 'Medizinische Universität Wien',\n",
       " '1546148': 'Universität für Bodenkultur Wien',\n",
       " '1546202': 'Technische Universität Wien',\n",
       " '1546253': 'Campus der Universität Wien',\n",
       " '1546266': 'Webster University Vienna',\n",
       " '1546291': 'Universität Wien Hauptgebäude',\n",
       " '1546292': 'Universitätssportzentrum Wien'}"
      ]
     },
     "execution_count": 3,
     "metadata": {},
     "output_type": "execute_result"
    }
   ],
   "source": [
    "uniname = {}\n",
    "with open('./dictionaries/uniname.csv', 'r') as f:\n",
    "    file = csv.reader(f, delimiter=\",\")\n",
    "    for row in file:\n",
    "        uniname[row[0]]=row[1]\n",
    "uniname"
   ]
  },
  {
   "cell_type": "code",
   "execution_count": 81,
   "metadata": {
    "collapsed": false,
    "scrolled": false
   },
   "outputs": [],
   "source": [
    "unigps = {}\n",
    "with open('./dictionaries/unigps.csv', 'r') as f:\n",
    "    file = csv.reader(f, delimiter=\",\")\n",
    "    for row in file:\n",
    "        unigps[row[0]]=row[1]\n",
    "#unigps"
   ]
  },
  {
   "cell_type": "markdown",
   "metadata": {},
   "source": [
    "## Create and Write Unigpsloc Dict [matching UniID and GPS only for selected Unis]"
   ]
  },
  {
   "cell_type": "code",
   "execution_count": 5,
   "metadata": {
    "collapsed": false
   },
   "outputs": [
    {
     "data": {
      "text/plain": [
       "{'1545931': '48.21384341856702,16.408860446502068',\n",
       " '1546113': '48.196989050609844,16.38231295437089',\n",
       " '1546123': '48.20838710235376,16.38293943118496',\n",
       " '1546137': '48.21963565071546,16.351735473671383',\n",
       " '1546148': '48.23654607282594,16.337577480698467',\n",
       " '1546202': '48.198976375914846,16.369895225486264',\n",
       " '1546253': '48.21624134156441,16.351350792743386',\n",
       " '1546266': '48.223429445296574,16.423918403848166',\n",
       " '1546291': '48.213012828415096,16.360851928870705',\n",
       " '1546292': '48.2054889397581,16.317331757786384'}"
      ]
     },
     "execution_count": 5,
     "metadata": {},
     "output_type": "execute_result"
    }
   ],
   "source": [
    "unigpsloc = {}\n",
    "for k, v in uniname.items():\n",
    "    if k in unigps.keys():\n",
    "        unigpsloc[k] = unigps.get(k)\n",
    "unigpsloc"
   ]
  },
  {
   "cell_type": "code",
   "execution_count": 6,
   "metadata": {
    "collapsed": false
   },
   "outputs": [
    {
     "data": {
      "text/plain": [
       "{'1545931': '48.21384341856702,16.408860446502068',\n",
       " '1546113': '48.196989050609844,16.38231295437089',\n",
       " '1546123': '48.20838710235376,16.38293943118496',\n",
       " '1546137': '48.21963565071546,16.351735473671383',\n",
       " '1546148': '48.23654607282594,16.337577480698467',\n",
       " '1546202': '48.198976375914846,16.369895225486264',\n",
       " '1546253': '48.21624134156441,16.351350792743386',\n",
       " '1546266': '48.223429445296574,16.423918403848166',\n",
       " '1546291': '48.213012828415096,16.360851928870705',\n",
       " '1546292': '48.2054889397581,16.317331757786384'}"
      ]
     },
     "execution_count": 6,
     "metadata": {},
     "output_type": "execute_result"
    }
   ],
   "source": [
    "# Write Unigpsloc Dict\n",
    "with open('./dictionaries/unigpsloc.csv', 'w', newline='') as csvfile:\n",
    "    writer = csv.writer(csvfile, delimiter=',')\n",
    "    for k, v in unigpsloc.items():\n",
    "        writer.writerow( [ k, v ] )\n",
    "unigpsloc"
   ]
  },
  {
   "cell_type": "markdown",
   "metadata": {},
   "source": [
    "## Open Car and Bike GPS Files"
   ]
  },
  {
   "cell_type": "code",
   "execution_count": 7,
   "metadata": {
    "collapsed": false,
    "scrolled": true
   },
   "outputs": [],
   "source": [
    "cargps = {}\n",
    "with open('./dictionaries/cargps.csv', 'r') as f:\n",
    "    file = csv.reader(f, delimiter=\",\")\n",
    "    for row in file:\n",
    "        cargps[row[0]]=row[1]\n",
    "#cargps"
   ]
  },
  {
   "cell_type": "code",
   "execution_count": 8,
   "metadata": {
    "collapsed": false
   },
   "outputs": [],
   "source": [
    "bikegps = {}\n",
    "with open('./dictionaries/bikegps.csv', 'r') as f:\n",
    "    file = csv.reader(f, delimiter=\",\")\n",
    "    for row in file:\n",
    "        bikegps[row[0]]=row[1]\n",
    "#bikegps"
   ]
  },
  {
   "cell_type": "markdown",
   "metadata": {},
   "source": [
    "# Calculate Distances\n",
    "\n",
    "Code taken from :\n",
    "\n",
    "## xxxxxxxxxxxxxxxxxxxxxxxxxxxxxxxxxxxxx"
   ]
  },
  {
   "cell_type": "code",
   "execution_count": 9,
   "metadata": {
    "collapsed": true
   },
   "outputs": [],
   "source": [
    "from math import radians, cos, sin, asin, sqrt\n",
    "def haversine(lon1, lat1, lon2, lat2):\n",
    "    \"\"\"\n",
    "    Calculate the great circle distance between two points \n",
    "    on the earth (specified in decimal degrees)\n",
    "    \"\"\"\n",
    "    # convert decimal degrees to radians \n",
    "    lon1, lat1, lon2, lat2 = map(radians, [lon1, lat1, lon2, lat2])\n",
    "    # haversine formula \n",
    "    dlon = lon2 - lon1 \n",
    "    dlat = lat2 - lat1 \n",
    "    a = sin(dlat/2)**2 + cos(lat1) * cos(lat2) * sin(dlon/2)**2\n",
    "    c = 2 * asin(sqrt(a)) \n",
    "    km = 6367 * c\n",
    "    return km"
   ]
  },
  {
   "cell_type": "markdown",
   "metadata": {},
   "source": [
    "Create dictionaries for all Unis, which map ID of car/bike with distance to respective uni.\n",
    "\n",
    "    disto[15446266]\n",
    "        [4166:511]\n",
    "        [4223:772]\n",
    "    disto[1546292]\n",
    "        "
   ]
  },
  {
   "cell_type": "markdown",
   "metadata": {
    "collapsed": false
   },
   "source": [
    "## legacy \n",
    "Attempted to create Dictioniaries in a Loop, failed in doing so - cannot create/access dictionaries from function results. \n",
    "\n",
    "\n",
    "print(unigpsloc.keys())\n",
    "\n",
    "for k in unigpsloc.keys():\n",
    "    str(\"disto\"+k) = {}\n",
    "    \n",
    "disto1546266 = {}\n",
    "disto1546253 = {}\n",
    "disto1546292 = {}\n",
    "disto1546291 = {}\n",
    "disto1546113 = {}\n",
    "disto1545931 = {}\n",
    "disto1546123 = {}\n",
    "disto1546137 = {}\n",
    "disto1546202 = {}\n",
    "disto1546148 = {}"
   ]
  },
  {
   "cell_type": "markdown",
   "metadata": {},
   "source": [
    "# Calculations"
   ]
  },
  {
   "cell_type": "markdown",
   "metadata": {
    "collapsed": false
   },
   "source": [
    "## legacy - tried doing it for each one since creation in Loop failed.\n",
    "'''\n",
    "disto1545931 = {}\n",
    "gpsx=float(unigpsloc.get('1545931').split(\",\")[0])\n",
    "gpsy=float(unigpsloc.get('1545931').split(\",\")[1])\n",
    "for k, v in cargps.items():\n",
    "    lon2=float(v.split(\",\")[0])\n",
    "    lat2=float(v.split(\",\")[1])\n",
    "    dis = haversine(gpsx, gpsy, lon2, lat2)\n",
    "    if dis < 2.0:\n",
    "        disto1545931[k] = dis\n",
    "for k, v in bikegps.items():\n",
    "    lon2=float(v.split(\",\")[0])\n",
    "    lat2=float(v.split(\",\")[1])\n",
    "    dis = haversine(gpsx, gpsy, lon2, lat2)\n",
    "    if dis < 2.0:\n",
    "        disto1545931[k] = dis\n",
    "    \n",
    "disto1545931  \n",
    "'''\n"
   ]
  },
  {
   "cell_type": "markdown",
   "metadata": {},
   "source": [
    "## Main\n",
    "Create a Dictionary in a Dictionaries, calculate Distance from Universities [first dict] to car and bike gps locations, store all Entries below a certain Radius (1km) in the second Dict.\n",
    "\n",
    "This means the second Dictionary in the University Identifier Dict contains car/bike ID's and distance to Uni (in whichever second Dict it is in)\n",
    "\n",
    "BikeID always starts with 11, Car with 4 - so we can sort by that afterwards."
   ]
  },
  {
   "cell_type": "code",
   "execution_count": 76,
   "metadata": {
    "collapsed": false,
    "scrolled": true
   },
   "outputs": [],
   "source": [
    "disto={}\n",
    "for unikey in unigpsloc.keys():\n",
    "    disto[unikey]={} \n",
    "    \n",
    "    gpsx=float(unigpsloc.get(unikey).split(\",\")[0])\n",
    "    gpsy=float(unigpsloc.get(unikey).split(\",\")[1])\n",
    "    \n",
    "    for k, v in cargps.items():\n",
    "        lon2=float(v.split(\",\")[0])\n",
    "        lat2=float(v.split(\",\")[1])\n",
    "        dis = haversine(gpsx, gpsy, lon2, lat2)\n",
    "        if dis < 1.0:\n",
    "            disto[unikey][k] = dis\n",
    "    for k, v in bikegps.items():\n",
    "        lon2=float(v.split(\",\")[0])\n",
    "        lat2=float(v.split(\",\")[1])\n",
    "        dis = haversine(gpsx, gpsy, lon2, lat2)\n",
    "        if dis < 1.0:\n",
    "            disto[unikey][k] = dis\n"
   ]
  },
  {
   "cell_type": "code",
   "execution_count": 11,
   "metadata": {
    "collapsed": false
   },
   "outputs": [
    {
     "name": "stdout",
     "output_type": "stream",
     "text": [
      "Plätze: 2\tUniversität für Bodenkultur Wien\n",
      "Plätze: 10\tUniversität für Musik und darstellende Kunst Wien\n",
      "Plätze: 0\tWebster University Vienna\n",
      "Plätze: 12\tTechnische Universität Wien\n",
      "Plätze: 5\tUniversitätssportzentrum Wien\n",
      "Plätze: 14\tMedizinische Universität Wien\n",
      "Plätze: 17\tUniversität für angewandte Kunst\n",
      "Plätze: 14\tCampus der Universität Wien\n",
      "Plätze: 16\tUniversität Wien Hauptgebäude\n",
      "Plätze: 4\tWirtschaftsuniversität Wien\n"
     ]
    }
   ],
   "source": [
    "for uni in disto.keys():\n",
    "    print(\"Plätze: \" +str(len(disto[str(uni)]))+ \"\\t\" + uniname[uni])"
   ]
  },
  {
   "cell_type": "markdown",
   "metadata": {},
   "source": [
    "## Adding Statistics\n",
    "Adding up Car / Bike Totals, Calculating average Distance\n",
    "\n",
    "st\\_ represents statistics_ to filter by afterwards\n",
    "\n",
    "\n",
    "Webster doesnt have a Bike Parking Space - Got a ZeroDivisionError - hence the try/catch exception."
   ]
  },
  {
   "cell_type": "code",
   "execution_count": 77,
   "metadata": {
    "collapsed": false
   },
   "outputs": [
    {
     "name": "stdout",
     "output_type": "stream",
     "text": [
      "Cars: 1  \t~0.918 km  \tBikes: 1  \t~0.897 km   \t\tUniversität für Bodenkultur Wien\n",
      "Cars: 3  \t~0.574 km  \tBikes: 7  \t~0.752 km   \t\tUniversität für Musik und darstellende Kunst Wien\n",
      "Cars: 0  \t~0.0 km  \tBikes: 0  \t~0.0 km   \t\tWebster University Vienna\n",
      "Cars: 4  \t~0.525 km  \tBikes: 8  \t~0.641 km   \t\tTechnische Universität Wien\n",
      "Cars: 2  \t~0.864 km  \tBikes: 3  \t~0.762 km   \t\tUniversitätssportzentrum Wien\n",
      "Cars: 5  \t~0.579 km  \tBikes: 9  \t~0.648 km   \t\tMedizinische Universität Wien\n",
      "Cars: 6  \t~0.743 km  \tBikes: 11  \t~0.721 km   \t\tUniversität für angewandte Kunst\n",
      "Cars: 8  \t~0.758 km  \tBikes: 6  \t~0.625 km   \t\tCampus der Universität Wien\n",
      "Cars: 5  \t~0.579 km  \tBikes: 11  \t~0.628 km   \t\tUniversität Wien Hauptgebäude\n",
      "Cars: 1  \t~0.526 km  \tBikes: 3  \t~0.418 km   \t\tWirtschaftsuniversität Wien\n"
     ]
    }
   ],
   "source": [
    "for unikey in disto.keys():\n",
    "    car, bike = 0, 0\n",
    "    carsum, bikesum = 0, 0\n",
    "    for k, v in disto[str(unikey)].items():\n",
    "        if k[0] == '4':       #car\n",
    "            car += 1      \n",
    "            carsum += float(v)\n",
    "        if k[0:2] == '11':    #bike\n",
    "            bike += 1     \n",
    "            bikesum += float(v)\n",
    "    \n",
    "    \n",
    "    disto[unikey]['st_car']     = str(car)\n",
    "    disto[unikey]['st_bike']    = str(bike)\n",
    "    disto[unikey]['st_total']   = str(bike + car)\n",
    "    try:\n",
    "        caravg = carsum/car\n",
    "        disto[unikey]['st_caravg']  = str(caravg)\n",
    "    except ZeroDivisionError:\n",
    "        caravg = 0.00\n",
    "        disto[unikey]['st_caravg']  = 0\n",
    "    try:\n",
    "        bikeavg = bikesum/bike\n",
    "        disto[unikey]['st_bikeavg'] = str(bikeavg)     \n",
    "    except ZeroDivisionError:\n",
    "        bikeavg = 0.00\n",
    "        disto[unikey]['st_bikeavg'] = 0\n",
    "        \n",
    "    print(\"Cars: \" + str(car) +\"  \\t~\"+ str(caravg)[0:5]+\" km  \\tBikes: \" + str(bike) +\"  \\t~\"+ str(bikeavg)[0:5] +\" km   \\t\\t\"+ uniname[unikey])\n",
    "    \n",
    "    "
   ]
  },
  {
   "cell_type": "markdown",
   "metadata": {},
   "source": [
    "## Store created dictionary [disto]"
   ]
  },
  {
   "cell_type": "code",
   "execution_count": 13,
   "metadata": {
    "collapsed": false
   },
   "outputs": [],
   "source": [
    "# Write Unigpsloc Dict\n",
    "with open('./dictionaries/unidistance.csv', 'w', newline='') as csvfile:\n",
    "    writer = csv.writer(csvfile, delimiter=',')\n",
    "    for k, v in disto.items():\n",
    "        writer.writerow( [ k, v ] )"
   ]
  },
  {
   "cell_type": "markdown",
   "metadata": {},
   "source": [
    "## Testing Result Dict\n"
   ]
  },
  {
   "cell_type": "code",
   "execution_count": 14,
   "metadata": {
    "collapsed": false,
    "scrolled": true
   },
   "outputs": [
    {
     "name": "stdout",
     "output_type": "stream",
     "text": [
      "st_total 16\n",
      "st_caravg 0.5799990510384674\n",
      "st_car 5\n",
      "st_bike 11\n",
      "st_bikeavg 0.6286976148934692\n"
     ]
    }
   ],
   "source": [
    "for k, v in disto['1546291'].items():\n",
    "    if k[0:3] == 'st_':\n",
    "        print(k, v)"
   ]
  },
  {
   "cell_type": "code",
   "execution_count": 15,
   "metadata": {
    "collapsed": false,
    "scrolled": true
   },
   "outputs": [
    {
     "name": "stdout",
     "output_type": "stream",
     "text": [
      "11258\t0.8950766838918074\n",
      "11208\t0.33720125935904655\n",
      "11263\t0.8964277074938065\n",
      "4204\t0.7998247710931291\n",
      "11201\t0.7365912241406238\n",
      "11214\t0.696099345320119\n",
      "11213\t0.11304465707983724\n",
      "4236\t0.4690715208672136\n",
      "4199\t0.7522569658752941\n",
      "4196\t0.12932098549392465\n",
      "11262\t0.8661144789722911\n",
      "11264\t0.925459575136689\n",
      "11265\t0.6747954543083463\n",
      "11272\t0.1779042503445643\n",
      "4202\t0.7495210118627758\n",
      "11202\t0.5969591277810316\n"
     ]
    }
   ],
   "source": [
    "for k, v in disto['1546291'].items():      \n",
    "    if k[0:3] != 'st_':\n",
    "        print(str(k) +\"\\t\" + str(v))"
   ]
  },
  {
   "cell_type": "code",
   "execution_count": 16,
   "metadata": {
    "collapsed": false
   },
   "outputs": [
    {
     "name": "stdout",
     "output_type": "stream",
     "text": [
      "st_bikeavg 0\n",
      "st_car 0\n",
      "st_total 0\n",
      "st_bike 0\n",
      "st_caravg 0\n"
     ]
    }
   ],
   "source": [
    "# Webster University - No available Spaces within 1km radius\n",
    "\n",
    "for k, v in disto['1546266'].items():      \n",
    "    if k[0:3] != 'st_':\n",
    "        print(str(k) +\"\\t\" + str(v))\n",
    "        \n",
    "for k, v in disto['1546266'].items():\n",
    "    if k[0:3] == 'st_':\n",
    "        print(k, v)"
   ]
  },
  {
   "cell_type": "markdown",
   "metadata": {},
   "source": [
    "# Resolve ID's to Streetnames"
   ]
  },
  {
   "cell_type": "markdown",
   "metadata": {},
   "source": [
    "## import dictionaries:\n",
    "\n",
    "bikeidadress.csv\n",
    "\n",
    "caridadress.csv"
   ]
  },
  {
   "cell_type": "code",
   "execution_count": 17,
   "metadata": {
    "collapsed": false
   },
   "outputs": [],
   "source": [
    "bikeidadress = {}\n",
    "with open('./dictionaries/bikeidadress.csv', 'r') as f:\n",
    "    file = csv.reader(f, delimiter=\",\")\n",
    "    for row in file:\n",
    "        bikeidadress[row[0]]=row[1]\n",
    "#bikeidadress"
   ]
  },
  {
   "cell_type": "code",
   "execution_count": 18,
   "metadata": {
    "collapsed": false
   },
   "outputs": [],
   "source": [
    "caridadress = {}\n",
    "with open('./dictionaries/caridadress.csv', 'r') as f:\n",
    "    file = csv.reader(f, delimiter=\",\")\n",
    "    for row in file:\n",
    "        caridadress[row[0]]=row[1]\n",
    "#caridadress"
   ]
  },
  {
   "cell_type": "markdown",
   "metadata": {},
   "source": [
    "## Resolve and print output"
   ]
  },
  {
   "cell_type": "code",
   "execution_count": 19,
   "metadata": {
    "collapsed": false
   },
   "outputs": [
    {
     "name": "stdout",
     "output_type": "stream",
     "text": [
      "Wirtschaftsuniversität Wien\n",
      "Bike\t474.2 m  \tMesseplatz\n",
      "Bike\t614.1 m  \tKrieau\n",
      "Car\t526.3 m  \tVorgartenstraße 223\n",
      "Bike\t167.9 m  \tSüdportalstraße\n"
     ]
    }
   ],
   "source": [
    "#JUST WU\n",
    "uni = '1545931'\n",
    "print(uniname.get(uni))\n",
    "for k, v in disto[uni].items():      \n",
    "    if k in caridadress.keys():\n",
    "        id = caridadress.get(k)\n",
    "        type = 'Car'\n",
    "    if k in bikeidadress.keys():\n",
    "        id = bikeidadress.get(k)\n",
    "        type = 'Bike'\n",
    "\n",
    "    if k[0:3] != 'st_':\n",
    "        print(type +\"\\t\"+ str(v*1000)[0:5] +\" m  \\t\" +id)"
   ]
  },
  {
   "cell_type": "markdown",
   "metadata": {},
   "source": [
    "## And now for all of em..."
   ]
  },
  {
   "cell_type": "code",
   "execution_count": 78,
   "metadata": {
    "collapsed": false,
    "scrolled": true
   },
   "outputs": [
    {
     "name": "stdout",
     "output_type": "stream",
     "text": [
      "Universität für Bodenkultur Wien\n",
      "--------------------------------------------------\n",
      "Bike\t897.2 m  \tAumannplatz\n",
      "Car\t918.7 m  \tWähringer Straße ggü. 149\n",
      "\n",
      "\n",
      "Universität für Musik und darstellende Kunst Wien\n",
      "--------------------------------------------------\n",
      "Total Cars: 3\t\tAverage Distance: 0.574 km\n",
      "Total Bikes: 7\t\tAverage Distance: 0.752 km\n",
      "--------------------------------------------------\n",
      "Bike\t548.1 m  \tBahngasse\n",
      "Bike\t626.2 m  \tSchwarzenbergplatz\n",
      "Bike\t630.2 m  \tArbeiterkammer\n",
      "Bike\t998.6 m  \tWien Mitte\n",
      "Bike\t557.0 m  \tFasanplatz\n",
      "Bike\t921.4 m  \tJohannesgasse\n",
      "Car\t826.0 m  \tTheresianumgasse\n",
      "Car\t303.3 m  \tReisnerstraße 35\n",
      "Car\t592.5 m  \tZaunergasse 1-3\n",
      "Bike\t987.4 m  \tSankt-Elisabeth-Platz\n",
      "\n",
      "\n",
      "Webster University Vienna\n",
      "--------------------------------------------------\n",
      "\n",
      "\n",
      "Campus der Universität Wien\n",
      "--------------------------------------------------\n",
      "Total Cars: 8\t\tAverage Distance: 0.758 km\n",
      "Total Bikes: 6\t\tAverage Distance: 0.625 km\n",
      "--------------------------------------------------\n",
      "Car\t145.2 m  \tAlser Straße 21\n",
      "Bike\t348.0 m  \tSensengasse\n",
      "Bike\t886.7 m  \tWähringer Straße U6\n",
      "Car\t874.7 m  \tAuersbergstraße ggü. 17\n",
      "Car\t534.0 m  \tFlorianigasse 5\n",
      "Car\t590.6 m  \tWilhelm-Exner Gasse 8\n",
      "Car\t988.8 m  \tSechsschimmelgasse 1\n",
      "Car\t965.5 m  \tZimmermanngasse 1\n",
      "Bike\t814.2 m  \tFriedrich Schmidtplatz\n",
      "Car\t982.6 m  \tAlbertgasse 30\n",
      "Bike\t709.5 m  \tBoltzmanngasse\n",
      "Bike\t436.4 m  \tFrankhplatz\n",
      "Bike\t556.4 m  \tAlser Straße/Feldgasse\n",
      "Car\t989.2 m  \tWähringer Straße 71-73\n",
      "\n",
      "\n",
      "Technische Universität Wien\n",
      "--------------------------------------------------\n",
      "Total Cars: 4\t\tAverage Distance: 0.525 km\n",
      "Total Bikes: 8\t\tAverage Distance: 0.641 km\n",
      "--------------------------------------------------\n",
      "Car\t372.8 m  \tMattiellistraße 2-4\n",
      "Car\t490.9 m  \tFloragasse 7\n",
      "Bike\t926.6 m  \tArbeiterkammer\n",
      "Bike\t786.0 m  \tSchwarzenbergplatz\n",
      "Bike\t396.1 m  \tOper\n",
      "Bike\t889.9 m  \tJohannesgasse\n",
      "Bike\t373.1 m  \tKärntner Ring\n",
      "Car\t408.8 m  \tOperngasse 24\n",
      "Bike\t831.1 m  \tHeumühlgasse\n",
      "Bike\t209.5 m  \tTreitlstraße\n",
      "Car\t828.1 m  \tZaunergasse 1-3\n",
      "Bike\t722.5 m  \tMayerhofgasse\n",
      "\n",
      "\n",
      "Wirtschaftsuniversität Wien\n",
      "--------------------------------------------------\n",
      "Bike\t474.2 m  \tMesseplatz\n",
      "Bike\t614.1 m  \tKrieau\n",
      "Car\t526.3 m  \tVorgartenstraße 223\n",
      "Bike\t167.9 m  \tSüdportalstraße\n",
      "\n",
      "\n",
      "Universitätssportzentrum Wien\n",
      "--------------------------------------------------\n",
      "Total Cars: 2\t\tAverage Distance: 0.864 km\n",
      "Total Bikes: 3\t\tAverage Distance: 0.762 km\n",
      "--------------------------------------------------\n",
      "Bike\t781.9 m  \tMeiselmarkt\n",
      "Bike\t918.5 m  \tOttakring U3\n",
      "Car\t866.5 m  \tGutraterplatz 4\n",
      "Bike\t587.1 m  \tSchuhmeierplatz\n",
      "Car\t863.2 m  \tMeiselstraße 19\n",
      "\n",
      "\n",
      "Universität für angewandte Kunst\n",
      "--------------------------------------------------\n",
      "Total Cars: 6\t\tAverage Distance: 0.743 km\n",
      "Total Bikes: 11\t\tAverage Distance: 0.721 km\n",
      "--------------------------------------------------\n",
      "Bike\t844.0 m  \tRadetzkyplatz\n",
      "Bike\t783.1 m  \tSchwedenplatz\n",
      "Car\t763.2 m  \tParkring 12A\n",
      "Car\t980.9 m  \tReisnerstraße 35\n",
      "Bike\t875.4 m  \tJohannesgasse\n",
      "Bike\t324.6 m  \tStadtpark Stubenring\n",
      "Bike\t926.7 m  \tSalmgasse\n",
      "Bike\t372.3 m  \tWien Mitte\n",
      "Car\t717.6 m  \tSeidlgasse 35\n",
      "Bike\t876.4 m  \tNepomukgasse\n",
      "Bike\t741.8 m  \tBahngasse\n",
      "Car\t418.6 m  \tInvalidenstraße 5\n",
      "Car\t958.7 m  \tRotensterngasse 23\n",
      "Bike\t340.8 m  \tJulius Raab Platz\n",
      "Bike\t989.5 m  \tStephansplatz\n",
      "Bike\t858.6 m  \tKarmeliterplatz\n",
      "Car\t619.3 m  \tPfefferhofgasse 8 /2\n",
      "\n",
      "\n",
      "Universität Wien Hauptgebäude\n",
      "--------------------------------------------------\n",
      "Total Cars: 5\t\tAverage Distance: 0.579 km\n",
      "Total Bikes: 11\t\tAverage Distance: 0.628 km\n",
      "--------------------------------------------------\n",
      "Bike\t895.0 m  \tWeghuberpark\n",
      "Bike\t337.2 m  \tRathausplatz\n",
      "Bike\t896.4 m  \tBerggasse\n",
      "Car\t799.8 m  \tAuersbergstraße ggü. 17\n",
      "Bike\t736.5 m  \tWallnerstraße\n",
      "Bike\t696.0 m  \tVolksgarten\n",
      "Bike\t113.0 m  \tUniversitätsring\n",
      "Car\t469.0 m  \tFreyung\n",
      "Car\t752.2 m  \tBerggasse 26\n",
      "Car\t129.3 m  \tSigmund Freud Park\n",
      "Bike\t866.1 m  \tBauernfeldplatz\n",
      "Bike\t925.4 m  \tBoltzmanngasse\n",
      "Bike\t674.7 m  \tFrankhplatz\n",
      "Bike\t177.9 m  \tSigmund Freud Park\n",
      "Car\t749.5 m  \tFlorianigasse 5\n",
      "Bike\t596.9 m  \tFriedrich Schmidtplatz\n",
      "\n",
      "\n",
      "Medizinische Universität Wien\n",
      "--------------------------------------------------\n",
      "Total Cars: 5\t\tAverage Distance: 0.579 km\n",
      "Total Bikes: 9\t\tAverage Distance: 0.648 km\n",
      "--------------------------------------------------\n",
      "Bike\t921.8 m  \tMichelbeuern\n",
      "Car\t509.6 m  \tAlser Straße 21\n",
      "Bike\t90.21 m  \tSensengasse\n",
      "Bike\t572.1 m  \tWähringer Straße U6\n",
      "Car\t839.8 m  \tFlorianigasse 5\n",
      "Car\t236.6 m  \tWilhelm-Exner Gasse 8\n",
      "Bike\t689.0 m  \tMarkthalle Alsergrund\n",
      "Car\t639.1 m  \tSechsschimmelgasse 1\n",
      "Bike\t950.9 m  \tBauernfeldplatz\n",
      "Car\t671.0 m  \tWähringer Straße 71-73\n",
      "Bike\t521.8 m  \tBoltzmanngasse\n",
      "Bike\t609.5 m  \tFrankhplatz\n",
      "Bike\t725.2 m  \tLöblichgasse\n",
      "Bike\t753.6 m  \tAlser Straße/Feldgasse\n",
      "\n",
      "\n"
     ]
    }
   ],
   "source": [
    "for unikey in uniname.keys():\n",
    "    print(uniname.get(unikey) +\"\\n\" + \"-\"*50)\n",
    "    if (int(disto[unikey].get('st_car')) or int(disto[unikey].get('st_bike'))) > 1:\n",
    "        print( \"Total Cars: \" + str(disto[unikey].get('st_car')) +\"\\t\\tAverage Distance: \"+str(disto[unikey].get('st_caravg'))[0:5]+\" km\")\n",
    "        print( \"Total Bikes: \" + str(disto[unikey].get('st_bike')) +\"\\t\\tAverage Distance: \"+str(disto[unikey].get('st_bikeavg'))[0:5]+\" km\")\n",
    "        print(\"-\"*50)\n",
    "    for k, v in disto[unikey].items():      \n",
    "        if k in caridadress.keys():\n",
    "            id = caridadress.get(k)\n",
    "            type = 'Car'\n",
    "        if k in bikeidadress.keys():\n",
    "            id = bikeidadress.get(k)\n",
    "            type = 'Bike'\n",
    "\n",
    "        if k[0:3] != 'st_':\n",
    "            print(type +\"\\t\"+ str(v*1000)[0:5] +\" m  \\t\" +id)\n",
    "    print(\"\\n\")"
   ]
  },
  {
   "cell_type": "code",
   "execution_count": null,
   "metadata": {
    "collapsed": true
   },
   "outputs": [],
   "source": []
  },
  {
   "cell_type": "markdown",
   "metadata": {},
   "source": [
    "# Open Todo for future work"
   ]
  },
  {
   "cell_type": "markdown",
   "metadata": {},
   "source": [
    "## Add further data sets\n",
    "- Subway stations, bus stations,\n",
    "- parking garages and number of spots\n",
    "- regular parking spaces and bike posts\n",
    "\n",
    "## Categorize Overlaps (?) \n",
    "\n",
    "## Store final results in a sensible manner"
   ]
  }
 ],
 "metadata": {
  "kernelspec": {
   "display_name": "Python 3",
   "language": "python",
   "name": "python3"
  },
  "language_info": {
   "codemirror_mode": {
    "name": "ipython",
    "version": 3
   },
   "file_extension": ".py",
   "mimetype": "text/x-python",
   "name": "python",
   "nbconvert_exporter": "python",
   "pygments_lexer": "ipython3",
   "version": "3.5.1"
  }
 },
 "nbformat": 4,
 "nbformat_minor": 1
}
