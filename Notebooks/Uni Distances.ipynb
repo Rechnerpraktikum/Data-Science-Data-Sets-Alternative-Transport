{
 "cells": [
  {
   "cell_type": "code",
   "execution_count": 14,
   "metadata": {
    "collapsed": true
   },
   "outputs": [],
   "source": [
    "import csv\n",
    "import os\n",
    "import math"
   ]
  },
  {
   "cell_type": "code",
   "execution_count": 15,
   "metadata": {
    "collapsed": false
   },
   "outputs": [
    {
     "data": {
      "text/plain": [
       "{'1545931': 'Wirtschaftsuniversität Wien',\n",
       " '1546113': 'Universität für Musik und darstellende Kunst Wien',\n",
       " '1546123': 'Universität für angewandte Kunst',\n",
       " '1546137': 'Medizinische Universität Wien',\n",
       " '1546148': 'Universität für Bodenkultur Wien',\n",
       " '1546202': 'Technische Universität Wien',\n",
       " '1546253': 'Campus der Universität Wien',\n",
       " '1546266': 'Webster University Vienna',\n",
       " '1546291': 'Universität Wien Hauptgebäude',\n",
       " '1546292': 'Universitätssportzentrum Wien'}"
      ]
     },
     "execution_count": 15,
     "metadata": {},
     "output_type": "execute_result"
    }
   ],
   "source": [
    "uniname = {}\n",
    "with open('./dictionaries/uniname.csv', 'r') as f:\n",
    "    file = csv.reader(f, delimiter=\",\")\n",
    "    for row in file:\n",
    "        uniname[row[0]]=row[1]\n",
    "uniname"
   ]
  },
  {
   "cell_type": "code",
   "execution_count": 16,
   "metadata": {
    "collapsed": false,
    "scrolled": true
   },
   "outputs": [],
   "source": [
    "unigps = {}\n",
    "with open('./dictionaries/unigps.csv', 'r') as f:\n",
    "    file = csv.reader(f, delimiter=\",\")\n",
    "    for row in file:\n",
    "        unigps[row[0]]=row[1]\n",
    "#unigps"
   ]
  },
  {
   "cell_type": "code",
   "execution_count": 17,
   "metadata": {
    "collapsed": false
   },
   "outputs": [
    {
     "data": {
      "text/plain": [
       "{'1545931': '48.21384341856702,16.408860446502068',\n",
       " '1546113': '48.196989050609844,16.38231295437089',\n",
       " '1546123': '48.20838710235376,16.38293943118496',\n",
       " '1546137': '48.21963565071546,16.351735473671383',\n",
       " '1546148': '48.23654607282594,16.337577480698467',\n",
       " '1546202': '48.198976375914846,16.369895225486264',\n",
       " '1546253': '48.21624134156441,16.351350792743386',\n",
       " '1546266': '48.223429445296574,16.423918403848166',\n",
       " '1546291': '48.213012828415096,16.360851928870705',\n",
       " '1546292': '48.2054889397581,16.317331757786384'}"
      ]
     },
     "execution_count": 17,
     "metadata": {},
     "output_type": "execute_result"
    }
   ],
   "source": [
    "unigpsloc = {}\n",
    "for k, v in uniname.items():\n",
    "    if k in unigps.keys():\n",
    "        unigpsloc[k] = unigps.get(k)\n",
    "unigpsloc"
   ]
  },
  {
   "cell_type": "markdown",
   "metadata": {},
   "source": [
    "## Write Unigpsloc Dict"
   ]
  },
  {
   "cell_type": "code",
   "execution_count": 18,
   "metadata": {
    "collapsed": false
   },
   "outputs": [
    {
     "data": {
      "text/plain": [
       "{'1545931': '48.21384341856702,16.408860446502068',\n",
       " '1546113': '48.196989050609844,16.38231295437089',\n",
       " '1546123': '48.20838710235376,16.38293943118496',\n",
       " '1546137': '48.21963565071546,16.351735473671383',\n",
       " '1546148': '48.23654607282594,16.337577480698467',\n",
       " '1546202': '48.198976375914846,16.369895225486264',\n",
       " '1546253': '48.21624134156441,16.351350792743386',\n",
       " '1546266': '48.223429445296574,16.423918403848166',\n",
       " '1546291': '48.213012828415096,16.360851928870705',\n",
       " '1546292': '48.2054889397581,16.317331757786384'}"
      ]
     },
     "execution_count": 18,
     "metadata": {},
     "output_type": "execute_result"
    }
   ],
   "source": [
    "# Write Unigpsloc Dict\n",
    "with open('./dictionaries/unigpsloc.csv', 'w', newline='') as csvfile:\n",
    "    writer = csv.writer(csvfile, delimiter=',')\n",
    "    for k, v in unigpsloc.items():\n",
    "        writer.writerow( [ k, v ] )\n",
    "unigpsloc"
   ]
  },
  {
   "cell_type": "code",
   "execution_count": 19,
   "metadata": {
    "collapsed": false,
    "scrolled": true
   },
   "outputs": [],
   "source": [
    "cargps = {}\n",
    "with open('./dictionaries/cargps.csv', 'r') as f:\n",
    "    file = csv.reader(f, delimiter=\",\")\n",
    "    for row in file:\n",
    "        cargps[row[0]]=row[1]\n",
    "#cargps"
   ]
  },
  {
   "cell_type": "code",
   "execution_count": 20,
   "metadata": {
    "collapsed": false
   },
   "outputs": [],
   "source": [
    "bikegps = {}\n",
    "with open('./dictionaries/bikegps.csv', 'r') as f:\n",
    "    file = csv.reader(f, delimiter=\",\")\n",
    "    for row in file:\n",
    "        bikegps[row[0]]=row[1]\n",
    "#bikegps"
   ]
  },
  {
   "cell_type": "markdown",
   "metadata": {},
   "source": [
    "# Calculate Distances"
   ]
  },
  {
   "cell_type": "markdown",
   "metadata": {},
   "source": [
    "Create dictionaries for all Unis, which map ID of car/bike with distance to respective uni.\n",
    "\n",
    "    disto[15446266]\n",
    "        [4166:511]\n",
    "        [4223:772]\n",
    "    disto[1546292]\n",
    "        "
   ]
  },
  {
   "cell_type": "markdown",
   "metadata": {
    "collapsed": false
   },
   "source": [
    "## legacy \n",
    "Attempted to create Dictioniaries in a Loop, failed in doing so - cannot create/access dictionaries from function results. \n",
    "\n",
    "\n",
    "print(unigpsloc.keys())\n",
    "\n",
    "for k in unigpsloc.keys():\n",
    "    str(\"disto\"+k) = {}\n",
    "    \n",
    "disto1546266 = {}\n",
    "disto1546253 = {}\n",
    "disto1546292 = {}\n",
    "disto1546291 = {}\n",
    "disto1546113 = {}\n",
    "disto1545931 = {}\n",
    "disto1546123 = {}\n",
    "disto1546137 = {}\n",
    "disto1546202 = {}\n",
    "disto1546148 = {}"
   ]
  },
  {
   "cell_type": "code",
   "execution_count": 21,
   "metadata": {
    "collapsed": true
   },
   "outputs": [],
   "source": [
    "from math import radians, cos, sin, asin, sqrt\n",
    "def haversine(lon1, lat1, lon2, lat2):\n",
    "    \"\"\"\n",
    "    Calculate the great circle distance between two points \n",
    "    on the earth (specified in decimal degrees)\n",
    "    \"\"\"\n",
    "    # convert decimal degrees to radians \n",
    "    lon1, lat1, lon2, lat2 = map(radians, [lon1, lat1, lon2, lat2])\n",
    "    # haversine formula \n",
    "    dlon = lon2 - lon1 \n",
    "    dlat = lat2 - lat1 \n",
    "    a = sin(dlat/2)**2 + cos(lat1) * cos(lat2) * sin(dlon/2)**2\n",
    "    c = 2 * asin(sqrt(a)) \n",
    "    km = 6367 * c\n",
    "    return km"
   ]
  },
  {
   "cell_type": "markdown",
   "metadata": {},
   "source": [
    "# Calculations"
   ]
  },
  {
   "cell_type": "markdown",
   "metadata": {
    "collapsed": false
   },
   "source": [
    "## legacy - tried doing it for each one since creation in Loop failed.\n",
    "'''\n",
    "disto1545931 = {}\n",
    "gpsx=float(unigpsloc.get('1545931').split(\",\")[0])\n",
    "gpsy=float(unigpsloc.get('1545931').split(\",\")[1])\n",
    "for k, v in cargps.items():\n",
    "    lon2=float(v.split(\",\")[0])\n",
    "    lat2=float(v.split(\",\")[1])\n",
    "    dis = haversine(gpsx, gpsy, lon2, lat2)\n",
    "    if dis < 2.0:\n",
    "        disto1545931[k] = dis\n",
    "for k, v in bikegps.items():\n",
    "    lon2=float(v.split(\",\")[0])\n",
    "    lat2=float(v.split(\",\")[1])\n",
    "    dis = haversine(gpsx, gpsy, lon2, lat2)\n",
    "    if dis < 2.0:\n",
    "        disto1545931[k] = dis\n",
    "    \n",
    "disto1545931  \n",
    "'''\n"
   ]
  },
  {
   "cell_type": "markdown",
   "metadata": {},
   "source": [
    "## Main\n",
    "Create a Dictionary in a Dictionaries, calculate Distance from Universities [first dict] to car and bike gps locations, store all Entries below a certain Radius (here 2km) in the second Dict.\n",
    "This means the second Dictionary in the University Identifier Dict contains car/bike ID's and distance to Uni (in whichever second Dict it is in)\n",
    "BikeID always starts with 11, Car with 4 - so we can sort by that afterwards."
   ]
  },
  {
   "cell_type": "code",
   "execution_count": 42,
   "metadata": {
    "collapsed": false,
    "scrolled": true
   },
   "outputs": [],
   "source": [
    "disto={}\n",
    "for unikey in unigpsloc.keys():\n",
    "    disto[unikey]={} \n",
    "    \n",
    "    gpsx=float(unigpsloc.get(unikey).split(\",\")[0])\n",
    "    gpsy=float(unigpsloc.get(unikey).split(\",\")[1])\n",
    "    \n",
    "    for k, v in cargps.items():\n",
    "        lon2=float(v.split(\",\")[0])\n",
    "        lat2=float(v.split(\",\")[1])\n",
    "        dis = haversine(gpsx, gpsy, lon2, lat2)\n",
    "        if dis < 2.0:\n",
    "            disto[unikey][k] = dis\n",
    "    for k, v in bikegps.items():\n",
    "        lon2=float(v.split(\",\")[0])\n",
    "        lat2=float(v.split(\",\")[1])\n",
    "        dis = haversine(gpsx, gpsy, lon2, lat2)\n",
    "        if dis < 2.0:\n",
    "            disto[unikey][k] = dis\n"
   ]
  },
  {
   "cell_type": "code",
   "execution_count": 43,
   "metadata": {
    "collapsed": false
   },
   "outputs": [
    {
     "name": "stdout",
     "output_type": "stream",
     "text": [
      "Plätze: 9\tWirtschaftsuniversität Wien\n",
      "Plätze: 56\tUniversität Wien Hauptgebäude\n",
      "Plätze: 58\tCampus der Universität Wien\n",
      "Plätze: 54\tMedizinische Universität Wien\n",
      "Plätze: 21\tUniversitätssportzentrum Wien\n",
      "Plätze: 15\tUniversität für Bodenkultur Wien\n",
      "Plätze: 39\tUniversität für Musik und darstellende Kunst Wien\n",
      "Plätze: 4\tWebster University Vienna\n",
      "Plätze: 40\tUniversität für angewandte Kunst\n",
      "Plätze: 50\tTechnische Universität Wien\n"
     ]
    }
   ],
   "source": [
    "for uni in disto.keys():\n",
    "    print(\"Plätze: \" +str(len(disto[str(uni)]))+ \"\\t\" + uniname[uni])"
   ]
  },
  {
   "cell_type": "markdown",
   "metadata": {},
   "source": [
    "## Adding Statistics\n",
    "Adding up Car / Bike Totals, Calculating average Distance\n",
    "\n",
    "st\\_ represents statistics_ to filter by afterwards"
   ]
  },
  {
   "cell_type": "code",
   "execution_count": 51,
   "metadata": {
    "collapsed": false
   },
   "outputs": [
    {
     "name": "stdout",
     "output_type": "stream",
     "text": [
      "Cars: 2  \t~1.063 km  \tBikes: 7  \t~1.102 km\t\tWirtschaftsuniversität Wien\n",
      "Cars: 22  \t~1.347 km  \tBikes: 34  \t~1.262 km\t\tUniversität Wien Hauptgebäude\n",
      "Cars: 24  \t~1.274 km  \tBikes: 34  \t~1.316 km\t\tCampus der Universität Wien\n",
      "Cars: 20  \t~1.229 km  \tBikes: 34  \t~1.317 km\t\tMedizinische Universität Wien\n",
      "Cars: 5  \t~1.174 km  \tBikes: 16  \t~1.409 km\t\tUniversitätssportzentrum Wien\n",
      "Cars: 5  \t~1.400 km  \tBikes: 10  \t~1.522 km\t\tUniversität für Bodenkultur Wien\n",
      "Cars: 15  \t~1.319 km  \tBikes: 24  \t~1.301 km\t\tUniversität für Musik und darstellende Kunst Wien\n",
      "Cars: 2  \t~1.491 km  \tBikes: 2  \t~1.447 km\t\tWebster University Vienna\n",
      "Cars: 13  \t~1.100 km  \tBikes: 27  \t~1.185 km\t\tUniversität für angewandte Kunst\n",
      "Cars: 18  \t~1.348 km  \tBikes: 32  \t~1.320 km\t\tTechnische Universität Wien\n"
     ]
    }
   ],
   "source": [
    "for unikey in disto.keys():\n",
    "    car, bike = 0, 0\n",
    "    carsum, bikesum = 0, 0\n",
    "    for k, v in disto[str(unikey)].items():\n",
    "        if k[0] == '4':       #car\n",
    "            car += 1      \n",
    "            carsum += float(v)\n",
    "        if k[0:2] == '11':    #bike\n",
    "            bike += 1     \n",
    "            bikesum += float(v)\n",
    "    caravg = carsum/car\n",
    "    bikeavg = bikesum/bike\n",
    "    #print(\"Cars: \" + str(car) + \"  \\tBikes: \" + str(bike) + \"  \\tAvgDist: \" + str(avg)[0:5] +\" km\\t\\t\"+ uniname[unikey])\n",
    "    print(\"Cars: \" + str(car) +\"  \\t~\"+ str(caravg)[0:5]+\" km  \\tBikes: \" + str(bike) +\"  \\t~\"+ str(bikeavg)[0:5] +\" km\\t\\t\"+ uniname[unikey])\n",
    "    \n",
    "    disto[unikey]['st_car']     = str(car)\n",
    "    disto[unikey]['st_bike']    = str(bike)\n",
    "    disto[unikey]['st_caravg']  = str(caravg)\n",
    "    disto[unikey]['st_bikeavg'] = str(bikeavg)\n",
    "    disto[unikey]['st_total']   = str(bike + car)"
   ]
  },
  {
   "cell_type": "code",
   "execution_count": 45,
   "metadata": {
    "collapsed": false,
    "scrolled": true
   },
   "outputs": [
    {
     "name": "stdout",
     "output_type": "stream",
     "text": [
      "st_car 22\n",
      "st_bike 34\n",
      "st_bikeavg 1.2627057390234353\n",
      "st_caravg 1.3478353767037192\n",
      "st_total 56\n"
     ]
    }
   ],
   "source": [
    "for k, v in disto['1546291'].items():\n",
    "    if k[0:3] == 'st_':\n",
    "        print(k, v)"
   ]
  },
  {
   "cell_type": "code",
   "execution_count": 46,
   "metadata": {
    "collapsed": false,
    "scrolled": true
   },
   "outputs": [
    {
     "name": "stdout",
     "output_type": "stream",
     "text": [
      "4201\t1.6590645177952748\n",
      "11253\t1.1384145386242672\n",
      "11213\t0.11304465707983724\n",
      "4200\t1.1891390051651736\n",
      "11270\t1.268671303482165\n",
      "11261\t1.7039475487640634\n",
      "11267\t1.3981327407930872\n",
      "11203\t1.37055789044108\n",
      "4196\t0.12932098549392465\n",
      "11240\t1.632638343950048\n",
      "11258\t0.8950766838918074\n",
      "11271\t1.1463466468673345\n",
      "11251\t1.899597335331245\n",
      "4211\t1.7633498641998628\n",
      "11259\t1.8848662372352765\n",
      "4236\t0.4690715208672136\n",
      "4208\t1.424420512108778\n",
      "11208\t0.33720125935904655\n",
      "11237\t1.9077560201016317\n",
      "11207\t1.4630732538220212\n",
      "4205\t1.0915829321347423\n",
      "11212\t1.5417168899635567\n",
      "11262\t0.8661144789722911\n",
      "11266\t1.5524718718882349\n",
      "4174\t1.862051481706106\n",
      "4206\t1.8786954591738438\n",
      "4219\t1.6449941568902697\n",
      "4214\t1.0573053793648928\n",
      "4197\t1.4645964363912516\n",
      "4234\t1.5712605601351253\n",
      "4198\t1.684720693306316\n",
      "11202\t0.5969591277810316\n",
      "11265\t0.6747954543083463\n",
      "11260\t1.618677016920643\n",
      "4235\t1.9392597313146223\n",
      "11269\t1.4491388802837692\n",
      "11201\t0.7365912241406238\n",
      "11263\t0.8964277074938065\n",
      "11242\t1.8171981407510258\n",
      "11255\t1.5174521224886675\n",
      "4215\t1.8657097208527609\n",
      "11268\t1.7784263046161728\n",
      "11210\t1.760768741209588\n",
      "4202\t0.7495210118627758\n",
      "4232\t1.6793682762169715\n",
      "11209\t1.3009889556204008\n",
      "4210\t1.5524042165177578\n",
      "11272\t0.1779042503445643\n",
      "4199\t0.7522569658752941\n",
      "11214\t0.696099345320119\n",
      "11264\t0.925459575136689\n",
      "4195\t1.4244600890157433\n",
      "4204\t0.7998247710931291\n",
      "11314\t1.774836649127052\n",
      "11206\t1.6405312885076966\n",
      "11221\t1.450112642179617\n"
     ]
    }
   ],
   "source": [
    "for k, v in disto['1546291'].items():      \n",
    "    if k[0:3] != 'st_':\n",
    "        #continue \n",
    "        print(str(k) +\"\\t\" + str(v))"
   ]
  }
 ],
 "metadata": {
  "kernelspec": {
   "display_name": "Python 3",
   "language": "python",
   "name": "python3"
  },
  "language_info": {
   "codemirror_mode": {
    "name": "ipython",
    "version": 3
   },
   "file_extension": ".py",
   "mimetype": "text/x-python",
   "name": "python",
   "nbconvert_exporter": "python",
   "pygments_lexer": "ipython3",
   "version": "3.5.1"
  }
 },
 "nbformat": 4,
 "nbformat_minor": 1
}
