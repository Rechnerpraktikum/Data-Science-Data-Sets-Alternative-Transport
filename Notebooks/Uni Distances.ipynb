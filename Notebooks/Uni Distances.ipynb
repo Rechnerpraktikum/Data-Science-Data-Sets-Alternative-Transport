{
 "cells": [
  {
   "cell_type": "code",
   "execution_count": 1,
   "metadata": {
    "collapsed": true
   },
   "outputs": [],
   "source": [
    "import csv\n",
    "import os\n",
    "import math"
   ]
  },
  {
   "cell_type": "code",
   "execution_count": 2,
   "metadata": {
    "collapsed": false
   },
   "outputs": [
    {
     "data": {
      "text/plain": [
       "{'1545931': 'Wirtschaftsuniversität Wien',\n",
       " '1546113': 'Universität für Musik und darstellende Kunst Wien',\n",
       " '1546123': 'Universität für angewandte Kunst',\n",
       " '1546137': 'Medizinische Universität Wien',\n",
       " '1546148': 'Universität für Bodenkultur Wien',\n",
       " '1546202': 'Technische Universität Wien',\n",
       " '1546253': 'Campus der Universität Wien',\n",
       " '1546266': 'Webster University Vienna',\n",
       " '1546291': 'Universität Wien Hauptgebäude',\n",
       " '1546292': 'Universitätssportzentrum Wien'}"
      ]
     },
     "execution_count": 2,
     "metadata": {},
     "output_type": "execute_result"
    }
   ],
   "source": [
    "uniname = {}\n",
    "with open('./dictionaries/uniname.csv', 'r') as f:\n",
    "    file = csv.reader(f, delimiter=\",\")\n",
    "    for row in file:\n",
    "        uniname[row[0]]=row[1]\n",
    "uniname"
   ]
  },
  {
   "cell_type": "code",
   "execution_count": 3,
   "metadata": {
    "collapsed": false,
    "scrolled": true
   },
   "outputs": [],
   "source": [
    "unigps = {}\n",
    "with open('./dictionaries/unigps.csv', 'r') as f:\n",
    "    file = csv.reader(f, delimiter=\",\")\n",
    "    for row in file:\n",
    "        unigps[row[0]]=row[1]\n",
    "#unigps"
   ]
  },
  {
   "cell_type": "code",
   "execution_count": 4,
   "metadata": {
    "collapsed": false
   },
   "outputs": [
    {
     "data": {
      "text/plain": [
       "{'1545931': '48.21384341856702,16.408860446502068',\n",
       " '1546113': '48.196989050609844,16.38231295437089',\n",
       " '1546123': '48.20838710235376,16.38293943118496',\n",
       " '1546137': '48.21963565071546,16.351735473671383',\n",
       " '1546148': '48.23654607282594,16.337577480698467',\n",
       " '1546202': '48.198976375914846,16.369895225486264',\n",
       " '1546253': '48.21624134156441,16.351350792743386',\n",
       " '1546266': '48.223429445296574,16.423918403848166',\n",
       " '1546291': '48.213012828415096,16.360851928870705',\n",
       " '1546292': '48.2054889397581,16.317331757786384'}"
      ]
     },
     "execution_count": 4,
     "metadata": {},
     "output_type": "execute_result"
    }
   ],
   "source": [
    "unigpsloc = {}\n",
    "for k, v in uniname.items():\n",
    "    if k in unigps.keys():\n",
    "        unigpsloc[k] = unigps.get(k)\n",
    "unigpsloc"
   ]
  },
  {
   "cell_type": "markdown",
   "metadata": {},
   "source": [
    "## Write Unigpsloc Dict"
   ]
  },
  {
   "cell_type": "code",
   "execution_count": 5,
   "metadata": {
    "collapsed": false
   },
   "outputs": [
    {
     "data": {
      "text/plain": [
       "{'1545931': '48.21384341856702,16.408860446502068',\n",
       " '1546113': '48.196989050609844,16.38231295437089',\n",
       " '1546123': '48.20838710235376,16.38293943118496',\n",
       " '1546137': '48.21963565071546,16.351735473671383',\n",
       " '1546148': '48.23654607282594,16.337577480698467',\n",
       " '1546202': '48.198976375914846,16.369895225486264',\n",
       " '1546253': '48.21624134156441,16.351350792743386',\n",
       " '1546266': '48.223429445296574,16.423918403848166',\n",
       " '1546291': '48.213012828415096,16.360851928870705',\n",
       " '1546292': '48.2054889397581,16.317331757786384'}"
      ]
     },
     "execution_count": 5,
     "metadata": {},
     "output_type": "execute_result"
    }
   ],
   "source": [
    "# Write Unigpsloc Dict\n",
    "with open('./dictionaries/unigpsloc.csv', 'w', newline='') as csvfile:\n",
    "    writer = csv.writer(csvfile, delimiter=',')\n",
    "    for k, v in unigpsloc.items():\n",
    "        writer.writerow( [ k, v ] )\n",
    "unigpsloc"
   ]
  },
  {
   "cell_type": "code",
   "execution_count": 6,
   "metadata": {
    "collapsed": false,
    "scrolled": true
   },
   "outputs": [],
   "source": [
    "cargps = {}\n",
    "with open('./dictionaries/cargps.csv', 'r') as f:\n",
    "    file = csv.reader(f, delimiter=\",\")\n",
    "    for row in file:\n",
    "        cargps[row[0]]=row[1]\n",
    "#cargps"
   ]
  },
  {
   "cell_type": "code",
   "execution_count": 7,
   "metadata": {
    "collapsed": false
   },
   "outputs": [],
   "source": [
    "bikegps = {}\n",
    "with open('./dictionaries/bikegps.csv', 'r') as f:\n",
    "    file = csv.reader(f, delimiter=\",\")\n",
    "    for row in file:\n",
    "        bikegps[row[0]]=row[1]\n",
    "#bikegps"
   ]
  },
  {
   "cell_type": "markdown",
   "metadata": {},
   "source": [
    "# Calculate Distances"
   ]
  },
  {
   "cell_type": "markdown",
   "metadata": {},
   "source": [
    "Create dictionaries for all Unis, which map ID of car/bike with distance to respective uni.\n",
    "\n",
    "    disto15446266\n",
    "        [4166:511]\n",
    "        [4223:772]\n",
    "    disto1546292\n",
    "        "
   ]
  },
  {
   "cell_type": "code",
   "execution_count": 8,
   "metadata": {
    "collapsed": false
   },
   "outputs": [],
   "source": [
    "#print(unigpsloc.keys())\n",
    "\n",
    "#for k in unigpsloc.keys():\n",
    " #   str(\"disto\"+k) = {}\n",
    "    \n",
    "disto1546266 = {}\n",
    "disto1546253 = {}\n",
    "disto1546292 = {}\n",
    "disto1546291 = {}\n",
    "disto1546113 = {}\n",
    "disto1545931 = {}\n",
    "disto1546123 = {}\n",
    "disto1546137 = {}\n",
    "disto1546202 = {}\n",
    "disto1546148 = {}"
   ]
  },
  {
   "cell_type": "code",
   "execution_count": 9,
   "metadata": {
    "collapsed": true
   },
   "outputs": [],
   "source": [
    "from math import radians, cos, sin, asin, sqrt\n",
    "def haversine(lon1, lat1, lon2, lat2):\n",
    "    \"\"\"\n",
    "    Calculate the great circle distance between two points \n",
    "    on the earth (specified in decimal degrees)\n",
    "    \"\"\"\n",
    "    # convert decimal degrees to radians \n",
    "    lon1, lat1, lon2, lat2 = map(radians, [lon1, lat1, lon2, lat2])\n",
    "    # haversine formula \n",
    "    dlon = lon2 - lon1 \n",
    "    dlat = lat2 - lat1 \n",
    "    a = sin(dlat/2)**2 + cos(lat1) * cos(lat2) * sin(dlon/2)**2\n",
    "    c = 2 * asin(sqrt(a)) \n",
    "    km = 6367 * c\n",
    "    return km"
   ]
  },
  {
   "cell_type": "markdown",
   "metadata": {},
   "source": [
    "## Calculations"
   ]
  },
  {
   "cell_type": "code",
   "execution_count": 15,
   "metadata": {
    "collapsed": false
   },
   "outputs": [
    {
     "data": {
      "text/plain": [
       "{'11217': 0.6141003802387528,\n",
       " '11218': 0.47423845511357016,\n",
       " '11222': 1.9187510060652713,\n",
       " '11223': 1.4170297904741942,\n",
       " '11224': 1.4528058698209612,\n",
       " '11225': 0.16795979319025534,\n",
       " '11230': 1.6731377543681245,\n",
       " '4230': 0.5263688942300341,\n",
       " '4233': 1.6000264932988033}"
      ]
     },
     "execution_count": 15,
     "metadata": {},
     "output_type": "execute_result"
    }
   ],
   "source": [
    "disto1545931 = {}\n",
    "gpsx=float(unigpsloc.get('1545931').split(\",\")[0])\n",
    "gpsy=float(unigpsloc.get('1545931').split(\",\")[1])\n",
    "for k, v in cargps.items():\n",
    "    lon2=float(v.split(\",\")[0])\n",
    "    lat2=float(v.split(\",\")[1])\n",
    "    dis = haversine(gpsx, gpsy, lon2, lat2)\n",
    "    if dis < 2.0:\n",
    "        disto1545931[k] = dis\n",
    "for k, v in bikegps.items():\n",
    "    lon2=float(v.split(\",\")[0])\n",
    "    lat2=float(v.split(\",\")[1])\n",
    "    dis = haversine(gpsx, gpsy, lon2, lat2)\n",
    "    if dis < 2.0:\n",
    "        disto1545931[k] = dis\n",
    "    \n",
    "disto1545931"
   ]
  },
  {
   "cell_type": "code",
   "execution_count": 168,
   "metadata": {
    "collapsed": false,
    "scrolled": true
   },
   "outputs": [],
   "source": [
    "disto={}\n",
    "for unikey in unigpsloc.keys():\n",
    "    disto[unikey]={} \n",
    "    \n",
    "    gpsx=float(unigpsloc.get(unikey).split(\",\")[0])\n",
    "    gpsy=float(unigpsloc.get(unikey).split(\",\")[1])\n",
    "    \n",
    "    for k, v in cargps.items():\n",
    "        lon2=float(v.split(\",\")[0])\n",
    "        lat2=float(v.split(\",\")[1])\n",
    "        dis = haversine(gpsx, gpsy, lon2, lat2)\n",
    "        if dis < 2.0:\n",
    "            disto[unikey][k] = dis\n",
    "    for k, v in bikegps.items():\n",
    "        lon2=float(v.split(\",\")[0])\n",
    "        lat2=float(v.split(\",\")[1])\n",
    "        dis = haversine(gpsx, gpsy, lon2, lat2)\n",
    "        if dis < 2.0:\n",
    "            disto[unikey][k] = dis\n"
   ]
  },
  {
   "cell_type": "code",
   "execution_count": 169,
   "metadata": {
    "collapsed": false
   },
   "outputs": [
    {
     "name": "stdout",
     "output_type": "stream",
     "text": [
      "Plätze: 9\tWirtschaftsuniversität Wien\n",
      "Plätze: 40\tUniversität für angewandte Kunst\n",
      "Plätze: 54\tMedizinische Universität Wien\n",
      "Plätze: 21\tUniversitätssportzentrum Wien\n",
      "Plätze: 4\tWebster University Vienna\n",
      "Plätze: 50\tTechnische Universität Wien\n",
      "Plätze: 58\tCampus der Universität Wien\n",
      "Plätze: 39\tUniversität für Musik und darstellende Kunst Wien\n",
      "Plätze: 56\tUniversität Wien Hauptgebäude\n",
      "Plätze: 15\tUniversität für Bodenkultur Wien\n"
     ]
    }
   ],
   "source": [
    "for uni in disto.keys():\n",
    "    print(\"Plätze: \" +str(len(disto[str(uni)]))+ \"\\t\" + uniname[uni])"
   ]
  },
  {
   "cell_type": "code",
   "execution_count": 181,
   "metadata": {
    "collapsed": false
   },
   "outputs": [
    {
     "name": "stdout",
     "output_type": "stream",
     "text": [
      "Cars: 2  \tBikes: 7  \tAvgDist: 0.820 km\t\tWirtschaftsuniversität Wien\n",
      "Cars: 13  \tBikes: 27  \tAvgDist: 1.077 km\t\tUniversität für angewandte Kunst\n",
      "Cars: 20  \tBikes: 34  \tAvgDist: 1.217 km\t\tMedizinische Universität Wien\n",
      "Cars: 5  \tBikes: 16  \tAvgDist: 1.184 km\t\tUniversitätssportzentrum Wien\n",
      "Cars: 2  \tBikes: 2  \tAvgDist: 0.839 km\t\tWebster University Vienna\n",
      "Cars: 18  \tBikes: 32  \tAvgDist: 1.255 km\t\tTechnische Universität Wien\n",
      "Cars: 24  \tBikes: 34  \tAvgDist: 1.235 km\t\tCampus der Universität Wien\n",
      "Cars: 15  \tBikes: 24  \tAvgDist: 1.215 km\t\tUniversität für Musik und darstellende Kunst Wien\n",
      "Cars: 22  \tBikes: 34  \tAvgDist: 1.230 km\t\tUniversität Wien Hauptgebäude\n",
      "Cars: 5  \tBikes: 10  \tAvgDist: 1.234 km\t\tUniversität für Bodenkultur Wien\n"
     ]
    }
   ],
   "source": [
    "for unikey in disto.keys():\n",
    "    car, bike = 0, 0\n",
    "    sum = 0\n",
    "    for k, v in disto[str(unikey)].items():\n",
    "        if k[0] == '4':\n",
    "            car += 1      #car\n",
    "            sum += float(v)\n",
    "        if k[0:2] == '11':\n",
    "            bike += 1     #bike\n",
    "            sum += float(v)\n",
    "    avg = sum/ len(disto[str(unikey)])\n",
    "    print(\"Cars: \" + str(car) + \"  \\tBikes: \" + str(bike) + \"  \\tAvgDist: \" + str(avg)[0:5] +\" km\\t\\t\"+ uniname[unikey])\n",
    "    \n",
    "    disto[unikey]['ocar'] =  str(car)\n",
    "    disto[unikey]['obike'] = str(bike)\n",
    "    disto[unikey]['oavg'] = str(avg)\n",
    "    disto[unikey]['ototal'] = str(bike+car)"
   ]
  },
  {
   "cell_type": "code",
   "execution_count": 185,
   "metadata": {
    "collapsed": false,
    "scrolled": true
   },
   "outputs": [
    {
     "name": "stdout",
     "output_type": "stream",
     "text": [
      "ocar 22\n",
      "oavg 1.230243617191163\n",
      "obike 34\n",
      "ototal 56\n"
     ]
    }
   ],
   "source": [
    "for k, v in disto['1546291'].items():\n",
    "    if k[0] == 'o':\n",
    "        print(k, v)"
   ]
  },
  {
   "cell_type": "code",
   "execution_count": 189,
   "metadata": {
    "collapsed": false
   },
   "outputs": [
    {
     "name": "stdout",
     "output_type": "stream",
     "text": [
      "4201\t1.6590645177952748\n",
      "11271\t1.1463466468673345\n",
      "4199\t0.7522569658752941\n",
      "11201\t0.7365912241406238\n",
      "11262\t0.8661144789722911\n",
      "11212\t1.5417168899635567\n",
      "11263\t0.8964277074938065\n",
      "4208\t1.424420512108778\n",
      "11272\t0.1779042503445643\n",
      "11207\t1.4630732538220212\n",
      "4198\t1.684720693306316\n",
      "11242\t1.8171981407510258\n",
      "11237\t1.9077560201016317\n",
      "11266\t1.5524718718882349\n",
      "11206\t1.6405312885076966\n",
      "4214\t1.0573053793648928\n",
      "11270\t1.268671303482165\n",
      "4211\t1.7633498641998628\n",
      "11261\t1.7039475487640634\n",
      "11259\t1.8848662372352765\n",
      "11214\t0.696099345320119\n",
      "11265\t0.6747954543083463\n",
      "4197\t1.4645964363912516\n",
      "4219\t1.6449941568902697\n",
      "11258\t0.8950766838918074\n",
      "4232\t1.6793682762169715\n",
      "11268\t1.7784263046161728\n",
      "11203\t1.37055789044108\n",
      "4195\t1.4244600890157433\n",
      "11240\t1.632638343950048\n",
      "11213\t0.11304465707983724\n",
      "4234\t1.5712605601351253\n",
      "11208\t0.33720125935904655\n",
      "11221\t1.450112642179617\n",
      "4210\t1.5524042165177578\n",
      "4200\t1.1891390051651736\n",
      "11253\t1.1384145386242672\n",
      "4236\t0.4690715208672136\n",
      "11255\t1.5174521224886675\n",
      "11209\t1.3009889556204008\n",
      "11210\t1.760768741209588\n",
      "4204\t0.7998247710931291\n",
      "4174\t1.862051481706106\n",
      "4206\t1.8786954591738438\n",
      "4235\t1.9392597313146223\n",
      "11251\t1.899597335331245\n",
      "4196\t0.12932098549392465\n",
      "11269\t1.4491388802837692\n",
      "4202\t0.7495210118627758\n",
      "11202\t0.5969591277810316\n",
      "11314\t1.774836649127052\n",
      "4205\t1.0915829321347423\n",
      "11260\t1.618677016920643\n",
      "11267\t1.3981327407930872\n",
      "11264\t0.925459575136689\n",
      "4215\t1.8657097208527609\n"
     ]
    }
   ],
   "source": [
    "for k, v in disto['1546291'].items():      \n",
    "    if k[0] != 'o':\n",
    "        print(str(k) +\"\\t\" + str(v))"
   ]
  }
 ],
 "metadata": {
  "kernelspec": {
   "display_name": "Python 3",
   "language": "python",
   "name": "python3"
  },
  "language_info": {
   "codemirror_mode": {
    "name": "ipython",
    "version": 3
   },
   "file_extension": ".py",
   "mimetype": "text/x-python",
   "name": "python",
   "nbconvert_exporter": "python",
   "pygments_lexer": "ipython3",
   "version": "3.5.1"
  }
 },
 "nbformat": 4,
 "nbformat_minor": 1
}
