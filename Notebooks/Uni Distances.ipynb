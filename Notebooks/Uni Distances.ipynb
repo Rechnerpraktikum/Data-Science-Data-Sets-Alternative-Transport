{
 "cells": [
  {
   "cell_type": "code",
   "execution_count": 1,
   "metadata": {
    "collapsed": true
   },
   "outputs": [],
   "source": [
    "import csv\n",
    "import os\n",
    "import math"
   ]
  },
  {
   "cell_type": "code",
   "execution_count": 2,
   "metadata": {
    "collapsed": false
   },
   "outputs": [
    {
     "data": {
      "text/plain": [
       "{'1545931': 'Wirtschaftsuniversität Wien',\n",
       " '1546113': 'Universität für Musik und darstellende Kunst Wien',\n",
       " '1546123': 'Universität für angewandte Kunst',\n",
       " '1546137': 'Medizinische Universität Wien',\n",
       " '1546148': 'Universität für Bodenkultur Wien',\n",
       " '1546202': 'Technische Universität Wien',\n",
       " '1546253': 'Campus der Universität Wien',\n",
       " '1546266': 'Webster University Vienna',\n",
       " '1546291': 'Universität Wien Hauptgebäude',\n",
       " '1546292': 'Universitätssportzentrum Wien'}"
      ]
     },
     "execution_count": 2,
     "metadata": {},
     "output_type": "execute_result"
    }
   ],
   "source": [
    "uniname = {}\n",
    "with open('./dictionaries/uniname.csv', 'r') as f:\n",
    "    file = csv.reader(f, delimiter=\",\")\n",
    "    for row in file:\n",
    "        uniname[row[0]]=row[1]\n",
    "uniname"
   ]
  },
  {
   "cell_type": "code",
   "execution_count": 5,
   "metadata": {
    "collapsed": false,
    "scrolled": true
   },
   "outputs": [],
   "source": [
    "unigps = {}\n",
    "with open('./dictionaries/unigps.csv', 'r') as f:\n",
    "    file = csv.reader(f, delimiter=\",\")\n",
    "    for row in file:\n",
    "        unigps[row[0]]=row[1]\n",
    "#unigps"
   ]
  },
  {
   "cell_type": "code",
   "execution_count": 8,
   "metadata": {
    "collapsed": false
   },
   "outputs": [
    {
     "data": {
      "text/plain": [
       "{'1545931': '48.21384341856702,16.408860446502068',\n",
       " '1546113': '48.196989050609844,16.38231295437089',\n",
       " '1546123': '48.20838710235376,16.38293943118496',\n",
       " '1546137': '48.21963565071546,16.351735473671383',\n",
       " '1546148': '48.23654607282594,16.337577480698467',\n",
       " '1546202': '48.198976375914846,16.369895225486264',\n",
       " '1546253': '48.21624134156441,16.351350792743386',\n",
       " '1546266': '48.223429445296574,16.423918403848166',\n",
       " '1546291': '48.213012828415096,16.360851928870705',\n",
       " '1546292': '48.2054889397581,16.317331757786384'}"
      ]
     },
     "execution_count": 8,
     "metadata": {},
     "output_type": "execute_result"
    }
   ],
   "source": [
    "unigpsloc = {}\n",
    "for k, v in uniname.items():\n",
    "    if k in unigps.keys():\n",
    "        unigpsloc[k] = unigps.get(k)\n",
    "unigpsloc"
   ]
  },
  {
   "cell_type": "markdown",
   "metadata": {},
   "source": [
    "## Write Unigpsloc Dict"
   ]
  },
  {
   "cell_type": "code",
   "execution_count": 72,
   "metadata": {
    "collapsed": false
   },
   "outputs": [
    {
     "data": {
      "text/plain": [
       "{'1545931': '48.21384341856702,16.408860446502068',\n",
       " '1546113': '48.196989050609844,16.38231295437089',\n",
       " '1546123': '48.20838710235376,16.38293943118496',\n",
       " '1546137': '48.21963565071546,16.351735473671383',\n",
       " '1546148': '48.23654607282594,16.337577480698467',\n",
       " '1546202': '48.198976375914846,16.369895225486264',\n",
       " '1546253': '48.21624134156441,16.351350792743386',\n",
       " '1546266': '48.223429445296574,16.423918403848166',\n",
       " '1546291': '48.213012828415096,16.360851928870705',\n",
       " '1546292': '48.2054889397581,16.317331757786384'}"
      ]
     },
     "execution_count": 72,
     "metadata": {},
     "output_type": "execute_result"
    }
   ],
   "source": [
    "# Write Unigpsloc Dict\n",
    "with open('./dictionaries/unigpsloc.csv', 'w', newline='') as csvfile:\n",
    "    writer = csv.writer(csvfile, delimiter=',')\n",
    "    for k, v in unigpsloc.items():\n",
    "        writer.writerow( [ k, v ] )\n",
    "unigpsloc"
   ]
  },
  {
   "cell_type": "code",
   "execution_count": 105,
   "metadata": {
    "collapsed": false,
    "scrolled": true
   },
   "outputs": [],
   "source": [
    "cargps = {}\n",
    "with open('./dictionaries/cargps.csv', 'r') as f:\n",
    "    file = csv.reader(f, delimiter=\",\")\n",
    "    for row in file:\n",
    "        cargps[row[0]]=row[1]\n",
    "#cargps"
   ]
  },
  {
   "cell_type": "code",
   "execution_count": 107,
   "metadata": {
    "collapsed": false
   },
   "outputs": [],
   "source": [
    "bikegps = {}\n",
    "with open('./dictionaries/bikegps.csv', 'r') as f:\n",
    "    file = csv.reader(f, delimiter=\",\")\n",
    "    for row in file:\n",
    "        bikegps[row[0]]=row[1]\n",
    "#bikegps"
   ]
  },
  {
   "cell_type": "markdown",
   "metadata": {},
   "source": [
    "# Calculate Distances"
   ]
  },
  {
   "cell_type": "markdown",
   "metadata": {},
   "source": [
    "Create dictionaries for all Unis, which map ID of car/bike with distance to respective uni.\n",
    "\n",
    "    disto15446266\n",
    "        [4166:511]\n",
    "        [4223:772]\n",
    "    disto1546292\n",
    "        "
   ]
  },
  {
   "cell_type": "code",
   "execution_count": 113,
   "metadata": {
    "collapsed": false
   },
   "outputs": [],
   "source": [
    "#print(unigpsloc.keys())\n",
    "\n",
    "#for k in unigpsloc.keys():\n",
    " #   str(\"disto\"+k) = {}\n",
    "    \n",
    "disto1546266 = {}\n",
    "disto1546253 = {}\n",
    "disto1546292 = {}\n",
    "disto1546291 = {}\n",
    "disto1546113 = {}\n",
    "disto1545931 = {}\n",
    "disto1546123 = {}\n",
    "disto1546137 = {}\n",
    "disto1546202 = {}\n",
    "disto1546148 = {}"
   ]
  },
  {
   "cell_type": "code",
   "execution_count": 41,
   "metadata": {
    "collapsed": true
   },
   "outputs": [],
   "source": [
    "from math import radians, cos, sin, asin, sqrt\n",
    "def haversine(lon1, lat1, lon2, lat2):\n",
    "    \"\"\"\n",
    "    Calculate the great circle distance between two points \n",
    "    on the earth (specified in decimal degrees)\n",
    "    \"\"\"\n",
    "    # convert decimal degrees to radians \n",
    "    lon1, lat1, lon2, lat2 = map(radians, [lon1, lat1, lon2, lat2])\n",
    "    # haversine formula \n",
    "    dlon = lon2 - lon1 \n",
    "    dlat = lat2 - lat1 \n",
    "    a = sin(dlat/2)**2 + cos(lat1) * cos(lat2) * sin(dlon/2)**2\n",
    "    c = 2 * asin(sqrt(a)) \n",
    "    km = 6367 * c\n",
    "    return km"
   ]
  },
  {
   "cell_type": "markdown",
   "metadata": {},
   "source": [
    "## Calculations"
   ]
  },
  {
   "cell_type": "code",
   "execution_count": 110,
   "metadata": {
    "collapsed": false
   },
   "outputs": [
    {
     "data": {
      "text/plain": [
       "{'11217': 0.6141003802387528,\n",
       " '11218': 0.47423845511357016,\n",
       " '11222': 1.9187510060652713,\n",
       " '11223': 1.4170297904741942,\n",
       " '11224': 1.4528058698209612,\n",
       " '11225': 0.16795979319025534,\n",
       " '11230': 1.6731377543681245,\n",
       " '4230': 0.5263688942300341,\n",
       " '4233': 1.6000264932988033}"
      ]
     },
     "execution_count": 110,
     "metadata": {},
     "output_type": "execute_result"
    }
   ],
   "source": [
    "disto1545931 = {}\n",
    "gpsx=float(unigpsloc.get('1545931').split(\",\")[0])\n",
    "gpsy=float(unigpsloc.get('1545931').split(\",\")[1])\n",
    "for k, v in cargps.items():\n",
    "    lon2=float(v.split(\",\")[0])\n",
    "    lat2=float(v.split(\",\")[1])\n",
    "    dis = haversine(gpsx, gpsy, lon2, lat2)\n",
    "    if dis < 2.0:\n",
    "        disto1545931[k] = dis\n",
    "for k, v in bikegps.items():\n",
    "    lon2=float(v.split(\",\")[0])\n",
    "    lat2=float(v.split(\",\")[1])\n",
    "    dis = haversine(gpsx, gpsy, lon2, lat2)\n",
    "    if dis < 2.0:\n",
    "        disto1545931[k] = dis\n",
    "    \n",
    "disto1545931"
   ]
  },
  {
   "cell_type": "code",
   "execution_count": null,
   "metadata": {
    "collapsed": true
   },
   "outputs": [],
   "source": []
  }
 ],
 "metadata": {
  "kernelspec": {
   "display_name": "Python 3",
   "language": "python",
   "name": "python3"
  },
  "language_info": {
   "codemirror_mode": {
    "name": "ipython",
    "version": 3
   },
   "file_extension": ".py",
   "mimetype": "text/x-python",
   "name": "python",
   "nbconvert_exporter": "python",
   "pygments_lexer": "ipython3",
   "version": "3.5.1"
  }
 },
 "nbformat": 4,
 "nbformat_minor": 1
}
