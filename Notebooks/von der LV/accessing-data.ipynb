{
 "cells": [
  {
   "cell_type": "markdown",
   "metadata": {},
   "source": [
    "## Accessing Data: the Python Way\n",
    "\n",
    "In this part, we cover two data access methods\n",
    "\n",
    "1. Loading data from disk\n",
    "\n",
    "2. Loading data from a Web resource (URL)\n",
    "\n",
    "We will also learn how to *guess* the file format by inspecting the *metadata*  and *the content* of the retrieved data.\n",
    "\n",
    "## Python3: Opening and Closing data streams\n",
    "\n",
    "The typical steps involved in consuming data are:\n",
    "1. Open a stream to read the data ( either from file or HTTP)\n",
    "\n",
    "2. Consume the content (e.g. loading the whole content or parts of it)\n",
    "\n",
    "3. Closing the stream to free up resources:\n",
    "\n",
    "  * files: allow other processes to access the file (Exception *File used by another programm*)\n",
    "\n",
    "  * HTTP: closing a stream allows to reuse connections\n",
    "\n",
    "\n",
    "## Python3: Automatically Closing data streams\n",
    "\n",
    "The **with** statement s used to wrap the execution of a block with methods defined by a context manager.\n",
    "This allows common try...except...finally usage patterns to be encapsulated for convenient reuse.\n",
    "\n",
    "Typical use-case : automatically ensure that streams are closed.\n",
    "\n",
    "Other use cases: timing of functions, printing of logs at the end of  a call,"
   ]
  },
  {
   "cell_type": "markdown",
   "metadata": {},
   "source": [
    "        with COMMAND as C:\n",
    "          #work with C\n"
   ]
  },
  {
   "cell_type": "markdown",
   "metadata": {},
   "source": [
    "## Loading files from disk\n",
    "\n",
    " Given that a file is stored on the local machine, we can access the file and inspect or load its content.\n",
    "\n",
    " There are typically two ways to read the content of a file:\n",
    "\n",
    "1. Load the whole content of the file and store it in a variable for further processing\n",
    "\n",
    "2. Read the file line by line (e.g., if files are large)\n",
    "\n",
    "See also Chapter 7.2 in the [Python3 tutorial](https://docs.python.org/3/tutorial/inputoutput.html#reading-and-writing-files)\n",
    "\n",
    "## File location\n",
    "\n",
    "We need the location of the file on disk to load its content.\n",
    "\n",
    "An **absolute file path** points to the same location in a file system, regardless of the current working directory. To do that, it must include the root directory."
   ]
  },
  {
   "cell_type": "markdown",
   "metadata": {},
   "source": [
    "        Windows: C:\\Users\\jumbrich\\data\\course-syllabus.txt\n",
    "        Linux/Mac: /home/jumbrich/data/course-syllabus.txt\n"
   ]
  },
  {
   "cell_type": "markdown",
   "metadata": {},
   "source": [
    "A **relative path** points to the relative location of a file based on the given/current working directory."
   ]
  },
  {
   "cell_type": "markdown",
   "metadata": {},
   "source": [
    "        Windows:\n",
    "        Linux: ~/data/course-syllabus.txt #starting from home directory\n",
    "        Linux: ../data/course-syllabus.txt #go one folder back, then into data\n"
   ]
  },
  {
   "cell_type": "markdown",
   "metadata": {},
   "source": [
    "## Function:  **open()**"
   ]
  },
  {
   "cell_type": "code",
   "execution_count": 1,
   "metadata": {
    "collapsed": false
   },
   "outputs": [],
   "source": [
    "help( open )"
   ]
  },
  {
   "cell_type": "markdown",
   "metadata": {},
   "source": [
    "## Read content of file into memory\n",
    "\n",
    "the function **read()** reads the entire contents of the file will be read and returned"
   ]
  },
  {
   "cell_type": "code",
   "execution_count": 2,
   "metadata": {
    "collapsed": false
   },
   "outputs": [],
   "source": [
    "filePath=\"./data/course-syllabus.txt\"\n",
    "#open file in read mode\n",
    "f = open(filePath) # or open(filePath, 'r')\n",
    "\n",
    "print(\"Full Output of content:\")\n",
    "content= f.read() # read the whole content and store it in variable content\n",
    "print(content)\n",
    "f.close() # do not forget to close the file\n",
    "\n",
    "#better\n",
    "with open(filePath) as f: # Carefully with indention and tabs\n",
    "    content = f.read()\n",
    "    print(content)"
   ]
  },
  {
   "cell_type": "markdown",
   "metadata": {},
   "source": [
    "## Read a single line from a file\n",
    "\n",
    "The function **readline()** reads a single line from the file; a newline character (\\n) is left at the end of the string"
   ]
  },
  {
   "cell_type": "code",
   "execution_count": 3,
   "metadata": {
    "collapsed": false
   },
   "outputs": [],
   "source": [
    "filePath=\"./data/course-syllabus.txt\"\n",
    "#open file in read mode\n",
    "with open(filePath) as f:# or open(filePath, 'r')\n",
    "    print(\"first line: \"+f.readline())\n",
    "    print(\"second line: \"+f.readline())\n",
    "    print(\"third line: \"+f.readline())"
   ]
  },
  {
   "cell_type": "markdown",
   "metadata": {},
   "source": [
    "## Read lines from a file using a loop"
   ]
  },
  {
   "cell_type": "code",
   "execution_count": 4,
   "metadata": {
    "collapsed": false
   },
   "outputs": [],
   "source": [
    "filePath=\"./data/course-syllabus.txt\"\n",
    "#open file in read mode\n",
    "with open(filePath)  as f:# or open(filePath, 'r')\n",
    "    for line in f: # loop over every line in the file (separated by newline)\n",
    "        print(line)"
   ]
  },
  {
   "cell_type": "markdown",
   "metadata": {},
   "source": [
    "## Resource-saving way to guess the format of a file\n",
    "\n",
    "**Question.**\n",
    "\n",
    "How can we guess the format of a file with as few resources as possible?\n",
    "\n",
    "\n",
    "\n",
    "* Inspect the file extension of the file , if availabel (e.g. *.txt*)\n",
    "\n",
    "* read the first couple of lines, print them and see if you detect any known format syntax patterns (e.g. JSON brackets, CSV delimiters)\n",
    "\n",
    "## Getting the file size of a local file"
   ]
  },
  {
   "cell_type": "code",
   "execution_count": 5,
   "metadata": {
    "collapsed": false
   },
   "outputs": [],
   "source": [
    "filePath=\"./data/course-syllabus.txt\"\n",
    "\n",
    "import os\n",
    "fSize = os.path.getsize(filePath)\n",
    "\n",
    "print('File size of'+filePath+' is: '+str(fSize) + ' Bytes') # typcasting of an int to str for str concatination"
   ]
  },
  {
   "cell_type": "markdown",
   "metadata": {},
   "source": [
    "## Loading data from a Web resource (URL)\n",
    "\n",
    "There exists many libaries in Python 3 to interact with Web resources using the HTTP protocol.\n",
    "* the [urllib library](https://docs.python.org/dev/library/urllib.html) is preinstalled in any Python installation\n",
    "\n",
    "* the **[requests library](http://docs.python-requests.org/en/master/)**, requires to be installed, but is easier to use\n",
    "\n",
    "**Some warnings ;).**\n",
    "\n",
    "Warning: Recreational use of other HTTP libraries may result in dangerous side-effects, including: security vulnerabilities, verbose code, reinventing the wheel, constantly reading documentation, depression, headaches, or even death. [[requests library index page](http://docs.python-requests.org/en/master/)]\n",
    "\n",
    "\n",
    "\n",
    "## HTTP Protocol Operations\n",
    "\n",
    "**The HTTP protocol is the foundation of data communication for the World Wide Web**\n",
    "\n",
    "The current version of the protocol is [HTTP1.1](https://tools.ietf.org/html/rfc2616).\n",
    "\n",
    "A client (browser or library) typically uses the **HTTP GET**  operation to retrieve information about and the content of a HTTP URL.\n",
    "\n",
    "## Loading data from a Web resource: urllib\n",
    "\n",
    "First things first. We need to load the library to be able to use it"
   ]
  },
  {
   "cell_type": "code",
   "execution_count": 6,
   "metadata": {
    "collapsed": false
   },
   "outputs": [],
   "source": [
    "import urllib.request"
   ]
  },
  {
   "cell_type": "markdown",
   "metadata": {},
   "source": [
    "Afterwards we need to open a connection to the HTTP Server and request the content of the URL"
   ]
  },
  {
   "cell_type": "markdown",
   "metadata": {},
   "source": [
    "        urllib.request.urlopen( URL )\n"
   ]
  },
  {
   "cell_type": "markdown",
   "metadata": {},
   "source": [
    "## Urllib: accessing a URL"
   ]
  },
  {
   "cell_type": "code",
   "execution_count": 7,
   "metadata": {
    "collapsed": false
   },
   "outputs": [],
   "source": [
    "import urllib.request\n",
    "url=\"http://data.wu.ac.at/datascience/dataprocessing1_ws17/notebooks/data/course-syllabus.txt\"\n",
    "with urllib.request.urlopen(url) as f:\n",
    "    print(f.read())"
   ]
  },
  {
   "cell_type": "markdown",
   "metadata": {},
   "source": [
    "## Loading data from a Web resource: requests library\n",
    "\n",
    "First things first.\n",
    "<newline>\n",
    "We need to install and then load the library to be able to use it.\n",
    "<newline>\n",
    "the requests library is installed by default on the course container and in any anaconda installation."
   ]
  },
  {
   "cell_type": "code",
   "execution_count": 8,
   "metadata": {
    "collapsed": false
   },
   "outputs": [],
   "source": [
    "import requests"
   ]
  },
  {
   "cell_type": "markdown",
   "metadata": {},
   "source": [
    "Afterwards we need to open a connection to the HTTP Server and request the content of the URL"
   ]
  },
  {
   "cell_type": "markdown",
   "metadata": {},
   "source": [
    "        requests.get( URL )\n"
   ]
  },
  {
   "cell_type": "markdown",
   "metadata": {},
   "source": [
    "## Requests: accessing a URL"
   ]
  },
  {
   "cell_type": "code",
   "execution_count": 9,
   "metadata": {
    "collapsed": false
   },
   "outputs": [],
   "source": [
    "import requests\n",
    "url=\"http://data.wu.ac.at/datascience/dataprocessing1_ws17/notebooks/data/course-syllabus.txt\"\n",
    "\n",
    "r = requests.get( url )\n",
    "content=r.text\n",
    "print(content)"
   ]
  },
  {
   "cell_type": "markdown",
   "metadata": {},
   "source": [
    "## Guessing the file format via the URL\n",
    "\n",
    "\n",
    "* patterns in the URL\n",
    "\n",
    "  * file extension: <http://data.wu.ac.at/.../course-syllabus.txt> (**.txt**)\n",
    "\n",
    "  * query path: <http://..../api/courses>?format=csv (**format=csv**)\n",
    "\n",
    "\n",
    "* HTTP Response Header\n",
    "\n",
    "  * contains not only information about the file format\n",
    "\n",
    "\n",
    "## HTTP Response Header\n",
    "\n",
    "Every HTTP operation has a HTTP request and response header.\n",
    "<newline>\n",
    "A HTTP response header is a message from a HTTP server for a request.\n",
    "<newline>\n",
    "The header message contains:\n",
    "* The [HTTP status code](https://en.wikipedia.org/wiki/List_of_HTTP_status_codes)\n",
    "\n",
    "* The [response header fields](https://en.wikipedia.org/wiki/List_of_HTTP_header_fields#Response_fields)\n",
    "\n",
    "* Empty line\n",
    "\n",
    "* Message body/content\n",
    "\n",
    "## HTTP Response Header Examples"
   ]
  },
  {
   "cell_type": "markdown",
   "metadata": {},
   "source": [
    "        HTTP/1.1 200 OK\n",
    "        Date: Wed, 12 Oct 2016 12:39:12 GMT\n",
    "        Server: Apache/2.4.18 (Ubuntu) mod_wsgi/4.3.0 Python/2.7.12\n",
    "        Last-Modified: Wed, 12 Oct 2016 07:29:32 GMT\n",
    "        ETag: \"1b3-53ea5f4498d97\"\n",
    "        Accept-Ranges: bytes\n",
    "        Content-Length: 435\n",
    "        Vary: Accept-Encoding\n",
    "        Content-Type: text/plain\n"
   ]
  },
  {
   "cell_type": "markdown",
   "metadata": {},
   "source": [
    "See also [a full list of possible HTTP Response Header fields on Wikipedia](https://en.wikipedia.org/wiki/List_of_HTTP_header_fields)\n",
    "<newline>\n",
    "Interesting header fields: **Content-Type** and **Content-Length**\n",
    "**Notice.**\n",
    "\n",
    "**Python3 is case-sensitive**, meaning that \"Content-Type\" != \"content-type\". Sometimes, header fields might be in lower-case or capitalized\n",
    "\n",
    "\n",
    "\n",
    "## HTTP Response Header with Urllib"
   ]
  },
  {
   "cell_type": "code",
   "execution_count": 10,
   "metadata": {
    "collapsed": false
   },
   "outputs": [],
   "source": [
    "import urllib.request\n",
    "url=\"http://data.wu.ac.at/datascience/dataprocessing1_ws17/notebooks/data/course-syllabus.txt\"\n",
    "req =  urllib.request.Request( url , method=\"HEAD\")  # create a HTTP HEAD request\n",
    "with urllib.request.urlopen(req) as resp:\n",
    "    header = resp.info()\n",
    "    # print the full header\n",
    "    print(\"Header:\")\n",
    "    print(header)\n",
    "\n",
    "    ## print the content-type\n",
    "    print(\"Content-Type:\")\n",
    "    print(header['Content-Type'])\n",
    "\n",
    "    ## print the content-type\n",
    "    print(\"Content-Length in Bytes:\")\n",
    "    print(header['Content-Length'])"
   ]
  },
  {
   "cell_type": "markdown",
   "metadata": {},
   "source": [
    "## HTTP Response Header with Requests"
   ]
  },
  {
   "cell_type": "code",
   "execution_count": 11,
   "metadata": {
    "collapsed": false
   },
   "outputs": [],
   "source": [
    "import requests\n",
    "url=\"http://data.wu.ac.at/datascience/dataprocessing1_ws17/notebooks/data/course-syllabus.txt\"\n",
    "\n",
    "r = requests.head( url ) # would also work with a HTTP Get\n",
    "headerDict=r.headers\n",
    "print(headerDict)"
   ]
  },
  {
   "cell_type": "markdown",
   "metadata": {},
   "source": [
    "## Inspect Request library HTTP Response Headers"
   ]
  },
  {
   "cell_type": "code",
   "execution_count": 12,
   "metadata": {
    "collapsed": false
   },
   "outputs": [],
   "source": [
    "#print all available response header keys\n",
    "print(\"Header\")\n",
    "print(headerDict)\n",
    "\n",
    "#access content-type header\n",
    "print(\"Content-Type:\")\n",
    "print( headerDict['Content-Type'] )\n",
    "\n",
    "#access content-type header\n",
    "print(\"Content-Length in Bytes:\")\n",
    "print( headerDict['Content-Length'] )"
   ]
  }
 ],
 "metadata": {},
 "nbformat": 4,
 "nbformat_minor": 1
}
