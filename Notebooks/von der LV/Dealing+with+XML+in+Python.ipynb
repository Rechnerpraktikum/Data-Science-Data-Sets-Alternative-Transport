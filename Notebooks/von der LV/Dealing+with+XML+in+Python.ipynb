{
 "cells": [
  {
   "cell_type": "markdown",
   "metadata": {},
   "source": [
    "### Dealing with XML in Python\n",
    "\n",
    "There are various ways to deal with XML in Python. \n",
    "The probably easiest for reading XML is to convert XML files to a dictionary and then deal with it just like JSON.\n",
    "\n",
    "Again, there's a package for this, called `xmltodict`.\n",
    "\n",
    "Here's a small example for converting some XML to JSON:"
   ]
  },
  {
   "cell_type": "code",
   "execution_count": 3,
   "metadata": {
    "collapsed": false
   },
   "outputs": [
    {
     "data": {
      "text/plain": [
       "'{\"e\": {\"a\": [\"text\", \"text\"]}}'"
      ]
     },
     "execution_count": 3,
     "metadata": {},
     "output_type": "execute_result"
    }
   ],
   "source": [
    "import xmltodict, json\n",
    "\n",
    "o = xmltodict.parse('<e> <a>text</a> <a>text</a> </e>')\n",
    "json.dumps(o) # '{\"e\": {\"a\": [\"text\", \"text\"]}}'"
   ]
  },
  {
   "cell_type": "markdown",
   "metadata": {},
   "source": [
    "Now let us try loading loading some XML from a URL:"
   ]
  },
  {
   "cell_type": "code",
   "execution_count": 23,
   "metadata": {
    "collapsed": false
   },
   "outputs": [
    {
     "name": "stdout",
     "output_type": "stream",
     "text": [
      "{\n",
      "    \"bookstore\": {\n",
      "        \"book\": [\n",
      "            {\n",
      "                \"@lang\": \"en\",\n",
      "                \"title\": \"The Language Instinct: How the Mind Creates Language (P.S.)\",\n",
      "                \"author\": \"Steven Pinker\",\n",
      "                \"price\": \"7.50\"\n",
      "            },\n",
      "            {\n",
      "                \"@lang\": \"de\",\n",
      "                \"title\": \"Das unbeschriebene Blatt: Die moderne Leugnung der menschlichen Natur\",\n",
      "                \"author\": \"Steven Pinker\",\n",
      "                \"price\": \"29.80\"\n",
      "            },\n",
      "            {\n",
      "                \"@lang\": \"en\",\n",
      "                \"title\": \"The Black Swan: The Impact of the Highly Improbable\",\n",
      "                \"author\": \"Nassim Nicholas Taleb\",\n",
      "                \"price\": \"8.10\"\n",
      "            },\n",
      "            {\n",
      "                \"@lang\": \"fr\",\n",
      "                \"title\": \"L'Etranger\",\n",
      "                \"author\": \"Albert Camus\",\n",
      "                \"price\": \"6.10\"\n",
      "            },\n",
      "            {\n",
      "                \"@lang\": \"de\",\n",
      "                \"title\": \"Einf\\u00fchrung in Python 3\",\n",
      "                \"author\": \"Bernd Klein\",\n",
      "                \"price\": \"24.99\"\n",
      "            },\n",
      "            {\n",
      "                \"@lang\": \"de\",\n",
      "                \"title\": \"Etrusker AG\",\n",
      "                \"author\": \"Bernd Klein\",\n",
      "                \"price\": \"19.99\"\n",
      "            },\n",
      "            {\n",
      "                \"@lang\": \"de\",\n",
      "                \"title\": \"Evariste Galois oder das tragische Scheitern eines Genies\",\n",
      "                \"author\": \"Bernd Klein\",\n",
      "                \"price\": \"9.99\"\n",
      "            }\n",
      "        ]\n",
      "    }\n",
      "}\n"
     ]
    }
   ],
   "source": [
    "import urllib\n",
    "import json\n",
    "\n",
    "f = urllib.request.urlopen('http://polleres.net/teaching/SemWebTech_2012/testdata/buecher.xml')\n",
    "# print(f.read().decode('utf-8'))\n",
    "x=(xmltodict.parse(f.read()))\n",
    "\n",
    "# output json (note that the json.dumps() function also has some built-in pretty print functionality:)\n",
    "print(json.dumps(x,indent=4))\n"
   ]
  },
  {
   "cell_type": "markdown",
   "metadata": {},
   "source": [
    "### An example for SAX\n",
    "\n",
    "Sax is a standard, streaming XML parser, SAX is available in Python in the standard xml module: "
   ]
  },
  {
   "cell_type": "code",
   "execution_count": 24,
   "metadata": {
    "collapsed": false
   },
   "outputs": [
    {
     "name": "stdout",
     "output_type": "stream",
     "text": [
      "bookstore\n",
      "book\n",
      "title\n",
      "author\n",
      "price\n",
      "book\n",
      "title\n",
      "author\n",
      "price\n",
      "book\n",
      "title\n",
      "author\n",
      "price\n",
      "book\n",
      "title\n",
      "author\n",
      "price\n",
      "book\n",
      "title\n",
      "author\n",
      "price\n",
      "book\n",
      "title\n",
      "author\n",
      "price\n",
      "book\n",
      "title\n",
      "author\n",
      "price\n"
     ]
    }
   ],
   "source": [
    "from xml.sax import make_parser, handler\n",
    "\n",
    "class BuecherHandler(handler.ContentHandler):\n",
    "    def startElement(self, name, attrs):\n",
    "        print(name)\n",
    "\n",
    "\n",
    "parser = make_parser()\n",
    "b = BuecherHandler()\n",
    "parser.setContentHandler(b)\n",
    "parser.parse(\"http://polleres.net/teaching/SemWebTech_2012/testdata/buecher.xml\")"
   ]
  },
  {
   "cell_type": "code",
   "execution_count": null,
   "metadata": {
    "collapsed": true
   },
   "outputs": [],
   "source": []
  }
 ],
 "metadata": {
  "kernelspec": {
   "display_name": "Python 3",
   "language": "python",
   "name": "python3"
  },
  "language_info": {
   "codemirror_mode": {
    "name": "ipython",
    "version": 3
   },
   "file_extension": ".py",
   "mimetype": "text/x-python",
   "name": "python",
   "nbconvert_exporter": "python",
   "pygments_lexer": "ipython3",
   "version": "3.5.2"
  }
 },
 "nbformat": 4,
 "nbformat_minor": 1
}
