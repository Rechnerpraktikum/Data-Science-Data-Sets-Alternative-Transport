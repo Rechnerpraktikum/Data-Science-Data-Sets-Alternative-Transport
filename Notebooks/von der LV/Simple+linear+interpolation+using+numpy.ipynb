{
 "cells": [
  {
   "cell_type": "markdown",
   "metadata": {},
   "source": [
    "# Simple linear interpolation using numpy\n",
    "\n",
    "The [numpy](http://www.numpy.org/) package was created for scientific computing with Python. It contains e.g. a powerful N-dimensional array object, and many useful linear algebra functions, and random number capabilities, etc.\n",
    "\n",
    "Particularly, in this notebook we will use the interp() function for simple, linear interpolation of values."
   ]
  },
  {
   "cell_type": "markdown",
   "metadata": {},
   "source": [
    "First, we need to import the numpy package:"
   ]
  },
  {
   "cell_type": "code",
   "execution_count": null,
   "metadata": {
    "collapsed": false
   },
   "outputs": [],
   "source": [
    "import numpy as np"
   ]
  },
  {
   "cell_type": "markdown",
   "metadata": {},
   "source": [
    "The np.interp() function takes three inputs:\n",
    " * a value (or list of values) for which you want to interpolate a function value\n",
    " * a list of values ... \n",
    " * ... their respective function values "
   ]
  },
  {
   "cell_type": "code",
   "execution_count": null,
   "metadata": {
    "collapsed": false
   },
   "outputs": [],
   "source": [
    "xp = [1, 2, 3]\n",
    "fp = [4, 5, 8]\n",
    "print(np.interp(1.5, xp, fp))\n",
    "# We can also use this to interpolate lists of values:\n",
    "print(list(np.interp([10, 1.5, 6], xp, fp)))"
   ]
  },
  {
   "cell_type": "markdown",
   "metadata": {
    "collapsed": true
   },
   "source": [
    "We can use this, for instance to interpolate missing values for missing years in our EUROSTAT urban populations' (urb_cpop1.cdv) dataset. \n",
    "\n",
    "Our goal here is to store the resulting complete matrix in a nested dictionary, such that we can access the interpolated indicator per year, e.g. in order to access the population of Vienna we want to type:\n",
    "\n",
    "    interpolated_dict['DE1001V,AT001C1'][2000]\n",
    "\n",
    "Here's some code that generates such a dictionary:"
   ]
  },
  {
   "cell_type": "code",
   "execution_count": null,
   "metadata": {
    "collapsed": false
   },
   "outputs": [],
   "source": [
    "import csv # for handling csv/tsv files\n",
    "interpolated_dict={}\n",
    "with open('./data/urb_cpop1.tsv') as f:\n",
    "    csvfile = csv.reader(f,delimiter=\"\\t\")\n",
    "    \n",
    "    # The first row contains the years, from the second field onwards... \n",
    "    # which we convert to a list of integers:\n",
    "    years = list(map(int, next(csvfile)[1:]))\n",
    "\n",
    "    # Now we process the second line onwards to populate the dictionary:    \n",
    "    for row in csvfile:\n",
    "        xp=[]\n",
    "        fp=[]\n",
    "        for x,y in enumerate(row[1:]):\n",
    "            if y[0] != \":\":\n",
    "                xp.insert(0,2015-x)\n",
    "                fp.insert(0,float(y.split(' ')[0]))\n",
    "        interpolated_dict[row[0]] = dict(zip(years, np.interp(years,xp,fp)))\n",
    "    "
   ]
  },
  {
   "cell_type": "markdown",
   "metadata": {},
   "source": [
    "Let's test it:"
   ]
  },
  {
   "cell_type": "code",
   "execution_count": null,
   "metadata": {
    "collapsed": false
   },
   "outputs": [],
   "source": [
    "interpolated_dict['DE1001V,DE'][2000]"
   ]
  }
 ],
 "metadata": {
  "anaconda-cloud": {},
  "kernelspec": {
   "display_name": "Python 3",
   "language": "python",
   "name": "python3"
  },
  "language_info": {
   "codemirror_mode": {
    "name": "ipython",
    "version": 3
   },
   "file_extension": ".py",
   "mimetype": "text/x-python",
   "name": "python",
   "nbconvert_exporter": "python",
   "pygments_lexer": "ipython3",
   "version": "3.5.2"
  }
 },
 "nbformat": 4,
 "nbformat_minor": 1
}
