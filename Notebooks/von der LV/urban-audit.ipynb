{
 "cells": [
  {
   "cell_type": "markdown",
   "metadata": {},
   "source": [
    "# City data from Eurostats\n",
    "## Urban Audit\n",
    "We get the data from http://ec.europa.eu/eurostat/statistics-explained/index.php/Statistics_on_European_cities#Cities_.28Urban_Audit.29\n",
    "\n",
    "Looking at the webpage and navigating around, we see an intersting statistics file for \"Population on 1 January by age groups and sex - cities and greater cities (urb_cpop1)\" at http://ec.europa.eu/eurostat/web/cities/data/database\t \n",
    "\n",
    "A local version of this statistic is available at ./data/urb_cpop1.tsv (the fileformat seems to be tsv)"
   ]
  },
  {
   "cell_type": "code",
   "execution_count": 7,
   "metadata": {
    "collapsed": true
   },
   "outputs": [],
   "source": [
    "import os # for getting file size\n",
    "import csv # for handling csv/tsv files"
   ]
  },
  {
   "cell_type": "code",
   "execution_count": 52,
   "metadata": {
    "collapsed": false
   },
   "outputs": [
    {
     "name": "stdout",
     "output_type": "stream",
     "text": [
      "File size of ./data/urb_cpop1.tsv is: 4.1985626220703125 MBytes\n"
     ]
    }
   ],
   "source": [
    "urbanAuditFile=\"./data/urb_cpop1.tsv\"\n",
    "fSize = os.path.getsize(urbanAuditFile)\n",
    "\n",
    "print('File size of '+urbanAuditFile+' is: '+str(fSize/1024/1024) + ' MBytes')"
   ]
  },
  {
   "cell_type": "markdown",
   "metadata": {},
   "source": [
    "Looks like a \"bigger\" file with 4.19MB\n",
    "Lets have a look at the first couple of lines"
   ]
  },
  {
   "cell_type": "code",
   "execution_count": 53,
   "metadata": {
    "collapsed": false
   },
   "outputs": [
    {
     "name": "stdout",
     "output_type": "stream",
     "text": [
      "line1>> indic_ur,cities\\time\t2015 \t2014 \t2013 \t2012 \t2011 \t2010 \t2009 \t2008 \t2007 \t2006 \t2005 \t2004 \t2003 \t2002 \t2001 \t2000 \t1999 \t1998 \t1997 \t1996 \t1995 \t1994 \t1993 \t1992 \t1991 \t1990 \n",
      "line2>> DE1001V,AT\t: \t: \t8451860 \t: \t: \t: \t8355260 \t8318592 \t8282984 \t8254298 \t8201359 \t8140122 \t: \t8083797 \t8032875 \t8011566 \t7992323 \t8075425 \t8067812 \t8054802 \t8039865 \t8015027 \t7962003 \t7867796 \t7795786 \t: \n",
      "line3>> DE1001V,AT001C1\t: \t: \t1741246 \t: \t: \t: \t1687271 \t1674909 \t1661246 \t1652449 \t1632569 \t1598626 \t: \t: \t1550123 \t1615438 e\t1608144 e\t1606843 e\t1609631 e\t1595402 e\t: \t: \t: \t: \t1539848 \t: \n",
      "line4>> DE1001V,AT002C1\t: \t: \t265778 \t: \t: \t: \t253994 \t250738 \t247624 \t244997 \t241298 \t235477 \t: \t: \t226244 \t: \t: \t: \t: \t: \t: \t: \t: \t: \t237810 \t: \n",
      "line5>> DE1001V,AT003C1\t: \t: \t191501 \t: \t: \t: \t189122 \t188593 \t188393 \t187936 \t186781 \t185530 \t: \t: \t183504 \t: \t: \t: \t: \t: \t: \t: \t: \t: \t203044 \t: \n",
      "line6>> DE1001V,AT004C1\t: \t: \t145871 \t: \t: \t: \t147732 \t147169 \t146845 \t146484 \t145124 \t145680 \t: \t: \t142662 \t: \t: \t: \t: \t: \t: \t: \t: \t: \t: \t: \n",
      "line7>> DE1001V,AT005C1\t: \t: \t122458 \t: \t: \t: \t118035 \t117150 \t116370 \t115643 \t114438 \t114561 \t: \t: \t113392 \t: \t: \t: \t: \t: \t: \t: \t: \t: \t: \t: \n",
      "line8>> DE1001V,AT006C1\t: \t: \t95450 \t: \t: \t: \t: \t: \t: \t: \t: \t: \t: \t: \t: \t: \t: \t: \t: \t: \t: \t: \t: \t: \t: \t: \n",
      "line9>> DE1001V,BE\t: \t11203992 \t11161642 \t11094850 \t11000638 \t10839905 \t10753080 \t10666866 \t10584534 \t10511382 \t10445852 \t10396421 \t10355844 \t10309725 \t10263414 \t10239085 \t10213752 \t10192264 \t10170226 \t10143047 \t10130574 \t10100631 \t10068319 \t10021997 \t9986975 \t: \n",
      "total lines 35814\n"
     ]
    }
   ],
   "source": [
    "with open(urbanAuditFile) as f:\n",
    "    content=f.read()\n",
    "    c=0\n",
    "    for line in content.split(\"\\n\"): \n",
    "        c+=1\n",
    "        if c<10:\n",
    "            print(\"line\"+str(c)+\">> \"+line)\n",
    "print(\"total lines \"+str(c))"
   ]
  },
  {
   "cell_type": "markdown",
   "metadata": {},
   "source": [
    "Interesting, this might be a tab-separated (\"\\t\") file. There are no \",\" and the formatting indicates some tabs. \n",
    "The lines seems to have 27 elements (first column as indicator, followed by 26 columns for 2015 - 1990)\n",
    "\n",
    "Lets parse this file as CSV files and we get nice \"rows\""
   ]
  },
  {
   "cell_type": "code",
   "execution_count": 54,
   "metadata": {
    "collapsed": false
   },
   "outputs": [
    {
     "name": "stdout",
     "output_type": "stream",
     "text": [
      "['indic_ur,cities\\\\time', '2015 ', '2014 ', '2013 ', '2012 ', '2011 ', '2010 ', '2009 ', '2008 ', '2007 ', '2006 ', '2005 ', '2004 ', '2003 ', '2002 ', '2001 ', '2000 ', '1999 ', '1998 ', '1997 ', '1996 ', '1995 ', '1994 ', '1993 ', '1992 ', '1991 ', '1990 ']\n",
      "Lenght of row 27\n",
      "['DE1001V,AT', ': ', ': ', '8451860 ', ': ', ': ', ': ', '8355260 ', '8318592 ', '8282984 ', '8254298 ', '8201359 ', '8140122 ', ': ', '8083797 ', '8032875 ', '8011566 ', '7992323 ', '8075425 ', '8067812 ', '8054802 ', '8039865 ', '8015027 ', '7962003 ', '7867796 ', '7795786 ', ': ']\n",
      "Lenght of row 27\n",
      "['DE1001V,AT001C1', ': ', ': ', '1741246 ', ': ', ': ', ': ', '1687271 ', '1674909 ', '1661246 ', '1652449 ', '1632569 ', '1598626 ', ': ', ': ', '1550123 ', '1615438 e', '1608144 e', '1606843 e', '1609631 e', '1595402 e', ': ', ': ', ': ', ': ', '1539848 ', ': ']\n",
      "Lenght of row 27\n"
     ]
    }
   ],
   "source": [
    "with open(urbanAuditFile) as f:\n",
    "    csvfile = csv.reader(f, delimiter=\"\\t\")\n",
    "    c=0 # counter for the parsed line numbers\n",
    "    N=2 # MAX number of lines we want to output\n",
    "    for row in csvfile:\n",
    "        c+=1\n",
    "        print(row)\n",
    "        print(\"Lenght of row \"+str(len(row)))\n",
    "        if c>N:\n",
    "            break"
   ]
  },
  {
   "cell_type": "markdown",
   "metadata": {},
   "source": [
    "Ok, thats what we thougth, tab delimiter and 27 columns."
   ]
  },
  {
   "cell_type": "code",
   "execution_count": 55,
   "metadata": {
    "collapsed": false
   },
   "outputs": [
    {
     "name": "stdout",
     "output_type": "stream",
     "text": [
      "lenght of unique identifiers 35812\n"
     ]
    }
   ],
   "source": [
    "ind=[]\n",
    "with open(urbanAuditFile) as f:\n",
    "    csvfile = csv.reader(f, delimiter=\"\\t\")\n",
    "    c=0\n",
    "    for row in csvfile:\n",
    "        c+=1\n",
    "        if c>1: #we skip the first header row\n",
    "            ind.append(row[0])\n",
    "print(\"lenght of unique identifiers \"+str(len(set(ind))))"
   ]
  },
  {
   "cell_type": "markdown",
   "metadata": {},
   "source": [
    "Ok 35812 unique indicators and 35814 rows -> one indicator per row"
   ]
  },
  {
   "cell_type": "code",
   "execution_count": 23,
   "metadata": {
    "collapsed": false
   },
   "outputs": [
    {
     "name": "stdout",
     "output_type": "stream",
     "text": [
      "DE1001V,AT\n",
      "DE1001V,AT001C1\n",
      "DE1001V,AT002C1\n",
      "DE1001V,AT003C1\n",
      "DE1001V,AT004C1\n",
      "DE1001V,AT005C1\n",
      "DE1001V,AT006C1\n",
      "DE1001V,BE\n",
      "DE1001V,BE001C1\n",
      "DE1001V,BE002C1\n",
      "DE1001V,BE003C1\n",
      "DE1001V,BE004C1\n",
      "DE1001V,BE005C1\n",
      "DE1001V,BE006C1\n",
      "DE1001V,BE007C1\n",
      "DE1001V,BE008C1\n",
      "DE1001V,BE009C1\n",
      "DE1001V,BE010C1\n",
      "DE1001V,BE011C1\n",
      "DE1001V,BG\n"
     ]
    }
   ],
   "source": [
    "for indicator in ind[0:20]:\n",
    "    print(indicator)#print first 20 indicators"
   ]
  },
  {
   "cell_type": "markdown",
   "metadata": {},
   "source": [
    "### Observations\n",
    "Ah ok, this looks like there is a pattern. Lets try to understand the indictor codes:\n",
    "We see that there are two types of codes, which uses \",\" to separate the indicator and the country/city\n",
    "* DE1001V,AT\n",
    "* DE1001V,AT001C1\n",
    "\n",
    "The first part ( before the ,) is the indicator variable, the second part refers to the country/city:\n"
   ]
  },
  {
   "cell_type": "markdown",
   "metadata": {},
   "source": [
    "## Indicators and their meaning\n",
    "Browsing through the Eurostats page shows that the indicator codes are listed at \"http://dd.eionet.europa.eu/vocabulary/eurostat/indic_ur/\" in different formats. \n",
    "\n",
    "We downloaded the file in CSV to the local file \"./data/indic_ur.csv\""
   ]
  },
  {
   "cell_type": "code",
   "execution_count": 40,
   "metadata": {
    "collapsed": false
   },
   "outputs": [
    {
     "name": "stdout",
     "output_type": "stream",
     "text": [
      "['\\ufeff\"URI\"', 'Label', 'Definition', 'Notation', 'Status', 'AcceptedDate']\n",
      "['http://dd.eionet.europa.eu/vocabulary/eurostat/indic_ur/DE1001V', 'Population on the 1st of January, total', '', 'DE1001V', 'valid', '2013-09-04']\n",
      "['http://dd.eionet.europa.eu/vocabulary/eurostat/indic_ur/DE1002V', 'Population on the 1st of January, male', '', 'DE1002V', 'valid', '2013-09-04']\n",
      "Total lines 537\n"
     ]
    }
   ],
   "source": [
    "indicatorCodesFile=\"./data/indic_ur.csv\"\n",
    "with open(indicatorCodesFile) as f:\n",
    "    csvfile = csv.reader(f)\n",
    "    for i, row in enumerate(csvfile):\n",
    "        if i<3:\n",
    "            print(row)\n",
    "print(\"Total lines \"+str(csvfile.line_num))"
   ]
  },
  {
   "cell_type": "markdown",
   "metadata": {},
   "source": [
    "Ok 537 different codes"
   ]
  },
  {
   "cell_type": "code",
   "execution_count": 34,
   "metadata": {
    "collapsed": false
   },
   "outputs": [
    {
     "name": "stdout",
     "output_type": "stream",
     "text": [
      "['http://dd.eionet.europa.eu/vocabulary/eurostat/indic_ur/DE1001V', 'Population on the 1st of January, total', '', 'DE1001V', 'valid', '2013-09-04']\n"
     ]
    }
   ],
   "source": [
    "# check if one of the codes in the first lines appear in this file\n",
    "with open(indicatorCodesFile) as f:\n",
    "    csvfile = csv.reader(f)\n",
    "    for i, row in enumerate(csvfile):\n",
    "        if 'DE1001V' in row[3]:\n",
    "            print(row)"
   ]
  },
  {
   "cell_type": "markdown",
   "metadata": {},
   "source": [
    "Ok, lets keep that in mind, we come back to this later"
   ]
  },
  {
   "cell_type": "markdown",
   "metadata": {},
   "source": [
    "## City & Country codes\n",
    "The city codes are available in at \"http://dd.eionet.europa.eu/vocabulary/eurostat/cities/\", either as \"RDF\":\"http://dd.eionet.europa.eu/vocabulary/eurostat/cities/rdf;jsessionid=5AF9B4AF77C5DADF55069F856234E145\" or as \"CSV\":\"http://dd.eionet.europa.eu/vocabulary/eurostat/cities/csv;jsessionid=5AF9B4AF77C5DADF55069F856234E145\"\n",
    "A local copy of the CSV file is available at \"./data/cities.csv\" and lists the cities incl their codes and names."
   ]
  },
  {
   "cell_type": "code",
   "execution_count": 41,
   "metadata": {
    "collapsed": false
   },
   "outputs": [
    {
     "name": "stdout",
     "output_type": "stream",
     "text": [
      "['\\ufeff\"URI\"', 'Label', 'Definition', 'Notation', 'Status', 'AcceptedDate', 'coreCityOf', 'hasDistrict', 'hasDistrict', 'hasDistrict', 'hasDistrict', 'hasDistrict', 'hasDistrict', 'hasDistrict', 'hasDistrict', 'hasDistrict', 'hasDistrict', 'hasDistrict', 'hasDistrict', 'hasDistrict', 'hasDistrict', 'hasDistrict', 'hasDistrict', 'hasDistrict', 'hasDistrict', 'hasDistrict', 'hasDistrict', 'hasDistrict', 'hasDistrict', 'hasDistrict', 'hasDistrict', 'hasDistrict', 'hasDistrict', 'hasDistrict', 'hasDistrict', 'hasDistrict', 'hasDistrict', 'hasDistrict', 'hasDistrict', 'hasDistrict', 'hasDistrict', 'hasDistrict', 'hasDistrict', 'hasDistrict', 'hasDistrict', 'hasDistrict', 'hasDistrict', 'hasDistrict', 'hasDistrict', 'hasDistrict', 'hasDistrict', 'hasDistrict', 'hasDistrict', 'hasDistrict', 'hasDistrict', 'hasDistrict', 'hasDistrict', 'hasDistrict', 'hasDistrict', 'hasDistrict', 'hasDistrict', 'hasDistrict', 'inCountry', 'owl:sameAs', 'skos:broader', 'skos:closeMatch', 'skos:exactMatch', 'skos:exactMatch', 'skos:exactMatch', 'skos:narrower', 'skos:narrower', 'skos:narrower', 'skos:narrower', 'skos:narrower', 'skos:narrower', 'skos:narrower', 'skos:narrower', 'skos:narrower', 'skos:narrower', 'skos:narrower', 'skos:narrower', 'skos:narrower', 'skos:narrower', 'skos:narrower', 'skos:narrower', 'skos:narrower', 'skos:narrower', 'skos:narrower', 'skos:narrower', 'skos:narrower', 'skos:narrower', 'skos:narrower', 'skos:narrower', 'skos:narrower', 'skos:narrower', 'skos:narrower', 'skos:narrower', 'skos:narrower', 'skos:narrower', 'skos:narrower', 'skos:narrower', 'skos:narrower', 'skos:narrower', 'skos:narrower', 'skos:narrower', 'skos:narrower', 'skos:narrower', 'skos:narrower', 'skos:narrower', 'skos:narrower', 'skos:narrower', 'skos:narrower', 'skos:narrower', 'skos:narrower', 'skos:narrower', 'skos:narrower', 'skos:narrower', 'skos:narrower', 'skos:narrower', 'skos:narrower', 'skos:narrower', 'skos:narrower', 'skos:narrower', 'skos:narrower', 'skos:narrower', 'skos:narrower', 'skos:narrower', 'skos:narrower', 'skos:narrower', 'skos:narrower', 'skos:narrower', 'skos:narrower', 'skos:narrower', 'skos:narrower', 'skos:narrower', 'skos:narrower', 'skos:narrower', 'skos:narrower', 'skos:narrower', 'skos:narrower', 'skos:narrower', 'skos:narrower', 'skos:narrower', 'skos:narrower', 'skos:narrower', 'skos:narrower', 'skos:narrower', 'skos:narrower', 'skos:narrower', 'skos:narrower', 'skos:narrower', 'skos:narrower', 'skos:narrower', 'skos:narrower', 'skos:narrower', 'skos:narrower', 'skos:narrower', 'skos:narrower', 'skos:narrower', 'skos:narrower', 'skos:narrower', 'skos:narrower', 'skos:narrower', 'skos:narrower', 'skos:narrower', 'skos:narrower', 'skos:narrower', 'skos:narrower', 'skos:narrower', 'skos:narrower', 'skos:narrower', 'skos:narrower', 'skos:narrower', 'skos:narrower', 'skos:narrower', 'skos:narrower', 'skos:narrower', 'skos:narrower', 'skos:narrower', 'skos:narrower', 'skos:narrower', 'skos:narrower', 'skos:narrower', 'skos:narrower', 'skos:narrower', 'skos:narrower', 'skos:narrower', 'skos:narrower', 'skos:narrower', 'skos:narrower']\n",
      "Total lines 11595\n"
     ]
    }
   ],
   "source": [
    "cityCodeFile=\"./data/cities.csv\"\n",
    "with open(cityCodeFile) as f:\n",
    "    csvfile = csv.reader(f)\n",
    "    for i,row in enumerate(csvfile):\n",
    "        if i<1:\n",
    "            print(row)\n",
    "print(\"Total lines \"+str(csvfile.line_num))"
   ]
  },
  {
   "cell_type": "markdown",
   "metadata": {},
   "source": [
    "Okay, that are a lot of information for each city code and we have 11595 lines. \n",
    "\n",
    "Maybe we want to filter the columns for Label (index 1) and Notation (index 3). "
   ]
  },
  {
   "cell_type": "code",
   "execution_count": 47,
   "metadata": {
    "collapsed": false
   },
   "outputs": [
    {
     "name": "stdout",
     "output_type": "stream",
     "text": [
      "Label Notation\n",
      "Austria AT\n",
      "Wien AT001C\n",
      "Wien AT001C1\n"
     ]
    }
   ],
   "source": [
    "with open(cityCodeFile) as f:\n",
    "    csvfile = csv.reader(f)\n",
    "    for i,row in enumerate(csvfile):\n",
    "        if i<4:\n",
    "            print(row[1],row[3])"
   ]
  },
  {
   "cell_type": "markdown",
   "metadata": {},
   "source": [
    "Lets check if they have \"Wien\":"
   ]
  },
  {
   "cell_type": "code",
   "execution_count": 48,
   "metadata": {
    "collapsed": false
   },
   "outputs": [
    {
     "name": "stdout",
     "output_type": "stream",
     "text": [
      "Wien AT001C\n",
      "Wien AT001C1\n",
      "Wien AT001L2\n"
     ]
    }
   ],
   "source": [
    "with open(cityCodeFile) as f:\n",
    "    csvfile = csv.reader(f)\n",
    "    for i,row in enumerate(csvfile):\n",
    "        if 'Wien' in row[1]:\n",
    "            print(row[1],row[3])"
   ]
  },
  {
   "cell_type": "markdown",
   "metadata": {},
   "source": [
    "Ah, three different codes for \"Wien\", go figure;) (?)"
   ]
  },
  {
   "cell_type": "markdown",
   "metadata": {},
   "source": [
    "### Country Codes"
   ]
  },
  {
   "cell_type": "markdown",
   "metadata": {},
   "source": [
    "Countries use ISO two-letter codes, e.g. available on \"datahub.io\":\"https://datahub.io/de/dataset/iso-3166-1-alpha-2-country-codes/resource/9c3b30dd-f5f3-4bbe-a3cb-d7b2c21d66ce\"\n",
    " * \"CSV\":\"./data/iso_3166_2_countries.csv\" list of countries and country codes."
   ]
  },
  {
   "cell_type": "code",
   "execution_count": 49,
   "metadata": {
    "collapsed": false
   },
   "outputs": [
    {
     "name": "stdout",
     "output_type": "stream",
     "text": [
      "['Sort Order', 'Common Name', 'Formal Name', 'Type', 'Sub Type', 'Sovereignty', 'Capital', 'ISO 4217 Currency Code', 'ISO 4217 Currency Name', 'ITU-T Telephone Code', 'ISO 3166-1 2 Letter Code', 'ISO 3166-1 3 Letter Code', 'ISO 3166-1 Number', 'IANA Country Code TLD']\n",
      "Total lines 269\n"
     ]
    }
   ],
   "source": [
    "countryCodeFile=\"./data/iso_3166_2_countries.csv\"\n",
    "with open(countryCodeFile) as f:\n",
    "    csvfile = csv.reader(f)\n",
    "    for i,row in enumerate(csvfile):\n",
    "        if i<1:\n",
    "            print(row)\n",
    "print(\"Total lines \"+str(csvfile.line_num))"
   ]
  },
  {
   "cell_type": "markdown",
   "metadata": {},
   "source": [
    "Again, lots of columns, but we are mainly interested in the mapping between common name (index 1) and the ISO 2 Letter code (index 10)"
   ]
  },
  {
   "cell_type": "code",
   "execution_count": 51,
   "metadata": {
    "collapsed": false
   },
   "outputs": [
    {
     "name": "stdout",
     "output_type": "stream",
     "text": [
      "Austria AT\n"
     ]
    }
   ],
   "source": [
    "with open(countryCodeFile) as f:\n",
    "    csvfile = csv.reader(f)\n",
    "    for i,row in enumerate(csvfile):\n",
    "        if row[1] == 'Austria':\n",
    "            print(row[1], row[10])\n"
   ]
  },
  {
   "cell_type": "markdown",
   "metadata": {},
   "source": [
    "## Merging\n",
    "At this stage, we are able to create a dictionary of \n",
    "* Indicator -to-> name\n",
    "* CityCode -to-> city name\n",
    "* CountryCode -to-> country name\n",
    "These mappings could be used to provide some more \"human friendly\" labels in the output"
   ]
  },
  {
   "cell_type": "markdown",
   "metadata": {},
   "source": [
    "# Investiagting some \"interesting\" questions"
   ]
  },
  {
   "cell_type": "markdown",
   "metadata": {},
   "source": [
    "## Which one is the biggest city?\n",
    "So what exactly do we mean? \n",
    "* Biggest city in terms of biggest population over all 26 years? \n",
    "* Or biggest city in terms of overall population in 2015? \n",
    "\n",
    "#### Lets get the biggest city in 2015\n",
    "\n",
    "This can be done by a simple scan and storing always the local maximum.\n",
    "\n",
    "We filter all rows which have the indicator **DE1001V** (=Population on the 1st of January, total) and a city code, that is the indicator string is longer than \"DE1001V,AT\" -> which would be only the country indicator"
   ]
  },
  {
   "cell_type": "code",
   "execution_count": 57,
   "metadata": {
    "collapsed": false
   },
   "outputs": [
    {
     "ename": "ValueError",
     "evalue": "invalid literal for int() with base 10: ': '",
     "output_type": "error",
     "traceback": [
      "\u001b[0;31m\u001b[0m",
      "\u001b[0;31mValueError\u001b[0mTraceback (most recent call last)",
      "\u001b[0;32m<ipython-input-57-3b6d1e92784b>\u001b[0m in \u001b[0;36m<module>\u001b[0;34m()\u001b[0m\n\u001b[1;32m      6\u001b[0m     \u001b[0;32mfor\u001b[0m \u001b[0mrow\u001b[0m \u001b[0;32min\u001b[0m \u001b[0mcsvfile\u001b[0m\u001b[0;34m:\u001b[0m\u001b[0;34m\u001b[0m\u001b[0m\n\u001b[1;32m      7\u001b[0m         \u001b[0;32mif\u001b[0m \u001b[0;34m'DE1001V'\u001b[0m \u001b[0;32min\u001b[0m \u001b[0mrow\u001b[0m\u001b[0;34m[\u001b[0m\u001b[0;36m0\u001b[0m\u001b[0;34m]\u001b[0m \u001b[0;32mand\u001b[0m \u001b[0mlen\u001b[0m\u001b[0;34m(\u001b[0m\u001b[0mrow\u001b[0m\u001b[0;34m[\u001b[0m\u001b[0;36m0\u001b[0m\u001b[0;34m]\u001b[0m\u001b[0;34m)\u001b[0m\u001b[0;34m>\u001b[0m \u001b[0mlen\u001b[0m\u001b[0;34m(\u001b[0m\u001b[0;34m\"DE1001V,AT\"\u001b[0m\u001b[0;34m)\u001b[0m\u001b[0;34m:\u001b[0m\u001b[0;34m\u001b[0m\u001b[0m\n\u001b[0;32m----> 8\u001b[0;31m             \u001b[0;32mif\u001b[0m \u001b[0mint\u001b[0m\u001b[0;34m(\u001b[0m\u001b[0mrow\u001b[0m\u001b[0;34m[\u001b[0m\u001b[0;36m1\u001b[0m\u001b[0;34m]\u001b[0m\u001b[0;34m)\u001b[0m\u001b[0;34m>\u001b[0m\u001b[0mcityPopulation2015\u001b[0m\u001b[0;34m:\u001b[0m \u001b[0;31m# row[1] is the population of 2015\u001b[0m\u001b[0;34m\u001b[0m\u001b[0m\n\u001b[0m\u001b[1;32m      9\u001b[0m                 \u001b[0mcityPopulation2015\u001b[0m\u001b[0;34m=\u001b[0m\u001b[0mrow\u001b[0m\u001b[0;34m[\u001b[0m\u001b[0;36m1\u001b[0m\u001b[0;34m]\u001b[0m\u001b[0;34m\u001b[0m\u001b[0m\n\u001b[1;32m     10\u001b[0m                 \u001b[0mcityCode\u001b[0m\u001b[0;34m=\u001b[0m\u001b[0mrow\u001b[0m\u001b[0;34m[\u001b[0m\u001b[0;36m0\u001b[0m\u001b[0;34m]\u001b[0m\u001b[0;34m.\u001b[0m\u001b[0msplit\u001b[0m\u001b[0;34m(\u001b[0m\u001b[0;34m\",\"\u001b[0m\u001b[0;34m)\u001b[0m\u001b[0;34m[\u001b[0m\u001b[0;36m1\u001b[0m\u001b[0;34m]\u001b[0m \u001b[0;31m# split the indicator by \",\" and take the second part\u001b[0m\u001b[0;34m\u001b[0m\u001b[0m\n",
      "\u001b[0;31mValueError\u001b[0m: invalid literal for int() with base 10: ': '"
     ]
    }
   ],
   "source": [
    "cityCode=''\n",
    "cityPopulation2015=0\n",
    "\n",
    "with open(urbanAuditFile) as f:\n",
    "    csvfile = csv.reader(f, delimiter=\"\\t\")\n",
    "    for row in csvfile:\n",
    "        if 'DE1001V' in row[0] and len(row[0])> len(\"DE1001V,AT\"):\n",
    "            if int(row[1])>cityPopulation2015: # row[1] is the population of 2015\n",
    "                cityPopulation2015=row[1]\n",
    "                cityCode=row[0].split(\",\")[1] # split the indicator by \",\" and take the second part\n",
    "print(\"Biggest city: \"+cityCode+\" with \"+str(cityPopulation2015)+\" citizens\")"
   ]
  },
  {
   "cell_type": "markdown",
   "metadata": {},
   "source": [
    "Interesting, row[1] is by default a str value and we firstly need to typecast it int. \n",
    "\n",
    "Next, it seems that not all row[1] values are numbers, missing values are indicated by \":\"\n",
    "\n",
    "So lets adapt our filtering approach\n",
    "\n",
    "We first remove all leading and ending whitespaces by using the string function **strip()**."
   ]
  },
  {
   "cell_type": "code",
   "execution_count": 68,
   "metadata": {
    "collapsed": false
   },
   "outputs": [
    {
     "ename": "ValueError",
     "evalue": "invalid literal for int() with base 10: '205768 de'",
     "output_type": "error",
     "traceback": [
      "\u001b[0;31m\u001b[0m",
      "\u001b[0;31mValueError\u001b[0mTraceback (most recent call last)",
      "\u001b[0;32m<ipython-input-68-70d4460ed23e>\u001b[0m in \u001b[0;36m<module>\u001b[0;34m()\u001b[0m\n\u001b[1;32m      7\u001b[0m         \u001b[0;32mif\u001b[0m \u001b[0;34m'DE1001V'\u001b[0m \u001b[0;32min\u001b[0m \u001b[0mrow\u001b[0m\u001b[0;34m[\u001b[0m\u001b[0;36m0\u001b[0m\u001b[0;34m]\u001b[0m \u001b[0;32mand\u001b[0m \u001b[0mlen\u001b[0m\u001b[0;34m(\u001b[0m\u001b[0mrow\u001b[0m\u001b[0;34m[\u001b[0m\u001b[0;36m0\u001b[0m\u001b[0;34m]\u001b[0m\u001b[0;34m)\u001b[0m\u001b[0;34m>\u001b[0m \u001b[0mlen\u001b[0m\u001b[0;34m(\u001b[0m\u001b[0;34m\"DE1001V,AT\"\u001b[0m\u001b[0;34m)\u001b[0m\u001b[0;34m:\u001b[0m\u001b[0;34m\u001b[0m\u001b[0m\n\u001b[1;32m      8\u001b[0m             \u001b[0mpopCount\u001b[0m\u001b[0;34m=\u001b[0m\u001b[0mrow\u001b[0m\u001b[0;34m[\u001b[0m\u001b[0;36m1\u001b[0m\u001b[0;34m]\u001b[0m\u001b[0;34m.\u001b[0m\u001b[0mstrip\u001b[0m\u001b[0;34m(\u001b[0m\u001b[0;34m)\u001b[0m\u001b[0;34m\u001b[0m\u001b[0m\n\u001b[0;32m----> 9\u001b[0;31m             \u001b[0;32mif\u001b[0m \u001b[0mpopCount\u001b[0m \u001b[0;34m!=\u001b[0m \u001b[0;34m\":\"\u001b[0m \u001b[0;32mand\u001b[0m \u001b[0mint\u001b[0m\u001b[0;34m(\u001b[0m\u001b[0mpopCount\u001b[0m\u001b[0;34m)\u001b[0m\u001b[0;34m>\u001b[0m\u001b[0mcityPopulation2015\u001b[0m\u001b[0;34m:\u001b[0m \u001b[0;31m# row[1] is the population of 2015\u001b[0m\u001b[0;34m\u001b[0m\u001b[0m\n\u001b[0m\u001b[1;32m     10\u001b[0m                 \u001b[0mcityPopulation2015\u001b[0m\u001b[0;34m=\u001b[0m\u001b[0mint\u001b[0m\u001b[0;34m(\u001b[0m\u001b[0mpopCount\u001b[0m\u001b[0;34m)\u001b[0m\u001b[0;34m\u001b[0m\u001b[0m\n\u001b[1;32m     11\u001b[0m                 \u001b[0mcityCode\u001b[0m\u001b[0;34m=\u001b[0m\u001b[0mrow\u001b[0m\u001b[0;34m[\u001b[0m\u001b[0;36m0\u001b[0m\u001b[0;34m]\u001b[0m\u001b[0;34m.\u001b[0m\u001b[0msplit\u001b[0m\u001b[0;34m(\u001b[0m\u001b[0;34m\",\"\u001b[0m\u001b[0;34m)\u001b[0m\u001b[0;34m[\u001b[0m\u001b[0;36m1\u001b[0m\u001b[0;34m]\u001b[0m \u001b[0;31m# split the indicator by \",\" and take the second part\u001b[0m\u001b[0;34m\u001b[0m\u001b[0m\n",
      "\u001b[0;31mValueError\u001b[0m: invalid literal for int() with base 10: '205768 de'"
     ]
    }
   ],
   "source": [
    "cityCode=''\n",
    "cityPopulation2015=0\n",
    "\n",
    "with open(urbanAuditFile) as f:\n",
    "    csvfile = csv.reader(f, delimiter=\"\\t\")\n",
    "    for row in csvfile:\n",
    "        if 'DE1001V' in row[0] and len(row[0])> len(\"DE1001V,AT\"):\n",
    "            popCount=row[1].strip()\n",
    "            if popCount != \":\" and int(popCount)>cityPopulation2015: # row[1] is the population of 2015\n",
    "                cityPopulation2015=int(popCount)\n",
    "                cityCode=row[0].split(\",\")[1] # split the indicator by \",\" and take the second part\n",
    "print(\"Biggest city: \"+cityCode+\" with \"+str(cityPopulation2015)+\" citizens\")"
   ]
  },
  {
   "cell_type": "markdown",
   "metadata": {},
   "source": [
    "Hmm, clean data looks definitely different to this data!!\n",
    "\n",
    "Seems, like some population values have some additional suffix in form of \"_X\".\n",
    "\n",
    "We can remove them as well, by splitting the string at the \" \" (whitespace) and taking only the former part"
   ]
  },
  {
   "cell_type": "code",
   "execution_count": 71,
   "metadata": {
    "collapsed": false
   },
   "outputs": [
    {
     "name": "stdout",
     "output_type": "stream",
     "text": [
      "Biggest city: PT001K1 with 1835785 citizens\n"
     ]
    }
   ],
   "source": [
    "cityCode=''\n",
    "cityPopulation=0\n",
    "year=1 #2015\n",
    "\n",
    "with open(urbanAuditFile) as f:\n",
    "    csvfile = csv.reader(f, delimiter=\"\\t\")\n",
    "    for row in csvfile:\n",
    "        if 'DE1001V' in row[0] and len(row[0])> len(\"DE1001V,AT\"):\n",
    "            popCount=row[year].strip().split(\" \")[0]\n",
    "            if popCount != \":\" and int(popCount)>cityPopulation: # row[1] is the population of 2015\n",
    "                cityPopulation=int(popCount)\n",
    "                cityCode=row[0].split(\",\")[1] # split the indicator by \",\" and take the second part\n",
    "print(\"Biggest city: \"+cityCode+\" with \"+str(cityPopulation)+\" citizens\")"
   ]
  },
  {
   "cell_type": "markdown",
   "metadata": {},
   "source": [
    "Ah cool, finally it works and we have as **PT001K1** the biggest city in 2015 (for which we have population values) \n",
    "\n",
    "lets try to convert this city code to a more human readable string (or do you know which city it is?)"
   ]
  },
  {
   "cell_type": "code",
   "execution_count": 72,
   "metadata": {
    "collapsed": true
   },
   "outputs": [],
   "source": [
    "#Building the cityCode to Label map\n",
    "cityCodeMap={}\n",
    "with open(cityCodeFile) as f:\n",
    "    csvfile = csv.reader(f)\n",
    "    for i,row in enumerate(csvfile):\n",
    "        cityCodeMap[row[3]]= row[1]"
   ]
  },
  {
   "cell_type": "code",
   "execution_count": 73,
   "metadata": {
    "collapsed": false
   },
   "outputs": [
    {
     "name": "stdout",
     "output_type": "stream",
     "text": [
      "Biggest city: Lisboa (greater city) with 1835785 citizens\n"
     ]
    }
   ],
   "source": [
    "#lets convert the city code to the lable\n",
    "print(\"Biggest city: \"+cityCodeMap[cityCode]+\" with \"+str(cityPopulation)+\" citizens\")"
   ]
  },
  {
   "cell_type": "markdown",
   "metadata": {},
   "source": [
    "Better, but somehow strange that Lisboa is the biggest city, maybe this is due to the missing values, lets check for 2014"
   ]
  },
  {
   "cell_type": "code",
   "execution_count": 77,
   "metadata": {
    "collapsed": false
   },
   "outputs": [
    {
     "name": "stdout",
     "output_type": "stream",
     "text": [
      "Biggest city: London (greater city) with 8477600 citizens\n"
     ]
    }
   ],
   "source": [
    "cityCode=''\n",
    "cityPopulation=0\n",
    "year=2 #2014\n",
    "\n",
    "with open(urbanAuditFile) as f:\n",
    "    csvfile = csv.reader(f, delimiter=\"\\t\")\n",
    "    for row in csvfile:\n",
    "        if 'DE1001V' in row[0] and len(row[0])> len(\"DE1001V,AT\"):\n",
    "            popCount=row[year].strip().split(\" \")[0]\n",
    "            if popCount != \":\" and int(popCount)>cityPopulation: # row[1] is the population of 2015\n",
    "                cityPopulation=int(popCount)\n",
    "                cityCode=row[0].split(\",\")[1] # split the indicator by \",\" and take the second part\n",
    "print(\"Biggest city: \"+cityCodeMap[cityCode]+\" with \"+str(cityPopulation)+\" citizens\")"
   ]
  },
  {
   "cell_type": "markdown",
   "metadata": {},
   "source": [
    "Ah, ok, looks slightly better, considering that this is eurostats, Lodon might be the biggest city in Europe.\n",
    "\n",
    "Looks like \"Wikipedia\" lists Istanbul (14,657,434) and Moscow (12,330,126) as bigger cities in Europe (source: https://en.wikipedia.org/wiki/List_of_European_cities_by_population_within_city_limits) \n",
    "\n",
    "**Interesting question would be, are these two cities in the dataset or not? How could you figure this out?**\n"
   ]
  },
  {
   "cell_type": "markdown",
   "metadata": {},
   "source": [
    "## What are the (most recent) populations per country?\n",
    "\n",
    "Hmm, well this is just an adaption of our algorithm to find the biggest city in 2015 (which would be the most recent year). However, if the value for 2015 is missing, we could just take the next most recent value. \n",
    "\n",
    "Lets try this.\n",
    "\n",
    "We start by using a dictionary for which the key is the city and the value is another dictionary with the population number for the most recent year. \n",
    "\n",
    "In addition, we might need to loop over the years to find the most recent year with a existing population value.\n",
    "Considering that we have a list and operate with indices rather than labels, we want to \n",
    "* store the first csv row in a field headerRow\n",
    "* use the headerRow to convert the year index into a Year label\n",
    "\n",
    "But lets do it step by step"
   ]
  },
  {
   "cell_type": "code",
   "execution_count": 87,
   "metadata": {
    "collapsed": false
   },
   "outputs": [
    {
     "name": "stdout",
     "output_type": "stream",
     "text": [
      "{'FR219C1': {'year': 7, 'pop': '130194'}, 'NL509C1': {'year': 6, 'pop': '121532'}, 'UK524C1': {'year': 15, 'pop': '210160'}, 'PT508C1': {'year': 16, 'pop': '122596'}, 'UK517C1': {'year': 15, 'pop': '223302'}, 'RO005C1': {'year': 25, 'pop': '249662'}, 'DK001C1': {'year': 25, 'pop': '464773'}, 'SE005C1': {'year': 26, 'pop': '90004'}, 'ES515C1': {'year': 15, 'pop': '166187'}, 'PL516C1': {'year': 16, 'pop': '107416'}, 'IT012C1': {'year': 25, 'pop': '255824'}, 'FR051C2': {'year': 7, 'pop': '126477'}, 'PL506C1': {'year': 16, 'pop': '178611'}, 'PT019C1': {'year': 6, 'pop': '63674'}, 'IT004C1': {'year': 25, 'pop': '962507'}, 'UK002K1': {'year': 6, 'pop': '2390000'}, 'DE513C1': {'year': 15, 'pop': '194748'}, 'FR009C1': {'year': 26, 'pop': '1067345'}, 'IT058C1': {'year': 6, 'pop': '51404'}, 'PT501C1': {'year': 16, 'pop': '362976'}, 'RO016C1': {'year': 15, 'pop': '95840'}, 'FR024C2': {'year': 7, 'pop': '199096'}, 'AT003C1': {'year': 25, 'pop': '203044'}, 'RO012C1': {'year': 25, 'pop': '75954'}, 'CH005C1': {'year': 26, 'pop': '128112'}, 'HU009C1': {'year': 15, 'pop': '106346'}, 'UK573C1': {'year': 15, 'pop': '109618'}, 'UK559C1': {'year': 15, 'pop': '134860'}, 'NL001C1': {'year': 26, 'pop': '441506'}, 'FR059C2': {'year': 7, 'pop': '105101'}, 'TR021C1': {'year': 16, 'pop': '67864'}, 'DE018C1': {'year': 24, 'pop': '299884'}, 'UK052C1': {'year': 6, 'pop': '97400'}, 'DE529C1': {'year': 15, 'pop': '120163'}, 'SK002C1': {'year': 26, 'pop': '238454'}, 'RO010C1': {'year': 25, 'pop': '171211'}, 'NL507C1': {'year': 14, 'pop': '117170'}, 'PL024C1': {'year': 16, 'pop': '253133'}, 'PL023C1': {'year': 25, 'pop': '65424'}, 'ES028C1': {'year': 6, 'pop': '106622'}, 'UK047C1': {'year': 6, 'pop': '103200'}, 'RO513C1': {'year': 15, 'pop': '110471'}, 'FR312C1': {'year': 7, 'pop': '89887'}, 'EE001C1': {'year': 26, 'pop': '479666'}, 'ES510C1': {'year': 15, 'pop': '178377'}, 'RO007C1': {'year': 25, 'pop': '199623'}, 'DE002C1': {'year': 24, 'pop': '1688785'}, 'UK054C1': {'year': 6, 'pop': '96700'}, 'FR014C2': {'year': 7, 'pop': '175519'}, 'FR308C1': {'year': 7, 'pop': '115156'}, 'FR018C1': {'year': 26, 'pop': '207393'}, 'IT512C1': {'year': 15, 'pop': '108335'}, 'UK026C1': {'year': 14, 'pop': '249900'}, 'SE505C1': {'year': 8, 'pop': '101487'}, 'LT001C1': {'year': 26, 'pop': '605533'}, 'CH001K1': {'year': 7, 'pop': '592715'}, 'DE078C1': {'year': 12, 'pop': '52869'}, 'FR512C1': {'year': 7, 'pop': '58493'}, 'TR013C1': {'year': 16, 'pop': '2232265'}, 'UK051C1': {'year': 6, 'pop': '96700'}, 'ES002C1': {'year': 26, 'pop': '1707286'}, 'ES534C1': {'year': 15, 'pop': '97887'}, 'SK003C1': {'year': 26, 'pop': '88390'}, 'UK540C1': {'year': 15, 'pop': '162106'}, 'ES019K1': {'year': 6, 'pop': '787084'}, 'IT051C1': {'year': 6, 'pop': '56879'}, 'FR506C1': {'year': 7, 'pop': '95437'}, 'UK121C1': {'year': 6, 'pop': '158000'}, 'RO506C1': {'year': 15, 'pop': '174794'}, 'CZ013C1': {'year': 15, 'pop': '53358'}, 'PL514C1': {'year': 16, 'pop': '120822'}, 'UK021C1': {'year': 25, 'pop': '75700'}, 'TR015C1': {'year': 16, 'pop': '64606'}, 'LV001C1': {'year': 26, 'pop': '909135'}, 'UK015C1': {'year': 26, 'pop': '97255'}, 'BG011C1': {'year': 6, 'pop': '86824'}, 'IT509C1': {'year': 15, 'pop': '123657'}, 'UK133C1': {'year': 6, 'pop': '217100'}, 'ES008C1': {'year': 26, 'pop': '373846'}, 'UK575C1': {'year': 15, 'pop': '100721'}, 'UK118C1': {'year': 6, 'pop': '246300'}, 'NL012C1': {'year': 17, 'pop': '159042'}, 'UK563C1': {'year': 15, 'pop': '128998'}, 'RO008C1': {'year': 25, 'pop': '198844'}, 'DE514C1': {'year': 15, 'pop': '183805'}, 'UK526C1': {'year': 15, 'pop': '205360'}, 'FR208C1': {'year': 26, 'pop': '129039'}, 'RO507C1': {'year': 15, 'pop': '143255'}, 'DE511C1': {'year': 15, 'pop': '202060'}, 'ES506C1': {'year': 15, 'pop': '184686'}, 'IT034C1': {'year': 6, 'pop': '103135'}, 'ES071C1': {'year': 6, 'pop': '59691'}, 'UK029C1': {'year': 14, 'pop': '272200'}, 'DE507C1': {'year': 15, 'pop': '245778'}, 'RO019C1': {'year': 15, 'pop': '81535'}, 'UK055C1': {'year': 6, 'pop': '98400'}, 'ES042C1': {'year': 6, 'pop': '82411'}, 'PL002C1': {'year': 25, 'pop': '854261'}, 'UK521C1': {'year': 15, 'pop': '217262'}, 'DE547C1': {'year': 12, 'pop': '102634'}, 'UK060C1': {'year': 6, 'pop': '76400'}, 'PL014C1': {'year': 25, 'pop': '158865'}, 'UK116C1': {'year': 6, 'pop': '235200'}, 'ES055C1': {'year': 6, 'pop': '76034'}, 'FI005C1': {'year': 8, 'pop': '238047'}, 'BG008C1': {'year': 11, 'pop': '141480'}, 'DE082C1': {'year': 12, 'pop': '94608'}, 'UK525C1': {'year': 15, 'pop': '207060'}, 'FR036C2': {'year': 7, 'pop': '262634'}, 'ES505C1': {'year': 15, 'pop': '194767'}, 'DE052C1': {'year': 12, 'pop': '85300'}, 'FR038C2': {'year': 7, 'pop': '182681'}, 'BE003C1': {'year': 26, 'pop': '230543'}, 'NL022C1': {'year': 6, 'pop': '72160'}, 'NL003K1': {'year': 4, 'pop': '977584'}, 'RO013C1': {'year': 25, 'pop': '71913'}, 'ES033C1': {'year': 6, 'pop': '96236'}, 'PL020C1': {'year': 25, 'pop': '75206'}, 'UK107C1': {'year': 6, 'pop': '213800'}, 'DE064C1': {'year': 12, 'pop': '69157'}, 'DE070C1': {'year': 12, 'pop': '47564'}, 'HR005C1': {'year': 15, 'pop': '188694'}, 'FR061C2': {'year': 7, 'pop': '101532'}, 'FR040C2': {'year': 7, 'pop': '251271'}, 'BE006C1': {'year': 26, 'pop': '117460'}, 'PL507C1': {'year': 16, 'pop': '152280'}, 'UK516C1': {'year': 15, 'pop': '240714'}, 'NL020C1': {'year': 6, 'pop': '77566'}, 'UK554C1': {'year': 15, 'pop': '138945'}, 'UK111C1': {'year': 6, 'pop': '246400'}, 'FR074C2': {'year': 7, 'pop': '70489'}, 'UK533C1': {'year': 15, 'pop': '181096'}, 'UK012C1': {'year': 26, 'pop': '294580'}, 'ES060C1': {'year': 6, 'pop': '71783'}, 'BG014C1': {'year': 6, 'pop': '77050'}, 'ES034C1': {'year': 6, 'pop': '94179'}, 'UK103C1': {'year': 6, 'pop': '348600'}, 'ES054C1': {'year': 6, 'pop': '71198'}, 'ES014C1': {'year': 25, 'pop': '180372'}, 'IT033C1': {'year': 6, 'pop': '102687'}, 'RO018C1': {'year': 15, 'pop': '91297'}, 'UK512C1': {'year': 15, 'pop': '253502'}, 'UK510C1': {'year': 15, 'pop': '280801'}, 'FR322C1': {'year': 7, 'pop': '139954'}, 'DE006C1': {'year': 24, 'pop': '627269'}, 'UK005C1': {'year': 25, 'pop': '468800'}, 'UK062C1': {'year': 6, 'pop': '124200'}, 'SK008C1': {'year': 15, 'pop': '57854'}, 'IT036C1': {'year': 6, 'pop': '95641'}, 'DE506C1': {'year': 15, 'pop': '245516'}, 'FR057C2': {'year': 7, 'pop': '118902'}, 'UK108C1': {'year': 6, 'pop': '355400'}, 'EL002C1': {'year': 25, 'pop': '383967'}, 'NL024C1': {'year': 6, 'pop': '70533'}, 'TR018C1': {'year': 16, 'pop': '742690'}, 'IT002K1': {'year': 6, 'pop': '3154102'}, 'ES507C1': {'year': 15, 'pop': '183788'}, 'IT001C1': {'year': 25, 'pop': '2775250'}, 'UK560C1': {'year': 15, 'pop': '134248'}, 'ES040C1': {'year': 6, 'pop': '88986'}, 'FR022C2': {'year': 7, 'pop': '279385'}, 'BG016C1': {'year': 6, 'pop': '70404'}, 'UK033C1': {'year': 6, 'pop': '134600'}, 'HR003C1': {'year': 15, 'pop': '64612'}, 'CH002C1': {'year': 26, 'pop': '171042'}, 'UK038C1': {'year': 6, 'pop': '115900'}, 'FR012C1': {'year': 26, 'pop': '260189'}, 'PL031C1': {'year': 5, 'pop': '76480'}, 'ES036C1': {'year': 6, 'pop': '82804'}, 'BG002C1': {'year': 24, 'pop': '329972'}, 'ES005C1': {'year': 26, 'pop': '592686'}, 'DE515C1': {'year': 15, 'pop': '174018'}, 'UK520C1': {'year': 15, 'pop': '217450'}, 'HU003C1': {'year': 26, 'pop': '114152'}, 'NO004C1': {'year': 15, 'pop': '108848'}, 'DE047C1': {'year': 12, 'pop': '88897'}, 'DE050C1': {'year': 12, 'pop': '83137'}, 'UK029K1': {'year': 6, 'pop': '630000'}, 'ES519C1': {'year': 15, 'pop': '148934'}, 'PL501C1': {'year': 16, 'pop': '253387'}, 'UK016C1': {'year': 26, 'pop': '212870'}, 'UK552K1': {'year': 6, 'pop': '307700'}, 'ES009C1': {'year': 26, 'pop': '333680'}, 'NL015C1': {'year': 17, 'pop': '88762'}, 'IT513C1': {'year': 15, 'pop': '107898'}, 'FR013C2': {'year': 7, 'pop': '394201'}, 'DE041C1': {'year': 15, 'pop': '140779'}, 'ES520C1': {'year': 15, 'pop': '147667'}, 'CY501C1': {'year': 15, 'pop': '156939'}, 'ES047C1': {'year': 6, 'pop': '88065'}, 'DE037C1': {'year': 26, 'pop': '177062'}, 'TR024C1': {'year': 16, 'pop': '214949'}, 'NL016C1': {'year': 6, 'pop': '95243'}, 'FR324C1': {'year': 7, 'pop': '69181'}, 'ES020C1': {'year': 15, 'pop': '308072'}, 'FR311C1': {'year': 7, 'pop': '125748'}, 'UK514C1': {'year': 15, 'pop': '248190'}, 'IT042C1': {'year': 6, 'pop': '82208'}, 'FR027C1': {'year': 26, 'pop': '67686'}, 'UK003C1': {'year': 25, 'pop': '706700'}, 'CH009K1': {'year': 7, 'pop': '75805'}, 'PL005C1': {'year': 25, 'pop': '587971'}, 'RO509C1': {'year': 15, 'pop': '118975'}, 'FR073C2': {'year': 7, 'pop': '74995'}, 'FR001C1': {'year': 26, 'pop': '2152423'}, 'SE502C1': {'year': 15, 'pop': '122199'}, 'UK004C1': {'year': 26, 'pop': '631140'}, 'NL017C1': {'year': 6, 'pop': '96760'}, 'DE022C1': {'year': 24, 'pop': '176962'}, 'PL013C1': {'year': 25, 'pop': '199527'}, 'PT016C1': {'year': 6, 'pop': '89210'}, 'DE536C1': {'year': 15, 'pop': '111696'}, 'DE542C1': {'year': 15, 'pop': '103717'}, 'ES514C1': {'year': 15, 'pop': '166328'}, 'DE546C1': {'year': 24, 'pop': '388102'}, 'RO501C1': {'year': 15, 'pop': '313598'}, 'FR202C1': {'year': 26, 'pop': '302133'}, 'FR053C1': {'year': 26, 'pop': '125920'}, 'CH002K1': {'year': 16, 'pop': '730773'}, 'FR213C1': {'year': 7, 'pop': '16195'}, 'UK535C1': {'year': 15, 'pop': '180046'}, 'FR030C1': {'year': 26, 'pop': '163969'}, 'ES532C1': {'year': 15, 'pop': '101468'}, 'RO511C1': {'year': 15, 'pop': '112387'}, 'PT010C1': {'year': 6, 'pop': '157571'}, 'TR022C1': {'year': 16, 'pop': '363180'}, 'EE002C1': {'year': 26, 'pop': '114242'}, 'FR021C2': {'year': 7, 'pop': '136022'}, 'PL017C1': {'year': 25, 'pop': '121549'}, 'UK562K1': {'year': 6, 'pop': '247100'}, 'NL010C1': {'year': 26, 'pop': '94046'}, 'PL045C1': {'year': 5, 'pop': '64756'}, 'FI008C2': {'year': 8, 'pop': '94838'}, 'DE069C1': {'year': 12, 'pop': '59988'}, 'UK110C1': {'year': 6, 'pop': '304800'}, 'FI007C1': {'year': 8, 'pop': '99308'}, 'FR062C1': {'year': 26, 'pop': '95646'}, 'TR006C1': {'year': 16, 'pop': '275480'}, 'FR045C2': {'year': 7, 'pop': '148591'}, 'NL026C1': {'year': 6, 'pop': '72534'}, 'ES032C1': {'year': 6, 'pop': '96689'}, 'NL513C1': {'year': 13, 'pop': '87526'}, 'FI002C1': {'year': 25, 'pop': '173797'}, 'BG001C1': {'year': 26, 'pop': '1141142'}, 'FR020C2': {'year': 7, 'pop': '245047'}, 'NL007C1': {'year': 26, 'pop': '167872'}, 'NL027C1': {'year': 6, 'pop': '65345'}, 'FR007C1': {'year': 26, 'pop': '624286'}, 'IT056C1': {'year': 6, 'pop': '52881'}, 'ES061C1': {'year': 6, 'pop': '58407'}, 'TR011C1': {'year': 16, 'pop': '144910'}, 'PL502C1': {'year': 16, 'pop': '234486'}, 'TR020C1': {'year': 16, 'pop': '214345'}, 'ES013C1': {'year': 26, 'pop': '194637'}, 'FR211C1': {'year': 7, 'pop': '182143'}, 'DE054C1': {'year': 12, 'pop': '80716'}, 'DE019C1': {'year': 24, 'pop': '274244'}, 'NL018C1': {'year': 6, 'pop': '84573'}, 'IT502C1': {'year': 15, 'pop': '172499'}, 'PT018C1': {'year': 6, 'pop': '79025'}, 'PL509C1': {'year': 16, 'pop': '133463'}, 'UK013C1': {'year': 25, 'pop': '275000'}, 'PL043C1': {'year': 5, 'pop': '68922'}, 'ES069C1': {'year': 6, 'pop': '62250'}, 'CH003K1': {'year': 7, 'pop': '312127'}, 'UK562C1': {'year': 15, 'pop': '129632'}, 'FR223C1': {'year': 7, 'pop': '45715'}, 'IT014C1': {'year': 25, 'pop': '101545'}, 'DE062C1': {'year': 12, 'pop': '69899'}, 'BG018C1': {'year': 6, 'pop': '61011'}, 'ES012C1': {'year': 26, 'pop': '209506'}, 'DE080C1': {'year': 12, 'pop': '50247'}, 'SE501C1': {'year': 15, 'pop': '126328'}, 'FI009C1': {'year': 8, 'pop': '126546'}, 'PL035C1': {'year': 5, 'pop': '75938'}, 'BG010C1': {'year': 6, 'pop': '92672'}, 'IT506C1': {'year': 15, 'pop': '134631'}, 'DE075C1': {'year': 12, 'pop': '55926'}, 'BE007C1': {'year': 14, 'pop': '105393'}, 'ES030C1': {'year': 6, 'pop': '120182'}, 'PL022C1': {'year': 25, 'pop': '78817'}, 'NL508C1': {'year': 6, 'pop': '142788'}, 'UK102C1': {'year': 6, 'pop': '180200'}, 'FR034C2': {'year': 7, 'pop': '191416'}, 'BE009C1': {'year': 6, 'pop': '91759'}, 'UK549C1': {'year': 15, 'pop': '147908'}, 'CZ003C1': {'year': 26, 'pop': '331219'}, 'ES521C1': {'year': 15, 'pop': '142284'}, 'ES002K1': {'year': 6, 'pop': '3191076'}, 'UK539C1': {'year': 15, 'pop': '163440'}, 'DE501C1': {'year': 15, 'pop': '512030'}, 'RO001C1': {'year': 25, 'pop': '2107080'}, 'UK567C1': {'year': 15, 'pop': '119063'}, 'ES022C1': {'year': 15, 'pop': '280186'}, 'ES075C1': {'year': 6, 'pop': '52459'}, 'ES070C1': {'year': 6, 'pop': '60938'}, 'ES016C1': {'year': 26, 'pop': '60671'}, 'FR003C2': {'year': 7, 'pop': '1282085'}, 'UK027C1': {'year': 14, 'pop': '239500'}, 'PT504C1': {'year': 16, 'pop': '162076'}, 'ES522C1': {'year': 15, 'pop': '133363'}, 'UK511C1': {'year': 15, 'pop': '261024'}, 'UK568C2': {'year': 6, 'pop': '329300'}, 'DK002C1': {'year': 25, 'pop': '264136'}, 'FR216C1': {'year': 7, 'pop': '74791'}, 'UK519C1': {'year': 15, 'pop': '218074'}, 'CZ009C1': {'year': 15, 'pop': '97155'}, 'ES528C1': {'year': 15, 'pop': '112199'}, 'FR306C1': {'year': 7, 'pop': '86735'}, 'UK056C1': {'year': 6, 'pop': '89500'}, 'PT017C1': {'year': 6, 'pop': '86836'}, 'PL028C1': {'year': 16, 'pop': '108899'}, 'IT003C1': {'year': 25, 'pop': '1067365'}, 'ES526C1': {'year': 15, 'pop': '112992'}, 'DE076C1': {'year': 8, 'pop': '52866'}, 'IT049C1': {'year': 6, 'pop': '65588'}, 'DE537C1': {'year': 16, 'pop': '110650'}, 'IT046C1': {'year': 6, 'pop': '71184'}, 'RO022C1': {'year': 3, 'pop': '92448'}, 'HR001C1': {'year': 15, 'pop': '779145'}, 'EL008C1': {'year': 25, 'pop': '60187'}, 'FR210C1': {'year': 7, 'pop': '86284'}, 'DE074C1': {'year': 12, 'pop': '58518'}, 'IT508C1': {'year': 15, 'pop': '128656'}, 'PL515C1': {'year': 16, 'pop': '118708'}, 'ES011C1': {'year': 26, 'pop': '91419'}, 'UK132C1': {'year': 6, 'pop': '301000'}, 'AT006C1': {'year': 3, 'pop': '95450'}, 'ES023C1': {'year': 15, 'pop': '266419'}, 'FR093C2': {'year': 7, 'pop': '78930'}, 'IT060C1': {'year': 6, 'pop': '47791'}, 'ES529C1': {'year': 15, 'pop': '107510'}, 'UK101C1': {'year': 6, 'pop': '7400'}, 'UK501C1': {'year': 15, 'pop': '388562'}, 'UK547C1': {'year': 15, 'pop': '152790'}, 'FR008C1': {'year': 26, 'pop': '505076'}, 'UK040C1': {'year': 6, 'pop': '113400'}, 'DE003C1': {'year': 24, 'pop': '1256638'}, 'DE027C1': {'year': 24, 'pop': '195789'}, 'IT020C1': {'year': 25, 'pop': '50941'}, 'PL015C1': {'year': 25, 'pop': '148560'}, 'PT007C1': {'year': 25, 'pop': '61989'}, 'RO014C1': {'year': 25, 'pop': '73196'}, 'ES057C1': {'year': 6, 'pop': '68767'}, 'PL038C1': {'year': 5, 'pop': '69771'}, 'HU010C1': {'year': 6, 'pop': '79438'}, 'IT050C1': {'year': 6, 'pop': '62219'}, 'IT048C1': {'year': 6, 'pop': '69717'}, 'IT022C1': {'year': 25, 'pop': '232334'}, 'SE002C1': {'year': 26, 'pop': '431840'}, 'DE516C1': {'year': 15, 'pop': '165032'}, 'UK008C1': {'year': 25, 'pop': '432700'}, 'DE059C1': {'year': 12, 'pop': '74818'}, 'NL008C1': {'year': 26, 'pop': '146010'}, 'DE518C1': {'year': 15, 'pop': '162458'}, 'PL051C1': {'year': 5, 'pop': '60809'}, 'FR076C2': {'year': 7, 'pop': '94848'}, 'CH003C1': {'year': 26, 'pop': '178428'}, 'DE026C1': {'year': 24, 'pop': '98958'}, 'UK113C1': {'year': 6, 'pop': '180500'}, 'UK502C1': {'year': 12, 'pop': '322800'}, 'DE533C1': {'year': 15, 'pop': '118002'}, 'NL002K1': {'year': 4, 'pop': '1021754'}, 'FR201C1': {'year': 26, 'pop': '66707'}, 'IT045C1': {'year': 6, 'pop': '75910'}, 'BG005C1': {'year': 26, 'pop': '138323'}, 'UK006C1': {'year': 25, 'pop': '475600'}, 'NL002C1': {'year': 26, 'pop': '695162'}, 'UK018C1': {'year': 25, 'pop': '104800'}, 'PL504C1': {'year': 16, 'pop': '197111'}, 'FR016C1': {'year': 26, 'pop': '256371'}, 'ES535C1': {'year': 15, 'pop': '92090'}, 'UK537C1': {'year': 15, 'pop': '176848'}, 'LV002C1': {'year': 26, 'pop': '114337'}, 'PL039C1': {'year': 5, 'pop': '72907'}, 'NL511C1': {'year': 14, 'pop': '109000'}, 'DE009C1': {'year': 24, 'pop': '502900'}, 'UK010C1': {'year': 25, 'pop': '520100'}, 'FR037C1': {'year': 26, 'pop': '208265'}, 'NL028C1': {'year': 6, 'pop': '65845'}, 'FR220C1': {'year': 7, 'pop': '57490'}, 'DE523C1': {'year': 15, 'pop': '140869'}, 'UK534C1': {'year': 15, 'pop': '180604'}, 'UK544C1': {'year': 15, 'pop': '157060'}, 'FR209C2': {'year': 7, 'pop': '152270'}, 'FR001K1': {'year': 17, 'pop': '6164418'}, 'PL041C1': {'year': 5, 'pop': '65784'}, 'BE004C1': {'year': 26, 'pop': '206779'}, 'FR046C2': {'year': 7, 'pop': '121724'}, 'FR032C2': {'year': 7, 'pop': '424336'}, 'BG017C1': {'year': 6, 'pop': '67099'}, 'NL006C1': {'year': 26, 'pop': '156421'}, 'IT017C1': {'year': 25, 'pop': '101285'}, 'FR086C2': {'year': 7, 'pop': '82025'}, 'PL034C1': {'year': 5, 'pop': '74818'}, 'PL032C1': {'year': 5, 'pop': '76505'}, 'PL036C1': {'year': 5, 'pop': '73300'}, 'FR044C2': {'year': 7, 'pop': '230961'}, 'IT006C1': {'year': 25, 'pop': '678771'}, 'PT001K1': {'year': 16, 'pop': '1799346'}, 'LV003C1': {'year': 6, 'pop': '60923'}, 'UK105C1': {'year': 6, 'pop': '301500'}, 'IT037C1': {'year': 6, 'pop': '94949'}, 'PL512C1': {'year': 16, 'pop': '128305'}, 'DE012C1': {'year': 24, 'pop': '554377'}, 'IE005C1': {'year': 20, 'pop': '39997'}, 'IT505C1': {'year': 15, 'pop': '141877'}, 'FR043C2': {'year': 7, 'pop': '252044'}, 'FR222C1': {'year': 7, 'pop': '83923'}, 'UK569C1': {'year': 15, 'pop': '117061'}, 'ES056C1': {'year': 6, 'pop': '64077'}, 'IT030C1': {'year': 24, 'pop': '176906'}, 'SE001K1': {'year': 16, 'pop': '1370815'}, 'DE528C1': {'year': 15, 'pop': '120780'}, 'PL033C1': {'year': 5, 'pop': '75147'}, 'UK022C1': {'year': 25, 'pop': '124200'}, 'DE066C1': {'year': 12, 'pop': '61504'}, 'DE004C1': {'year': 24, 'pop': '960631'}, 'UK036C1': {'year': 6, 'pop': '111100'}, 'FR505C1': {'year': 7, 'pop': '67712'}, 'DE055C1': {'year': 12, 'pop': '78951'}, 'NL011C1': {'year': 17, 'pop': '136157'}, 'SK001C1': {'year': 26, 'pop': '444660'}, 'PL003C1': {'year': 25, 'pop': '746627'}, 'DE040C1': {'year': 15, 'pop': '182858'}, 'ES067C1': {'year': 6, 'pop': '69439'}, 'IT016C1': {'year': 25, 'pop': '144732'}, 'TR014C1': {'year': 16, 'pop': '78473'}, 'PL046C1': {'year': 5, 'pop': '65834'}, 'UK020C1': {'year': 25, 'pop': '93300'}, 'SE004C1': {'year': 26, 'pop': '110860'}, 'RO504C1': {'year': 15, 'pop': '287794'}, 'DE502C1': {'year': 15, 'pop': '308385'}, 'IT057C1': {'year': 6, 'pop': '56512'}, 'FR082C2': {'year': 7, 'pop': '79221'}, 'ES062C1': {'year': 6, 'pop': '66541'}, 'IT047C1': {'year': 6, 'pop': '70818'}, 'IT059C1': {'year': 6, 'pop': '45845'}, 'NL032C1': {'year': 6, 'pop': '47997'}, 'ES035C1': {'year': 6, 'pop': '101091'}, 'CZ001C1': {'year': 26, 'pop': '1214885'}, 'DE032C1': {'year': 24, 'pop': '218770'}, 'FR212C1': {'year': 7, 'pop': '169184'}, 'DE073C1': {'year': 12, 'pop': '58888'}, 'ES051C1': {'year': 6, 'pop': '80277'}, 'UK513C1': {'year': 15, 'pop': '249488'}, 'RO508C1': {'year': 15, 'pop': '139167'}, 'RO004C1': {'year': 25, 'pop': '306504'}, 'NL506C1': {'year': 14, 'pop': '120222'}, 'IT501C1': {'year': 15, 'pop': '252026'}, 'DE534C1': {'year': 15, 'pop': '117311'}, 'PL037C1': {'year': 5, 'pop': '70263'}, 'NL004C1': {'year': 26, 'pop': '230358'}, 'IT511C1': {'year': 15, 'pop': '113143'}, 'SK004C1': {'year': 26, 'pop': '91930'}, 'ES058C1': {'year': 6, 'pop': '78157'}, 'UK007C1': {'year': 26, 'pop': '436140'}, 'DK004C2': {'year': 25, 'pop': '155664'}, 'FR064C2': {'year': 7, 'pop': '92359'}, 'UK104C1': {'year': 6, 'pop': '229400'}, 'FR504C1': {'year': 7, 'pop': '190427'}, 'CZ005C1': {'year': 26, 'pop': '106463'}, 'UK503C1': {'year': 15, 'pop': '315166'}, 'DE508C1': {'year': 15, 'pop': '239559'}, 'CZ006C1': {'year': 15, 'pop': '102607'}, 'PL511C1': {'year': 16, 'pop': '131675'}, 'NL009C1': {'year': 26, 'pop': '130220'}, 'UK023C1': {'year': 25, 'pop': '186800'}, 'NL005C1': {'year': 26, 'pop': '191467'}, 'UK561C1': {'year': 15, 'pop': '129706'}, 'SK005C1': {'year': 15, 'pop': '92786'}, 'UK543C1': {'year': 15, 'pop': '157974'}, 'DE023C1': {'year': 24, 'pop': '106384'}, 'NL514C1': {'year': 13, 'pop': '93390'}, 'PL513C1': {'year': 16, 'pop': '121833'}, 'DE072C1': {'year': 12, 'pop': '58041'}, 'UK536C1': {'year': 15, 'pop': '178417'}, 'UK509C1': {'year': 15, 'pop': '282909'}, 'ES041C1': {'year': 6, 'pop': '82169'}, 'NL502C1': {'year': 14, 'pop': '137669'}, 'PT006C1': {'year': 25, 'pop': '103634'}, 'DE031C1': {'year': 24, 'pop': '124084'}, 'ES048C1': {'year': 6, 'pop': '83789'}, 'ES046C1': {'year': 6, 'pop': '79430'}, 'DE525C1': {'year': 15, 'pop': '124587'}, 'DE543C1': {'year': 15, 'pop': '103158'}, 'CZ010C1': {'year': 15, 'pop': '90889'}, 'UK044C1': {'year': 6, 'pop': '104700'}, 'PT008C1': {'year': 25, 'pop': '66444'}, 'IT028C1': {'year': 24, 'pop': '214957'}, 'NL021C1': {'year': 6, 'pop': '72345'}, 'BE010C1': {'year': 6, 'pop': '74911'}, 'DE043C1': {'year': 15, 'pop': '198964'}, 'BG009C1': {'year': 6, 'pop': '93781'}, 'TR008C1': {'year': 16, 'pop': '119298'}, 'ES072C1': {'year': 6, 'pop': '58156'}, 'FR048C1': {'year': 26, 'pop': '119372'}, 'ES518C1': {'year': 15, 'pop': '151479'}, 'PL040C1': {'year': 5, 'pop': '64728'}, 'DE071C1': {'year': 12, 'pop': '59140'}, 'FR056C1': {'year': 26, 'pop': '101636'}, 'PL505C1': {'year': 16, 'pop': '195807'}, 'UK131C1': {'year': 6, 'pop': '251100'}, 'EE003C1': {'year': 6, 'pop': '65495'}, 'BE002C1': {'year': 26, 'pop': '470349'}, 'IE003C1': {'year': 20, 'pop': '48615'}, 'IT031C1': {'year': 24, 'pop': '156240'}, 'IT053C1': {'year': 6, 'pop': '62956'}, 'PL008C1': {'year': 25, 'pop': '377807'}, 'FR050C2': {'year': 7, 'pop': '117721'}, 'PL018C1': {'year': 25, 'pop': '111910'}, 'ES015C1': {'year': 26, 'pop': '194221'}, 'FR218C1': {'year': 7, 'pop': '36565'}, 'ES524C1': {'year': 15, 'pop': '128822'}, 'DE011C1': {'year': 24, 'pop': '578135'}, 'NO006C1': {'year': 15, 'pop': '60086'}, 'FR047C2': {'year': 7, 'pop': '78457'}, 'PL016C1': {'year': 25, 'pop': '126404'}, 'FR042C1': {'year': 26, 'pop': '208548'}, 'PL007C1': {'year': 25, 'pop': '410331'}, 'UK546C1': {'year': 15, 'pop': '155795'}, 'UK028C1': {'year': 14, 'pop': '238300'}, 'FR304C1': {'year': 7, 'pop': '106877'}, 'IT504C1': {'year': 15, 'pop': '156274'}, 'DE509C1': {'year': 15, 'pop': '221619'}, 'PL010C1': {'year': 25, 'pop': '367014'}, 'DE007C1': {'year': 15, 'pop': '587152'}, 'NL504C1': {'year': 14, 'pop': '129720'}, 'NL503C1': {'year': 14, 'pop': '131697'}, 'TR017C1': {'year': 16, 'pop': '195699'}, 'BG015C1': {'year': 6, 'pop': '75346'}, 'DE036C1': {'year': 24, 'pop': '265069'}, 'ES006C1': {'year': 26, 'pop': '560495'}, 'IT015C1': {'year': 25, 'pop': '231100'}, 'IT005C1': {'year': 25, 'pop': '698556'}, 'DE527C1': {'year': 15, 'pop': '118701'}, 'ES007C1': {'year': 26, 'pop': '322911'}, 'IT019C1': {'year': 25, 'pop': '122236'}, 'DE028C1': {'year': 24, 'pop': '124398'}, 'FR060C2': {'year': 7, 'pop': '108629'}, 'AT001C1': {'year': 25, 'pop': '1539848'}, 'AT002C1': {'year': 25, 'pop': '237810'}, 'CZ007C1': {'year': 15, 'pop': '99102'}, 'SI001C1': {'year': 25, 'pop': '272650'}, 'NL505C1': {'year': 14, 'pop': '122005'}, 'DE079C1': {'year': 12, 'pop': '52684'}, 'DE538C1': {'year': 15, 'pop': '111257'}, 'CH008K1': {'year': 7, 'pop': '153165'}, 'BG006C1': {'year': 26, 'pop': '192365'}, 'NL516C1': {'year': 13, 'pop': '84233'}, 'NL501C1': {'year': 14, 'pop': '147831'}, 'IT041C1': {'year': 6, 'pop': '87440'}, 'CH006C1': {'year': 26, 'pop': '86959'}, 'UK014K1': {'year': 6, 'pop': '471400'}, 'DE005C1': {'year': 24, 'pop': '663952'}, 'UK551C1': {'year': 12, 'pop': '147500'}, 'CZ018C2': {'year': 9, 'pop': '70806'}, 'ES052C1': {'year': 6, 'pop': '73591'}, 'IT043C1': {'year': 6, 'pop': '81788'}, 'UK531C1': {'year': 15, 'pop': '191086'}, 'IT507C1': {'year': 15, 'pop': '130992'}, 'EL006C1': {'year': 25, 'pop': '77192'}, 'ES059C1': {'year': 6, 'pop': '65998'}, 'ES049C1': {'year': 6, 'pop': '81745'}, 'ES045C1': {'year': 6, 'pop': '80579'}, 'DE504C1': {'year': 15, 'pop': '267197'}, 'PT003C1': {'year': 25, 'pop': '141256'}, 'HR002C1': {'year': 15, 'pop': '144043'}, 'ES010C1': {'year': 25, 'pop': '296754'}, 'FI003C1': {'year': 25, 'pop': '159403'}, 'PL049C1': {'year': 5, 'pop': '60213'}, 'ES063C1': {'year': 6, 'pop': '66532'}, 'ES503C1': {'year': 15, 'pop': '205836'}, 'UK114C1': {'year': 6, 'pop': '251300'}, 'IT008C1': {'year': 25, 'pop': '342309'}, 'TR012C1': {'year': 16, 'pop': '8803468'}, 'UK035C1': {'year': 6, 'pop': '124500'}, 'CY001C1': {'year': 26, 'pop': '166900'}, 'UK548C1': {'year': 15, 'pop': '152578'}, 'DE077C1': {'year': 12, 'pop': '54601'}, 'DE541C1': {'year': 15, 'pop': '105569'}, 'FR214C1': {'year': 7, 'pop': '119332'}, 'BE005C1': {'year': 26, 'pop': '196825'}, 'FI001K2': {'year': 14, 'pop': '964953'}, 'ES018C1': {'year': 26, 'pop': '121911'}, 'NL029C1': {'year': 6, 'pop': '61828'}, 'UK025C1': {'year': 14, 'pop': '302600'}, 'ES073C1': {'year': 6, 'pop': '54815'}, 'CH005K1': {'year': 7, 'pop': '216532'}, 'PL042C1': {'year': 5, 'pop': '66176'}, 'TR004C1': {'year': 16, 'pop': '215436'}, 'DE532C1': {'year': 15, 'pop': '118347'}, 'UK564C1': {'year': 15, 'pop': '125932'}, 'FI006C1': {'year': 8, 'pop': '192522'}, 'IT009C1': {'year': 25, 'pop': '404378'}, 'SE503C1': {'year': 15, 'pop': '117737'}, 'UK001K2': {'year': 25, 'pop': '6829300'}, 'PT009C1': {'year': 16, 'pop': '56552'}, 'PL517C1': {'year': 16, 'pop': '100878'}, 'RO502C1': {'year': 15, 'pop': '304471'}, 'IT038C1': {'year': 6, 'pop': '94089'}, 'UK529C1': {'year': 15, 'pop': '191661'}, 'RO015C1': {'year': 15, 'pop': '103264'}, 'PT014C1': {'year': 6, 'pop': '98914'}, 'PL029C1': {'year': 5, 'pop': '95542'}, 'FR104C2': {'year': 7, 'pop': '64247'}, 'DE039C1': {'year': 15, 'pop': '232242'}, 'NL014C1': {'year': 17, 'pop': '152860'}, 'PL006C1': {'year': 25, 'pop': '464308'}, 'DE535C1': {'year': 15, 'pop': '109926'}, 'SK006C1': {'year': 15, 'pop': '85400'}, 'UK011C1': {'year': 25, 'pop': '392200'}, 'PL021C1': {'year': 25, 'pop': '57627'}, 'ES512C1': {'year': 15, 'pop': '173775'}, 'RO011C1': {'year': 25, 'pop': '119628'}, 'UK043C1': {'year': 6, 'pop': '112500'}, 'ES004C1': {'year': 26, 'pop': '678218'}, 'PT002K1': {'year': 6, 'pop': '980311'}, 'ES508C1': {'year': 15, 'pop': '183273'}, 'LT502C1': {'year': 15, 'pop': '134032'}, 'RO510C1': {'year': 15, 'pop': '118940'}, 'PT502C1': {'year': 16, 'pop': '284683'}, 'ES504C1': {'year': 15, 'pop': '196524'}, 'UK552C1': {'year': 15, 'pop': '143091'}, 'DE033C1': {'year': 24, 'pop': '264852'}, 'DE014C1': {'year': 24, 'pop': '500198'}, 'TR023C1': {'year': 16, 'pop': '98281'}, 'EL001K1': {'year': 12, 'pop': '2884338'}, 'PT001C1': {'year': 25, 'pop': '663394'}, 'FR309C1': {'year': 7, 'pop': '96259'}, 'BG007C1': {'year': 26, 'pop': '67992'}, 'UK130C1': {'year': 6, 'pop': '244500'}, 'UK527C1': {'year': 15, 'pop': '199518'}, 'DE061C1': {'year': 12, 'pop': '68607'}, 'PL027C1': {'year': 16, 'pop': '110104'}, 'SE007C1': {'year': 15, 'pop': '133168'}, 'UK557C1': {'year': 15, 'pop': '137478'}, 'IT516C1': {'year': 15, 'pop': '100910'}, 'ES074C1': {'year': 6, 'pop': '64845'}, 'PL010K1': {'year': 5, 'pop': '1927787'}, 'NL019C1': {'year': 6, 'pop': '80695'}, 'FR501C1': {'year': 7, 'pop': '130844'}, 'FR217C1': {'year': 7, 'pop': '64771'}, 'UK123C1': {'year': 6, 'pop': '271500'}, 'UK006K1': {'year': 6, 'pop': '1055400'}, 'DE042C1': {'year': 15, 'pop': '107730'}, 'IE001K1': {'year': 11, 'pop': '1119624'}, 'DE056C1': {'year': 12, 'pop': '75485'}, 'DE531C1': {'year': 15, 'pop': '118429'}, 'ES509C1': {'year': 15, 'pop': '182705'}, 'FR019C1': {'year': 26, 'pop': '245849'}, 'UK002C1': {'year': 25, 'pop': '1004500'}, 'UK032C1': {'year': 6, 'pop': '155800'}, 'IT054C1': {'year': 6, 'pop': '60522'}, 'CZ012C1': {'year': 15, 'pop': '71132'}, 'CH004C1': {'year': 26, 'pop': '136338'}, 'UK566C1': {'year': 15, 'pop': '121554'}, 'BG012C1': {'year': 6, 'pop': '78920'}, 'ES017C1': {'year': 26, 'pop': '126781'}, 'UK574C1': {'year': 15, 'pop': '108698'}, 'FR305C1': {'year': 7, 'pop': '82726'}, 'IE004C1': {'year': 20, 'pop': '51816'}, 'SE504C1': {'year': 15, 'pop': '98948'}, 'RO503C1': {'year': 15, 'pop': '303882'}, 'UK120C1': {'year': 6, 'pop': '161200'}, 'AT004C1': {'year': 15, 'pop': '142662'}, 'FR205C2': {'year': 7, 'pop': '520252'}, 'TR010C1': {'year': 16, 'pop': '853513'}, 'PT505C1': {'year': 16, 'pop': '157712'}, 'DE544C1': {'year': 15, 'pop': '101726'}, 'NO003C1': {'year': 15, 'pop': '150166'}, 'ES031C1': {'year': 6, 'pop': '97635'}, 'PL012C1': {'year': 25, 'pop': '210699'}, 'CZ015C1': {'year': 9, 'pop': '84033'}, 'NL025C1': {'year': 6, 'pop': '67281'}, 'UK541C1': {'year': 15, 'pop': '160269'}, 'DE063C1': {'year': 12, 'pop': '70070'}, 'UK122C1': {'year': 6, 'pop': '295900'}, 'HU008C1': {'year': 15, 'pop': '107749'}, 'CH001C1': {'year': 26, 'pop': '365043'}, 'UK045C1': {'year': 6, 'pop': '103300'}, 'PT002C1': {'year': 25, 'pop': '302472'}, 'DE510C1': {'year': 15, 'pop': '213496'}, 'UK119C1': {'year': 6, 'pop': '198400'}, 'LU001C1': {'year': 25, 'pop': '75833'}, 'ES066C1': {'year': 6, 'pop': '87240'}, 'UK553C1': {'year': 15, 'pop': '142281'}, 'CZ004C1': {'year': 26, 'pop': '175550'}, 'FR028C1': {'year': 26, 'pop': '156852'}, 'ES024C1': {'year': 15, 'pop': '239019'}, 'FR011C1': {'year': 26, 'pop': '409836'}, 'RO017C1': {'year': 15, 'pop': '93386'}, 'FR310C1': {'year': 7, 'pop': '64315'}, 'HU006C1': {'year': 15, 'pop': '168273'}, 'CZ011C1': {'year': 15, 'pop': '80854'}, 'TR001C1': {'year': 16, 'pop': '3203362'}, 'UK507C1': {'year': 15, 'pop': '284515'}, 'PT015C1': {'year': 6, 'pop': '93362'}, 'NL512C1': {'year': 14, 'pop': '103708'}, 'UK126C1': {'year': 6, 'pop': '272800'}, 'EL009C1': {'year': 25, 'pop': '50260'}, 'FR039C2': {'year': 7, 'pop': '175659'}, 'NL517C1': {'year': 13, 'pop': '80962'}, 'ES037C1': {'year': 6, 'pop': '88503'}, 'DE017C1': {'year': 24, 'pop': '324287'}, 'ES517C1': {'year': 15, 'pop': '153100'}, 'DE015C1': {'year': 24, 'pop': '400356'}, 'TR026C1': {'year': 16, 'pop': '104276'}, 'ES527C1': {'year': 15, 'pop': '112590'}, 'LV501C1': {'year': 15, 'pop': '114481'}, 'IT514C1': {'year': 15, 'pop': '107223'}, 'UK528C1': {'year': 15, 'pop': '194463'}, 'SE001C1': {'year': 26, 'pop': '672187'}, 'CH010C1': {'year': 26, 'pop': '51893'}, 'UK530C1': {'year': 15, 'pop': '191142'}, 'PL052C1': {'year': 5, 'pop': '59274'}, 'UK050C1': {'year': 6, 'pop': '87000'}, 'EL005C1': {'year': 25, 'pop': '114334'}, 'TR003C1': {'year': 16, 'pop': '603190'}, 'DE517C1': {'year': 15, 'pop': '164195'}, 'LT003C1': {'year': 26, 'pop': '127310'}, 'UK504C1': {'year': 15, 'pop': '305159'}, 'DE545C1': {'year': 15, 'pop': '101912'}, 'SE003C1': {'year': 26, 'pop': '232908'}, 'FR084C1': {'year': 26, 'pop': '69230'}, 'DE048C1': {'year': 12, 'pop': '84586'}, 'NL519C1': {'year': 13, 'pop': '71729'}, 'DE503C1': {'year': 15, 'pop': '276740'}, 'PL009C1': {'year': 25, 'pop': '339901'}, 'UK556C1': {'year': 15, 'pop': '137820'}, 'UK550C1': {'year': 12, 'pop': '141900'}, 'IT023C1': {'year': 25, 'pop': '65714'}, 'RO512C1': {'year': 15, 'pop': '108981'}, 'FR035C2': {'year': 7, 'pop': '277989'}, 'RO021C1': {'year': 15, 'pop': '74028'}, 'IT007C1': {'year': 25, 'pop': '403294'}, 'LT002C1': {'year': 26, 'pop': '433938'}, 'ES003C1': {'year': 26, 'pop': '758738'}, 'UK541K1': {'year': 6, 'pop': '259200'}, 'RO020C1': {'year': 15, 'pop': '73068'}, 'EL001C1': {'year': 25, 'pop': '772072'}, 'UK059C1': {'year': 6, 'pop': '83300'}, 'UK008K1': {'year': 6, 'pop': '2650800'}, 'FR313C1': {'year': 7, 'pop': '78499'}, 'NL013C1': {'year': 17, 'pop': '151864'}, 'TR025C1': {'year': 16, 'pop': '284464'}, 'DE025C1': {'year': 24, 'pop': '141431'}, 'DE067C1': {'year': 12, 'pop': '60282'}, 'NL030C1': {'year': 6, 'pop': '71122'}, 'UK013K1': {'year': 6, 'pop': '821200'}, 'UK558C1': {'year': 15, 'pop': '136994'}, 'FR010C1': {'year': 26, 'pop': '353184'}, 'ES026C1': {'year': 15, 'pop': '236379'}, 'ES027C1': {'year': 6, 'pop': '99321'}, 'UK127C1': {'year': 6, 'pop': '185300'}, 'ES065C1': {'year': 6, 'pop': '64645'}, 'FR006C2': {'year': 7, 'pop': '468402'}, 'DE505C1': {'year': 15, 'pop': '255798'}, 'TR002C1': {'year': 16, 'pop': '1130710'}, 'IT002C1': {'year': 25, 'pop': '1369231'}, 'FR518C1': {'year': 7, 'pop': '144714'}, 'IT025C1': {'year': 25, 'pop': '177580'}, 'CZ016C1': {'year': 9, 'pop': '67543'}, 'ES043C1': {'year': 6, 'pop': '73638'}, 'FR067C2': {'year': 7, 'pop': '86210'}, 'FR052C2': {'year': 7, 'pop': '115927'}, 'DE058C1': {'year': 12, 'pop': '70614'}, 'FR099C1': {'year': 26, 'pop': '68102'}, 'UK545C1': {'year': 15, 'pop': '156059'}, 'AT005C1': {'year': 15, 'pop': '113392'}, 'NL031C1': {'year': 6, 'pop': '70252'}, 'DE526C1': {'year': 15, 'pop': '121887'}, 'DE521C1': {'year': 15, 'pop': '150957'}, 'UK518C1': {'year': 15, 'pop': '221700'}, 'FR025C1': {'year': 26, 'pop': '161672'}, 'UK034C1': {'year': 6, 'pop': '132900'}, 'DE539C1': {'year': 15, 'pop': '105954'}, 'ES531C1': {'year': 15, 'pop': '101988'}, 'UK542C1': {'year': 15, 'pop': '158325'}, 'IT013C1': {'year': 25, 'pop': '74113'}, 'DE057C1': {'year': 12, 'pop': '74001'}, 'DE060C1': {'year': 12, 'pop': '71319'}, 'DE065C1': {'year': 12, 'pop': '63447'}, 'UK115C1': {'year': 6, 'pop': '235500'}, 'EL004C1': {'year': 25, 'pop': '120417'}, 'TR009C1': {'year': 16, 'pop': '361235'}, 'DE008C1': {'year': 24, 'pop': '542512'}, 'TR005C1': {'year': 16, 'pop': '1194687'}, 'CZ014C1': {'year': 15, 'pop': '50702'}, 'CH007C1': {'year': 26, 'pop': '75237'}, 'FR004C2': {'year': 7, 'pop': '700210'}, 'PL011C1': {'year': 25, 'pop': '263884'}, 'UK117C1': {'year': 6, 'pop': '267600'}, 'UK505C1': {'year': 15, 'pop': '301422'}, 'FI001C2': {'year': 26, 'pop': '492400'}, 'ES021C1': {'year': 15, 'pop': '284580'}, 'UK124C1': {'year': 6, 'pop': '198600'}, 'BG004C1': {'year': 26, 'pop': '204915'}, 'RO002C1': {'year': 25, 'pop': '325090'}, 'UK125C1': {'year': 6, 'pop': '292800'}, 'IT044C1': {'year': 6, 'pop': '81716'}, 'UK576C1': {'year': 15, 'pop': '99750'}, 'FR049C2': {'year': 7, 'pop': '185977'}, 'FR207C1': {'year': 26, 'pop': '251585'}, 'PL026C1': {'year': 16, 'pop': '128580'}, 'UK030C1': {'year': 14, 'pop': '314000'}, 'RO003C1': {'year': 25, 'pop': '339092'}, 'CH004K1': {'year': 7, 'pop': '214858'}, 'FR063C2': {'year': 7, 'pop': '108027'}, 'UK565C1': {'year': 15, 'pop': '122029'}, 'PL503C1': {'year': 16, 'pop': '205092'}, 'IT055C1': {'year': 6, 'pop': '64192'}, 'DE053C1': {'year': 12, 'pop': '78511'}, 'IT503C1': {'year': 15, 'pop': '163457'}, 'HU002C1': {'year': 26, 'pop': '196442'}, 'FR215C2': {'year': 7, 'pop': '486492'}, 'PT503C1': {'year': 16, 'pop': '164953'}, 'DE520C1': {'year': 15, 'pop': '155908'}, 'NL520C1': {'year': 13, 'pop': '68555'}, 'FI004C3': {'year': 26, 'pop': '101379'}, 'BE008C1': {'year': 6, 'pop': '95463'}, 'UK061C1': {'year': 6, 'pop': '81100'}, 'UK522C1': {'year': 15, 'pop': '216102'}, 'IT027C1': {'year': 25, 'pop': '204237'}, 'FR323C1': {'year': 7, 'pop': '108621'}, 'UK572C1': {'year': 15, 'pop': '109892'}, 'IT040C1': {'year': 6, 'pop': '84812'}, 'SI002C1': {'year': 25, 'pop': '119828'}, 'FR096C2': {'year': 7, 'pop': '79999'}, 'HR004C1': {'year': 15, 'pop': '114616'}, 'FR206C1': {'year': 26, 'pop': '148514'}, 'CZ008C1': {'year': 15, 'pop': '97339'}, 'UK571C1': {'year': 15, 'pop': '110008'}, 'PT005C1': {'year': 25, 'pop': '139052'}, 'ES050C1': {'year': 6, 'pop': '76209'}, 'PL050C1': {'year': 5, 'pop': '58163'}, 'SE008C1': {'year': 15, 'pop': '124207'}, 'FR079C2': {'year': 7, 'pop': '72561'}, 'IT011C1': {'year': 25, 'pop': '309422'}, 'DE530C1': {'year': 15, 'pop': '118753'}, 'PL001C1': {'year': 25, 'pop': '1655272'}, 'ES039C1': {'year': 6, 'pop': '84202'}, 'LT501C1': {'year': 15, 'pop': '193220'}, 'DE522C1': {'year': 15, 'pop': '141509'}, 'IT039C1': {'year': 6, 'pop': '94799'}, 'ES523C1': {'year': 15, 'pop': '130916'}, 'NO001C1': {'year': 15, 'pop': '508726'}, 'DE045C1': {'year': 12, 'pop': '98234'}, 'DE044C1': {'year': 12, 'pop': '99095'}, 'CH008C1': {'year': 26, 'pop': '76466'}, 'ES516C1': {'year': 15, 'pop': '156368'}, 'UK046C1': {'year': 6, 'pop': '103900'}, 'IT052C1': {'year': 6, 'pop': '62494'}, 'ES029C1': {'year': 6, 'pop': '100900'}, 'RO006C1': {'year': 25, 'pop': '230276'}, 'HU001C1': {'year': 26, 'pop': '2016774'}, 'PT011C1': {'year': 6, 'pop': '175274'}, 'DE030C1': {'year': 24, 'pop': '62750'}, 'FR224C1': {'year': 7, 'pop': '88262'}, 'FR058C2': {'year': 7, 'pop': '121527'}, 'UK112C1': {'year': 6, 'pop': '239200'}, 'ES025C1': {'year': 15, 'pop': '188477'}, 'EL003C1': {'year': 25, 'pop': '155697'}, 'FR026C2': {'year': 7, 'pop': '396959'}, 'DE046C1': {'year': 12, 'pop': '91980'}, 'LT004C1': {'year': 6, 'pop': '63630'}, 'IT021C1': {'year': 25, 'pop': '69027'}, 'HU007C1': {'year': 15, 'pop': '129412'}, 'IT029C1': {'year': 24, 'pop': '193803'}, 'UK009C1': {'year': 25, 'pop': '296900'}, 'UK017C1': {'year': 25, 'pop': '106700'}, 'UK031C1': {'year': 6, 'pop': '173800'}, 'FR077C1': {'year': 26, 'pop': '74360'}, 'FR065C2': {'year': 7, 'pop': '95997'}, 'IE001C1': {'year': 20, 'pop': '450254'}, 'DE540C1': {'year': 15, 'pop': '108397'}, 'IE002C1': {'year': 20, 'pop': '120107'}, 'TR019C1': {'year': 16, 'pop': '381081'}, 'NL023C1': {'year': 6, 'pop': '79038'}, 'BG013C1': {'year': 6, 'pop': '77174'}, 'BE011C1': {'year': 6, 'pop': '69064'}, 'FR090C2': {'year': 7, 'pop': '73837'}, 'PL044C1': {'year': 5, 'pop': '69259'}, 'ES068C1': {'year': 6, 'pop': '66957'}, 'ES525C1': {'year': 15, 'pop': '113129'}, 'UK523C1': {'year': 15, 'pop': '213026'}, 'ES001C1': {'year': 26, 'pop': '3120732'}, 'DE049C1': {'year': 12, 'pop': '87581'}, 'UK106C1': {'year': 6, 'pop': '307700'}, 'UK532C1': {'year': 15, 'pop': '184367'}, 'UK506C1': {'year': 15, 'pop': '286864'}, 'ES044C1': {'year': 6, 'pop': '81981'}, 'IT010C1': {'year': 25, 'pop': '333075'}, 'PL004C1': {'year': 25, 'pop': '638986'}, 'DE020C1': {'year': 24, 'pop': '268069'}, 'FR066C1': {'year': 26, 'pop': '103406'}, 'DE081C1': {'year': 12, 'pop': '50683'}, 'ES511C1': {'year': 15, 'pop': '176434'}, 'ES533C1': {'year': 15, 'pop': '100036'}, 'UK538C1': {'year': 15, 'pop': '165693'}, 'UK508C1': {'year': 15, 'pop': '282951'}, 'NO002C1': {'year': 15, 'pop': '230948'}, 'UK109C1': {'year': 6, 'pop': '332000'}, 'PL025C1': {'year': 16, 'pop': '230492'}, 'CH009C2': {'year': 26, 'pop': '46113'}, 'DE001C1': {'year': 24, 'pop': '3465748'}, 'UK128C1': {'year': 6, 'pop': '282400'}, 'PT013C1': {'year': 6, 'pop': '143257'}, 'UK053C1': {'year': 6, 'pop': '91700'}, 'PL019C1': {'year': 25, 'pop': '92569'}, 'DE524C1': {'year': 15, 'pop': '129915'}, 'RO505C1': {'year': 15, 'pop': '239008'}, 'IT026C1': {'year': 25, 'pop': '122339'}, 'UK023K1': {'year': 6, 'pop': '513800'}, 'IT035C1': {'year': 6, 'pop': '99439'}, 'DK003C1': {'year': 25, 'pop': '177639'}, 'NO005C1': {'year': 15, 'pop': '73087'}, 'FR068C2': {'year': 7, 'pop': '130259'}, 'IT024C1': {'year': 25, 'pop': '96614'}, 'NL518C1': {'year': 13, 'pop': '75802'}, 'ES053C1': {'year': 6, 'pop': '74345'}, 'MT001C1': {'year': 25, 'pop': '359543'}, 'IT515C1': {'year': 15, 'pop': '105018'}, 'ES019C1': {'year': 15, 'pop': '349972'}, 'SK007C1': {'year': 15, 'pop': '70286'}, 'UK019C1': {'year': 25, 'pop': '84000'}, 'SE006C1': {'year': 15, 'pop': '189569'}, 'FR069C1': {'year': 26, 'pop': '92045'}, 'DE519C1': {'year': 15, 'pop': '160829'}, 'PL048C1': {'year': 5, 'pop': '64713'}, 'DE068C1': {'year': 12, 'pop': '61225'}, 'HU004C1': {'year': 26, 'pop': '170039'}, 'DE034C1': {'year': 24, 'pop': '298227'}, 'DE013C1': {'year': 24, 'pop': '523627'}, 'HU005C1': {'year': 15, 'pop': '211034'}, 'DE010C1': {'year': 24, 'pop': '600669'}, 'ES501C1': {'year': 15, 'pop': '240661'}, 'DE021C1': {'year': 24, 'pop': '128299'}, 'PL047C1': {'year': 5, 'pop': '63070'}, 'PT004C1': {'year': 25, 'pop': '115403'}, 'CZ017C1': {'year': 9, 'pop': '62881'}, 'UK515C1': {'year': 15, 'pop': '247821'}, 'EL007C1': {'year': 25, 'pop': '63725'}, 'FR023C2': {'year': 7, 'pop': '217283'}, 'BG003C1': {'year': 26, 'pop': '314913'}, 'DE035C1': {'year': 24, 'pop': '279329'}, 'IT032C1': {'year': 24, 'pop': '148702'}, 'FR017C2': {'year': 7, 'pop': '220005'}, 'FR221C1': {'year': 7, 'pop': '52167'}, 'PL030C1': {'year': 5, 'pop': '92105'}, 'UK024C1': {'year': 25, 'pop': '83300'}, 'ES064C1': {'year': 6, 'pop': '63434'}, 'PL508C1': {'year': 16, 'pop': '143218'}, 'PT012C1': {'year': 6, 'pop': '173030'}, 'TR016C1': {'year': 16, 'pop': '539870'}, 'IT003K1': {'year': 6, 'pop': '3120177'}, 'RO009C1': {'year': 25, 'pop': '182923'}, 'UK041C1': {'year': 6, 'pop': '116300'}, 'IT517C1': {'year': 15, 'pop': '97999'}, 'DE051C1': {'year': 12, 'pop': '81813'}, 'ES038C1': {'year': 6, 'pop': '91218'}, 'UK129C1': {'year': 6, 'pop': '188700'}, 'TR007C1': {'year': 16, 'pop': '545983'}, 'UK014C1': {'year': 25, 'pop': '281500'}, 'UK555C1': {'year': 15, 'pop': '138282'}, 'ES530C1': {'year': 15, 'pop': '106358'}, 'NL515C1': {'year': 13, 'pop': '91780'}, 'CZ002C1': {'year': 26, 'pop': '390986'}, 'UK057C1': {'year': 6, 'pop': '80900'}, 'DE029C1': {'year': 24, 'pop': '84937'}, 'FR203C1': {'year': 26, 'pop': '969323'}, 'BE001C1': {'year': 26, 'pop': '964385'}, 'ES513C1': {'year': 15, 'pop': '173584'}, 'NL003C1': {'year': 26, 'pop': '579179'}, 'IT510C1': {'year': 15, 'pop': '120204'}}\n"
     ]
    }
   ],
   "source": [
    "recentCityPopulation={} # key= city , value = {'year': year, 'pop':population}\n",
    "\n",
    "with open(urbanAuditFile) as f:\n",
    "    csvfile = csv.reader(f, delimiter=\"\\t\")\n",
    "    for i, row in enumerate(csvfile):\n",
    "        if i==0:\n",
    "            headerRow=row\n",
    "        if 'DE1001V' in row[0] and len(row[0])> len(\"DE1001V,AT\"): # same filter conditition as before\n",
    "            for yearIndex in range (1,27): # this generates all numbers between 1 and 27\n",
    "                popCount=row[yearIndex].strip().split(\" \")[0]\n",
    "                if popCount != \":\" and int(popCount)>0: # check if value exists and we can convert it\n",
    "                    #ok we have a population value >0, that is hte most recent year, lets store this\n",
    "                    cityPopulation=int(popCount)\n",
    "                    cityCode=row[0].split(\",\")[1]\n",
    "                    recentCityPopulation[cityCode]={'year':yearIndex,'pop': cityPopulation}\n",
    "                    \n",
    "print(recentCityPopulation)\n"
   ]
  },
  {
   "cell_type": "markdown",
   "metadata": {},
   "source": [
    "Ok, looks \"goodish\" but hard to read for a human and i do not want to present the values like that. Lets fix it. \n",
    "We can conver the cityCode to City labels and replace the yearIndices with their column headers"
   ]
  },
  {
   "cell_type": "code",
   "execution_count": 114,
   "metadata": {
    "collapsed": false
   },
   "outputs": [
    {
     "name": "stdout",
     "output_type": "stream",
     "text": [
      "Number of cities: 975\n",
      "  Liverpool:471900 in 2014 \n",
      "  Guadalajara:83720 in 2014 \n",
      "  Stoke-on-trent:250600 in 2014 \n",
      "  Reims:210177 in 2013 \n",
      "  Roosendaal:77155 in 2013 \n",
      "  Versailles:182105 in 2013 \n",
      "  Tromsø:70358 in 2013 \n",
      "  Frankenthal (Pfalz):47332 in 2014 \n",
      "  Trabzon:230618 in 2004 \n",
      "  Tilburg:208527 in 2013 \n",
      "  Alcobendas:112188 in 2014 \n",
      "  Ede:109823 in 2013 \n",
      "  Vitoria/Gasteiz:242082 in 2014 \n",
      "  Douai:150935 in 2013 \n",
      "  Tarbes:73340 in 2013 \n",
      "  Trier:107233 in 2014 \n",
      "  CC des Coteaux de la Seine:37060 in 2013 \n",
      "  Nitra:78033 in 2014 \n",
      "  Verona:259966 in 2014 \n",
      "  Enfield:322500 in 2014 \n",
      "  Banská Bystrica:79027 in 2014 \n",
      "  Wolfsburg:122457 in 2014 \n",
      "  Almada:170139 in 2015 \n",
      "  Charleroi:203640 in 2014 \n",
      "  Cartagena:216451 in 2014 \n",
      "  Bristol:440000 in 2014 \n",
      "  Lübeck:212958 in 2014 \n",
      "  Jönköping:128305 in 2011 \n",
      "  Bielefeld:328864 in 2014 \n",
      "  Koszalin:109170 in 2013 \n",
      "  Barreiro:76775 in 2015 \n",
      "  Palencia:80178 in 2014 \n",
      "  Jelgava:57332 in 2014 \n",
      "  Lubin:74053 in 2013 \n",
      "  Milton Keynes:257500 in 2014 \n",
      "  Pisa:88627 in 2014 \n",
      "  Gießen:77733 in 2014 \n",
      "  Lyon:1333618 in 2013 \n",
      "  Târgu Mures:151129 in 2014 \n",
      "  Karviná:55985 in 2014 \n",
      "  Novara:104736 in 2014 \n",
      "  Alcorcón:170336 in 2014 \n",
      "  Vila Franca de Xira:139918 in 2015 \n",
      "  Meaux:89045 in 2013 \n",
      "  Kalamata:62409 in 2011 \n",
      "  Worcester:100600 in 2014 \n",
      "  Saint-Nazaire:120497 in 2013 \n",
      "  Manisa:234156 in 2004 \n",
      "  Kirklees:429600 in 2014 \n",
      "  Burnley:87100 in 2014 \n",
      "  Haskovo:74826 in 2014 \n",
      "  Albacete:172487 in 2014 \n",
      "  Konin:77224 in 2013 \n",
      "  Rijeka:124838 in 2014 \n",
      "  Arad:179716 in 2014 \n",
      "  Kavala:58790 in 2011 \n",
      "  Baia Mare:148429 in 2014 \n",
      "  Gijón:275735 in 2014 \n",
      "  Tychy:128799 in 2013 \n",
      "  Nuneaton and Bedworth:126100 in 2014 \n",
      "  Thurrock:162100 in 2014 \n",
      "  Lausanne:132788 in 2014 \n",
      "  Monza:123151 in 2014 \n",
      "  Bytom:173439 in 2013 \n",
      "  Reggio di Calabria:184937 in 2014 \n",
      "  Ústí nad Labem:93409 in 2014 \n",
      "  Uppsala:200001 in 2011 \n",
      "  Stuttgart:604297 in 2014 \n",
      "  Augsburg:276542 in 2014 \n",
      "  Halle an der Saale:231565 in 2014 \n",
      "  Lecco:48131 in 2014 \n",
      "  Bamberg:71167 in 2014 \n",
      "  Reading (greater city):318500 in 2014 \n",
      "  Cluj-Napoca:321427 in 2014 \n",
      "  Palermo:678492 in 2014 \n",
      "  Telford and Wrekin:168900 in 2014 \n",
      "  Woking:99500 in 2014 \n",
      "  Aubagne:103477 in 2013 \n",
      "  Liberec:102562 in 2014 \n",
      "  Majadahonda:70359 in 2014 \n",
      "  Passau:49454 in 2014 \n",
      "  Modena:184525 in 2014 \n",
      "  Chalon-sur-Saône:106018 in 2013 \n",
      "  Stockton-on-Tees:193700 in 2014 \n",
      "  Chelmsford:170900 in 2014 \n",
      "  Wolverhampton:252300 in 2014 \n",
      "  Solihull:209400 in 2014 \n",
      "  Kaunas:304012 in 2014 \n",
      "  Konya:829636 in 2004 \n",
      "  Tomaszów Mazowiecki:64893 in 2013 \n",
      "  Siracusa:122304 in 2014 \n",
      "  Yambol:72159 in 2014 \n",
      "  Las Palmas:382283 in 2014 \n",
      "  Umeå:116465 in 2011 \n",
      "  Berlin:3421829 in 2014 \n",
      "  Taranto:203257 in 2014 \n",
      "  Walbrzych:117926 in 2013 \n",
      "  Almería:193351 in 2014 \n",
      "  Newham:321300 in 2014 \n",
      "  Neuss:152252 in 2014 \n",
      "  Blagoevgrad:70583 in 2014 \n",
      "  Oradea:223317 in 2014 \n",
      "  Gondomar:166841 in 2015 \n",
      "  Antalya:689665 in 2004 \n",
      "  Siirt:109271 in 2004 \n",
      "  Middelburg:47523 in 2013 \n",
      "  Helsinki / Helsingfors:612664 in 2014 \n",
      "  Harlow:84000 in 2014 \n",
      "  Guildford:142000 in 2014 \n",
      "  Porto:218231 in 2015 \n",
      "  Bârlad:73580 in 2014 \n",
      "  Tallinn:411063 in 2014 \n",
      "  Setúbal:118166 in 2015 \n",
      "  Warrington:205800 in 2014 \n",
      "  Cremona:71184 in 2014 \n",
      "  Frankfurt am Main:701350 in 2014 \n",
      "  Viladecans:65358 in 2014 \n",
      "  Pernik:77382 in 2014 \n",
      "  Prato:191268 in 2014 \n",
      "  Wuppertal:343488 in 2014 \n",
      "  Mülheim a.d.Ruhr:166640 in 2014 \n",
      "  Rennes:414186 in 2013 \n",
      "  Norrköping:128060 in 2008 \n",
      "  Logroño:151962 in 2014 \n",
      "  Thanet:137600 in 2014 \n",
      "  Montbéliard:116166 in 2013 \n",
      "  Lleida:139176 in 2014 \n",
      "  Sant Boi de Llobregat:83107 in 2014 \n",
      "  Oldham:228000 in 2014 \n",
      "  Ealing:342300 in 2014 \n",
      "  Lisburn:122800 in 2014 \n",
      "  Kladno:68552 in 2014 \n",
      "  Münster:299708 in 2014 \n",
      "  Béziers:113785 in 2013 \n",
      "  L'Hospitalet de Llobregat:253518 in 2014 \n",
      "  Nowy Sacz:83943 in 2013 \n",
      "  Vratsa:57771 in 2014 \n",
      "  Rostock:203431 in 2014 \n",
      "  Hagen:185996 in 2014 \n",
      "  Amadora:175952 in 2015 \n",
      "  St. Helens:176700 in 2014 \n",
      "  Offenbach am Main:119203 in 2014 \n",
      "  Suwalki:69317 in 2013 \n",
      "  Paris:2229870 in 2013 \n",
      "  Pontevedra:82946 in 2014 \n",
      "  Wiesbaden:273871 in 2014 \n",
      "  Pabianice:67688 in 2013 \n",
      "  Lausanne (greater city):224379 in 2014 \n",
      "  Valongo:95087 in 2015 \n",
      "  Cork:118713 in 2011 \n",
      "  Lisboa:509312 in 2015 \n",
      "  Sibiu:169820 in 2014 \n",
      "  Zürich (greater city):613646 in 2014 \n",
      "  Lomza:62711 in 2013 \n",
      "  Swansea:240800 in 2014 \n",
      "  Murcia:439712 in 2014 \n",
      "  Bari:322751 in 2014 \n",
      "  Medway:272600 in 2014 \n",
      "  Plock:122815 in 2013 \n",
      "  Irun:61195 in 2014 \n",
      "  Ponferrada:67367 in 2014 \n",
      "  Mönchengladbach:255430 in 2014 \n",
      "  Kensington and Chelsea:155900 in 2014 \n",
      "  Zabrze:178357 in 2013 \n",
      "  Rotterdam:616294 in 2013 \n",
      "  Swidnica:59182 in 2013 \n",
      "  København:559440 in 2013 \n",
      "  Santiago de Compostela:95800 in 2014 \n",
      "  Bielsko-Biala:173699 in 2013 \n",
      "  Ipswich:134800 in 2014 \n",
      "  Düsseldorf:598686 in 2014 \n",
      "  Nürnberg:498876 in 2014 \n",
      "  Eastbourne:101000 in 2014 \n",
      "  Ostrów Wielkopolski:72890 in 2013 \n",
      "  Fréjus:87031 in 2013 \n",
      "  Vigo:294997 in 2014 \n",
      "  Nottingham:312600 in 2014 \n",
      "  Hastings:90900 in 2014 \n",
      "  Manchester:517300 in 2014 \n",
      "  Athina (greater city):2622404 in 2013 \n",
      "  Ingolstadt:129136 in 2014 \n",
      "  Leganés:186696 in 2014 \n",
      "  Slough:143800 in 2014 \n",
      "  Paredes:86668 in 2015 \n",
      "  Ludwigshafen am Rhein:161518 in 2014 \n",
      "  Witten:95629 in 2014 \n",
      "  Pescara:121325 in 2014 \n",
      "  Northampton:218100 in 2014 \n",
      "  Redbridge:290700 in 2014 \n",
      "  Palma de Mallorca:399093 in 2014 \n",
      "  Vantaa / Vanda:208098 in 2014 \n",
      "  Utrecht:321916 in 2013 \n",
      "  Coslada:88847 in 2014 \n",
      "  Ponta Delgada:68517 in 2015 \n",
      "  Cannock Chase:98300 in 2014 \n",
      "  Mons:95357 in 2014 \n",
      "  Edirne:123089 in 2004 \n",
      "  Newcastle-under-Lyme:125600 in 2014 \n",
      "  Tamworth:77100 in 2014 \n",
      "  Pforzheim:117754 in 2014 \n",
      "  Iserlohn:93119 in 2014 \n",
      "  Debrecen:203914 in 2014 \n",
      "  Rozas de Madrid, Las:92784 in 2014 \n",
      "  Guimarães:155508 in 2015 \n",
      "  East Staffordshire:115300 in 2014 \n",
      "  Zamosc:65255 in 2013 \n",
      "  Hounslow:264000 in 2014 \n",
      "  Lille:1128828 in 2013 \n",
      "  Amiens:175387 in 2013 \n",
      "  Neu-Ulm:54969 in 2014 \n",
      "  Saint-Quentin en Yvelines:144929 in 2013 \n",
      "  Belfort:96300 in 2013 \n",
      "  Elblag:122899 in 2013 \n",
      "  Suceava:116082 in 2014 \n",
      "  Almelo:72729 in 2013 \n",
      "  Fuenlabrada:195864 in 2014 \n",
      "  Osijek:106345 in 2014 \n",
      "  Oldenburg (Oldenburg):159610 in 2014 \n",
      "  Almere:195213 in 2013 \n",
      "  Lugo:98560 in 2014 \n",
      "  Malatya:420920 in 2004 \n",
      "  Heidelberg:152113 in 2014 \n",
      "  Línea de la Concepción, La:63132 in 2014 \n",
      "  Darlington:105400 in 2014 \n",
      "  Caserta:77099 in 2014 \n",
      "  Czestochowa:232318 in 2013 \n",
      "  Chesterfield:104200 in 2014 \n",
      "  Rzeszów:183108 in 2013 \n",
      "  Wilhelmshaven:75728 in 2014 \n",
      "  Leiden:118748 in 2013 \n",
      "  Salerno:133885 in 2014 \n",
      "  Chelm:65481 in 2013 \n",
      "  Speyer:49740 in 2014 \n",
      "  Oxford:156400 in 2014 \n",
      "  Gniezno:69883 in 2013 \n",
      "  Tarragona:132199 in 2014 \n",
      "  Dijon:247164 in 2013 \n",
      "  Jena:107679 in 2014 \n",
      "  Dobrich:88807 in 2014 \n",
      "  Forlì:118359 in 2014 \n",
      "  San Fernando:96335 in 2014 \n",
      "  Milano:1324169 in 2014 \n",
      "  CA Sénart - Val de Seine:83408 in 2013 \n",
      "  Daugavpils:87403 in 2014 \n",
      "  Gliwice:185450 in 2013 \n",
      "  Deventer:98581 in 2013 \n",
      "  Marne la Vallée:87705 in 2013 \n",
      "  Sassari:127715 in 2014 \n",
      "  Recklinghausen:115320 in 2014 \n",
      "  Madrid:3165235 in 2014 \n",
      "  Dresden:530754 in 2014 \n",
      "  Pamplona/Iruña:196166 in 2014 \n",
      "  Móstoles:205712 in 2014 \n",
      "  Karlovy Vary:49781 in 2014 \n",
      "  Gravesham:104500 in 2014 \n",
      "  Lens - Liévin:241629 in 2013 \n",
      "  Terrassa:215517 in 2014 \n",
      "  Zonguldak:96504 in 2004 \n",
      "  Offenburg:57448 in 2014 \n",
      "  Bochum:361734 in 2014 \n",
      "  Castelldefels:63255 in 2014 \n",
      "  Odense:193370 in 2013 \n",
      "  Clermont-Ferrand:283635 in 2013 \n",
      "  Napoli:989111 in 2014 \n",
      "  Gateshead:200300 in 2014 \n",
      "  Vannes:135807 in 2013 \n",
      "  Swindon:214900 in 2014 \n",
      "  Erlangen:105624 in 2014 \n",
      "  Coimbra:135592 in 2015 \n",
      "  Kars:76420 in 2004 \n",
      "  Freiburg im Breisgau:220286 in 2014 \n",
      "  Tübingen:85383 in 2014 \n",
      "  CC de la Boucle de la Seine:170904 in 2013 \n",
      "  Kingston upon Thames:168400 in 2014 \n",
      "  Ankara:3401573 in 2004 \n",
      "  Winterthur:105676 in 2014 \n",
      "  Leeds:763900 in 2014 \n",
      "  Zwickau:91564 in 2014 \n",
      "  Badalona:217210 in 2014 \n",
      "  CA des Lacs de l'Essonne:58848 in 2013 \n",
      "  Tulcea:90503 in 2014 \n",
      "  Elda:53540 in 2014 \n",
      "  Sintra:380934 in 2015 \n",
      "  Siedlce:76347 in 2013 \n",
      "  Slavonski Brod:57764 in 2014 \n",
      "  Leicester:335700 in 2014 \n",
      "  Lugano (greater city):82453 in 2014 \n",
      "  Jelenia Góra:81985 in 2013 \n",
      "  Ceuta:84963 in 2014 \n",
      "  CA le Parisis:92702 in 2013 \n",
      "  Zgierz:57503 in 2013 \n",
      "  Brasov:291363 in 2014 \n",
      "  Samsun:379933 in 2004 \n",
      "  Gorzów Wielkopolski:124344 in 2013 \n",
      "  Zwolle:122562 in 2013 \n",
      "  Focsani:95127 in 2014 \n",
      "  Cherbourg:81003 in 2013 \n",
      "  Oostende:70681 in 2014 \n",
      "  Como:84834 in 2014 \n",
      "  Plzen:169033 in 2014 \n",
      "  Gouda:70904 in 2013 \n",
      "  Van:336700 in 2004 \n",
      "  Würzburg:124698 in 2014 \n",
      "  CA des deux Rives de la Seine:65196 in 2013 \n",
      "  Hyndburn:80100 in 2014 \n",
      "  Giurgiu:69674 in 2014 \n",
      "  Enschede:158627 in 2013 \n",
      "  Galati:306046 in 2014 \n",
      "  Haarlemmermeer:144153 in 2013 \n",
      "  Sénart en Essonne:18855 in 2013 \n",
      "  Marseille:1049857 in 2013 \n",
      "  Genève:191557 in 2014 \n",
      "  Cosenza:67910 in 2014 \n",
      "  Redditch:84500 in 2014 \n",
      "  Slatina:85074 in 2014 \n",
      "  Bayreuth:71572 in 2014 \n",
      "  Alkmaar:94505 in 2013 \n",
      "  Turku / Åbo:182072 in 2014 \n",
      "  Schwerin:91583 in 2014 \n",
      "  Heerlen:88747 in 2013 \n",
      "  Compiègne:70396 in 2013 \n",
      "  Ulm:119218 in 2014 \n",
      "  Kempten (Allgäu):65044 in 2014 \n",
      "  Cheltenham:116200 in 2014 \n",
      "  Nancy:254030 in 2013 \n",
      "  Poitiers:135730 in 2013 \n",
      "  Stalowa Wola:63692 in 2013 \n",
      "  Westminster:230100 in 2014 \n",
      "  Grudziadz:97676 in 2013 \n",
      "  Albi:81334 in 2013 \n",
      "  Telde:102076 in 2014 \n",
      "  Viana do Castelo:86620 in 2015 \n",
      "  San Cristóbal de la Laguna:153009 in 2014 \n",
      "  Helsinki / Helsingfors (greater city):1090616 in 2014 \n",
      "  Zilina:81155 in 2014 \n",
      "  Dudley:315100 in 2014 \n",
      "  Santa Cruz de Tenerife:205279 in 2014 \n",
      "  Valletta:205768 in 2015 \n",
      "  Bergen op Zoom:66287 in 2013 \n",
      "  Volos:86046 in 2011 \n",
      "  Gyõr:128902 in 2014 \n",
      "  Sabadell:207444 in 2014 \n",
      "  Pardubice:89693 in 2014 \n",
      "  Poole:149600 in 2014 \n",
      "  Elk:59790 in 2013 \n",
      "  Torremolinos:67353 in 2014 \n",
      "  Kocaeli:191471 in 2004 \n",
      "  Annecy:142933 in 2013 \n",
      "  Toledo:83334 in 2014 \n",
      "  Milano (greater city):3207006 in 2014 \n",
      "  Santa Lucía de Tirajana:68544 in 2014 \n",
      "  Derry:108900 in 2014 \n",
      "  Larisa:146926 in 2011 \n",
      "  Innsbruck:122458 in 2013 \n",
      "  West Midlands urban area:2462300 in 2014 \n",
      "  Genova:596958 in 2014 \n",
      "  Przemysl:63638 in 2013 \n",
      "  Linköping:147334 in 2011 \n",
      "  Gera:94977 in 2014 \n",
      "  Flensburg:83971 in 2014 \n",
      "  Barking and Dagenham:196300 in 2014 \n",
      "  Waveney:115900 in 2014 \n",
      "  Waterford:46583 in 2011 \n",
      "  Arnhem:149827 in 2013 \n",
      "  Caen:217219 in 2013 \n",
      "  Limerick:56980 in 2011 \n",
      "  Karlsruhe:299103 in 2014 \n",
      "  Göttingen:116891 in 2014 \n",
      "  Zaragoza:666058 in 2014 \n",
      "  Lemesos:185100 in 2009 \n",
      "  Málaga:566913 in 2014 \n",
      "  Limoges:197643 in 2013 \n",
      "  Busto Arsizio:81744 in 2014 \n",
      "  Bremerhaven:108844 in 2014 \n",
      "  Piotrków Trybunalski:75903 in 2013 \n",
      "  Essen:569884 in 2014 \n",
      "  Pátra:170896 in 2011 \n",
      "  Matosinhos:174045 in 2015 \n",
      "  Inowroclaw:75001 in 2013 \n",
      "  Viareggio:63447 in 2014 \n",
      "  South Tyneside:148600 in 2014 \n",
      "  Richmond upon Thames:192500 in 2014 \n",
      "  Lelystad:75778 in 2013 \n",
      "  Gelsenkirchen:257850 in 2014 \n",
      "  Zory:62038 in 2013 \n",
      "  Ancona:101742 in 2014 \n",
      "  Arras:92618 in 2013 \n",
      "  Charleville-Mézières:67300 in 2013 \n",
      "  Barcelona:1602386 in 2014 \n",
      "  Bedford:162700 in 2014 \n",
      "  Hamburg:1746342 in 2014 \n",
      "  Hatay:149919 in 2004 \n",
      "  Landshut:66179 in 2014 \n",
      "  Portsmouth:208300 in 2014 \n",
      "  Sheffield:561900 in 2014 \n",
      "  Dundee City:148200 in 2014 \n",
      "  Stockholm:864324 in 2011 \n",
      "  Mantes en Yvelines:91988 in 2013 \n",
      "  Orléans:276686 in 2013 \n",
      "  Carlisle:108000 in 2014 \n",
      "  Biel/Bienne:53031 in 2014 \n",
      "  Irakleio:151324 in 2011 \n",
      "  Liège:382637 in 2014 \n",
      "  Solingen:155768 in 2014 \n",
      "  Vilanova i la Geltrú:65941 in 2014 \n",
      "  Kraków:758992 in 2013 \n",
      "  Kecskemét:112071 in 2014 \n",
      "  Plymouth:260400 in 2014 \n",
      "  Spijkenisse:72375 in 2013 \n",
      "  Wrexham:136600 in 2014 \n",
      "  Århus:319094 in 2013 \n",
      "  Thessaloniki:315196 in 2011 \n",
      "  Linz:191501 in 2013 \n",
      "  Rouen:488826 in 2013 \n",
      "  Bern (greater city):217804 in 2014 \n",
      "  CA de la Vallée de Montmorency:109425 in 2013 \n",
      "  Oviedo:223765 in 2014 \n",
      "  Helmond:89023 in 2013 \n",
      "  Rosenheim:60464 in 2014 \n",
      "  Blackpool:141000 in 2014 \n",
      "  Nantes:609199 in 2013 \n",
      "  Portsmouth (greater city):528000 in 2014 \n",
      "  Cornellà de Llobregat:86234 in 2014 \n",
      "  CA Val de France:140742 in 2013 \n",
      "  Gdynia:248042 in 2013 \n",
      "  Botosani:122999 in 2014 \n",
      "  Belfast:282500 in 2014 \n",
      "  Luzern (greater city):157412 in 2014 \n",
      "  Tower Hamlets:278500 in 2014 \n",
      "  Maidstone:160600 in 2014 \n",
      "  Osnabrück:156315 in 2014 \n",
      "  Varna:335819 in 2014 \n",
      "  Krefeld:222058 in 2014 \n",
      "  Szczecin:408172 in 2013 \n",
      "  Maastricht:121819 in 2013 \n",
      "  Szombathely:77566 in 2014 \n",
      "  Vigevano:63268 in 2014 \n",
      "  Roman:71254 in 2014 \n",
      "  Avilés:81659 in 2014 \n",
      "  Aalborg:203448 in 2013 \n",
      "  Parma:187938 in 2014 \n",
      "  Newport:146700 in 2014 \n",
      "  Split:175353 in 2014 \n",
      "  Basildon:179400 in 2014 \n",
      "  Tameside:220700 in 2014 \n",
      "  Sliven:89723 in 2014 \n",
      "  Alytus:56357 in 2014 \n",
      "  Neubrandenburg:63437 in 2014 \n",
      "  Bolton:280200 in 2014 \n",
      "  Barnet:372000 in 2014 \n",
      "  Oslo:623966 in 2013 \n",
      "  Wloclawek:114885 in 2013 \n",
      "  Lublin:343598 in 2013 \n",
      "  Praha:1259079 in 2014 \n",
      "  Zlín:75112 in 2014 \n",
      "  Kielce:199870 in 2013 \n",
      "  CA Val et Forêt:85604 in 2013 \n",
      "  Alphen aan den Rijn:72913 in 2013 \n",
      "  Mulhouse:255337 in 2013 \n",
      "  Salzgitter:98197 in 2014 \n",
      "  Seixal:163737 in 2015 \n",
      "  Sittard-Geleen:94024 in 2013 \n",
      "  Buzau:136773 in 2014 \n",
      "  Roanne:68140 in 2013 \n",
      "  Southend-on-Sea:176900 in 2014 \n",
      "  Kaiserslautern:97162 in 2014 \n",
      "  Bayonne:126064 in 2013 \n",
      "  Tarnów:112120 in 2013 \n",
      "  Rybnik:140173 in 2013 \n",
      "  Chambéry:125481 in 2013 \n",
      "  Ruda Slaska:141521 in 2013 \n",
      "  Glasgow:598100 in 2014 \n",
      "  Cagliari:154019 in 2014 \n",
      "  Lewisham:289100 in 2014 \n",
      "  Peterborough:189400 in 2014 \n",
      "  Paris (greater city):6728051 in 2013 \n",
      "  Legnica:101992 in 2013 \n",
      "  Tyneside conurbation:839700 in 2014 \n",
      "  Manresa:75297 in 2014 \n",
      "  Luzern:80501 in 2014 \n",
      "  Padova:209678 in 2014 \n",
      "  Catania:315576 in 2014 \n",
      "  Nijmegen:166382 in 2013 \n",
      "  Bilbao:346574 in 2014 \n",
      "  Tampere / Tammerfors:220446 in 2014 \n",
      "  Greater Manchester:2723900 in 2014 \n",
      "  Bursa:1336111 in 2004 \n",
      "  Napoli (greater city):3176107 in 2014 \n",
      "  Leszno:64589 in 2013 \n",
      "  Bourges:97435 in 2013 \n",
      "  Maribor:112088 in 2014 \n",
      "  Campobasso:49392 in 2014 \n",
      "  Annemasse:86540 in 2013 \n",
      "  Mollet del Vallès:51719 in 2014 \n",
      "  Kortrijk:75604 in 2014 \n",
      "  Asti:76135 in 2014 \n",
      "  St Albans:144000 in 2014 \n",
      "  Gent:251984 in 2014 \n",
      "  Mataró:124280 in 2014 \n",
      "  Moers:103108 in 2014 \n",
      "  Slupsk:93936 in 2013 \n",
      "  Izmir:2386759 in 2004 \n",
      "  Bath and North East Somerset:181100 in 2014 \n",
      "  Granollers:59930 in 2014 \n",
      "  Viseu:98093 in 2015 \n",
      "  Trento:117285 in 2014 \n",
      "  Espoo / Esbo:260753 in 2014 \n",
      "  CA Marne et Chantereine:77587 in 2013 \n",
      "  München:1407836 in 2014 \n",
      "  Rochdale:212500 in 2014 \n",
      "  Lund:107351 in 2008 \n",
      "  Torino:902137 in 2014 \n",
      "  Lisboa (greater city):1835785 in 2015 \n",
      "  Ioannina:80371 in 2011 \n",
      "  Delft:99097 in 2013 \n",
      "  Saint-Quentin:72493 in 2013 \n",
      "  Trieste:204849 in 2014 \n",
      "  Göteborg:520374 in 2011 \n",
      "  Rimini:146856 in 2014 \n",
      "  Oulu:193798 in 2014 \n",
      "  Brugge:117886 in 2014 \n",
      "  Târgoviste:94240 in 2014 \n",
      "  Barcelona (greater city):3176357 in 2014 \n",
      "  Greenwich:266300 in 2014 \n",
      "  Calais:95662 in 2013 \n",
      "  Purmerend:79482 in 2013 \n",
      "  Bolzano:105713 in 2014 \n",
      "  Riga:643368 in 2014 \n",
      "  Timisoara:333825 in 2014 \n",
      "  Aachen:241683 in 2014 \n",
      "  Pordenone:51758 in 2014 \n",
      "  Bordeaux:742115 in 2013 \n",
      "  Halton:126200 in 2014 \n",
      "  Bradford:527300 in 2014 \n",
      "  Panevezys:96328 in 2014 \n",
      "  Örebro:137121 in 2011 \n",
      "  Ploiesti:235041 in 2014 \n",
      "  Celle:68508 in 2014 \n",
      "  Wetzlar:51135 in 2014 \n",
      "  Klagenfurt:95450 in 2013 \n",
      "  Wroclaw:632067 in 2013 \n",
      "  Puerto de Santa María, El:88700 in 2014 \n",
      "  Wigan:320300 in 2014 \n",
      "  Santa Coloma de Gramenet:118738 in 2014 \n",
      "  Havírov:75049 in 2014 \n",
      "  's-Gravenhage:505856 in 2013 \n",
      "  North Lanarkshire:337800 in 2014 \n",
      "  Derby:251900 in 2014 \n",
      "  Hradec Králové:92808 in 2014 \n",
      "  Brent:319000 in 2014 \n",
      "  Stara Zagora:137834 in 2014 \n",
      "  Pozuelo de Alarcón:84360 in 2014 \n",
      "  Trencín:55857 in 2014 \n",
      "  Sefton:273400 in 2014 \n",
      "  Bologna:384202 in 2014 \n",
      "  Tartu:98449 in 2014 \n",
      "  Leicester (greater city):487200 in 2014 \n",
      "  Constanta:319266 in 2014 \n",
      "  Leverkusen:160819 in 2014 \n",
      "  Hamm:176048 in 2014 \n",
      "  Basel:167386 in 2014 \n",
      "  Aveiro:76935 in 2015 \n",
      "  Wien:1741246 in 2013 \n",
      "  Athina:664046 in 2011 \n",
      "  Reggio nell'Emilia:172525 in 2014 \n",
      "  Greifswald:56445 in 2014 \n",
      "  Narva:59049 in 2014 \n",
      "  Preston (greater city):249400 in 2014 \n",
      "  Chorzów:110761 in 2013 \n",
      "  CA du Val d'Orge:131450 in 2013 \n",
      "  Ravenna:158784 in 2014 \n",
      "  Leuven:98591 in 2014 \n",
      "  Torrevieja:91415 in 2014 \n",
      "  Hackney:260300 in 2014 \n",
      "  Amsterdam:799278 in 2013 \n",
      "  Torbay:132500 in 2014 \n",
      "  CA Europ' Essonne:139260 in 2013 \n",
      "  Bexley:238300 in 2014 \n",
      "  Craiova:307193 in 2014 \n",
      "  Stralsund:57301 in 2014 \n",
      "  Graz:265778 in 2013 \n",
      "  Ajaccio:82327 in 2013 \n",
      "  Dos Hermanas:130369 in 2014 \n",
      "  Iasi:357868 in 2014 \n",
      "  Potsdam:161468 in 2014 \n",
      "  Vila Nova de Gaia:301819 in 2015 \n",
      "  Creil:72257 in 2013 \n",
      "  Boulogne-sur-Mer:117234 in 2013 \n",
      "  Sutton:197000 in 2014 \n",
      "  Weimar:63315 in 2014 \n",
      "  Villingen-Schwenningen:81128 in 2014 \n",
      "  Saint Denis:197245 in 2013 \n",
      "  Jerez de la Frontera:212226 in 2014 \n",
      "  Istanbul:9897599 in 2004 \n",
      "  Diyarbakir:609465 in 2004 \n",
      "  Kalisz:103997 in 2013 \n",
      "  Jaén:115837 in 2014 \n",
      "  Aschaffenburg:67844 in 2014 \n",
      "  Salamanca:148042 in 2014 \n",
      "  Burgos:177776 in 2014 \n",
      "  Dublin:516255 in 2011 \n",
      "  Hengelo:80952 in 2013 \n",
      "  Bremen:548547 in 2014 \n",
      "  Reading:160000 in 2014 \n",
      "  Kastamonu:67102 in 2004 \n",
      "  Leipzig:531562 in 2014 \n",
      "  Apeldoorn:157315 in 2013 \n",
      "  Regensburg:140276 in 2014 \n",
      "  Havering:244000 in 2014 \n",
      "  Dortmund:575944 in 2014 \n",
      "  Brno:377440 in 2014 \n",
      "  Stockport:285900 in 2014 \n",
      "  Hartlepool:92600 in 2014 \n",
      "  Foggia:153143 in 2014 \n",
      "  Konstanz:81141 in 2014 \n",
      "  Zoetermeer:123092 in 2013 \n",
      "  Basel (greater city):314852 in 2014 \n",
      "  Bergen:267950 in 2013 \n",
      "  Rubí:74353 in 2014 \n",
      "  Vicenza:113655 in 2014 \n",
      "  Perpignan:261939 in 2013 \n",
      "  Fort-de-France:160980 in 2013 \n",
      "  Carrara:64234 in 2014 \n",
      "  Dublin (greater city):1263035 in 2013 \n",
      "  Bern:128848 in 2014 \n",
      "  Eindhoven:218433 in 2013 \n",
      "  Székesfehérvár:99060 in 2014 \n",
      "  Greater Nottingham:652500 in 2014 \n",
      "  La Spezia:94535 in 2014 \n",
      "  Stargard Szczecinski:69328 in 2013 \n",
      "  Worthing:106500 in 2014 \n",
      "  Miskolc:161265 in 2014 \n",
      "  Ashford:122500 in 2014 \n",
      "  Algeciras:117974 in 2014 \n",
      "  Lahti / Lahtis:103364 in 2014 \n",
      "  Zagreb:793049 in 2014 \n",
      "  Southampton:243700 in 2014 \n",
      "  Fareham:114000 in 2014 \n",
      "  Pleven:103122 in 2014 \n",
      "  Valenciennes:190436 in 2013 \n",
      "  Potenza:67403 in 2014 \n",
      "  Prat de Llobregat, El:62866 in 2014 \n",
      "  Piatra Neamt:116355 in 2014 \n",
      "  Southend-on-Sea (greater city):265600 in 2014 \n",
      "  Oberhausen:209097 in 2014 \n",
      "  Most:67089 in 2014 \n",
      "  Quimper:87421 in 2013 \n",
      "  Châlons-en-Champagne:63606 in 2013 \n",
      "  Kuopio:110113 in 2014 \n",
      "  Magdeburg:231021 in 2014 \n",
      "  Wakefield:330500 in 2014 \n",
      "  Tours:281151 in 2013 \n",
      "  Cerdanyola del Vallès:57402 in 2014 \n",
      "  CA les Portes de l'Essonne:52908 in 2013 \n",
      "  Trafford:231300 in 2014 \n",
      "  Dordrecht:118466 in 2013 \n",
      "  Chomutov-Jirkov:68842 in 2014 \n",
      "  Paderborn:143659 in 2014 \n",
      "  Córdoba:328041 in 2014 \n",
      "  Gdansk:461531 in 2013 \n",
      "  Parla:125323 in 2014 \n",
      "  Camden:232300 in 2014 \n",
      "  Avignon:177830 in 2013 \n",
      "  Hannover:518386 in 2014 \n",
      "  Sanremo:55498 in 2014 \n",
      "  Merton:203400 in 2014 \n",
      "  CA Brie Francilienne:60396 in 2013 \n",
      "  Chartres:110582 in 2013 \n",
      "  Falkirk:157400 in 2014 \n",
      "  Avellino:55448 in 2014 \n",
      "  Haringey:265500 in 2014 \n",
      "  Cergy-Pontoise:195514 in 2013 \n",
      "  Venezia:264534 in 2014 \n",
      "  Lódz:711332 in 2013 \n",
      "  Vlaardingen:70905 in 2013 \n",
      "  Montpellier:441929 in 2013 \n",
      "  Lugano:62792 in 2014 \n",
      "  Strasbourg:475993 in 2013 \n",
      "  Odivelas:152840 in 2015 \n",
      "  Aix-en-Provence:360109 in 2013 \n",
      "  Ciudad Real:74960 in 2014 \n",
      "  San Sebastián/Donostia:186126 in 2014 \n",
      "  Livorno:160512 in 2014 \n",
      "  CA du Plateau de Saclay:98152 in 2013 \n",
      "  Vidin:46068 in 2014 \n",
      "  Exeter:123100 in 2014 \n",
      "  Brive-la-Gaillarde:77504 in 2013 \n",
      "  CA de Sophia-Antipolis:174322 in 2013 \n",
      "  Denizli:300081 in 2004 \n",
      "  Presov:90187 in 2014 \n",
      "  Darmstadt:149743 in 2014 \n",
      "  Troyes:126165 in 2013 \n",
      "  Pécs:146581 in 2014 \n",
      "  Reus:104962 in 2014 \n",
      "  Châteauroux:72014 in 2013 \n",
      "  Ceské Budejovice:93285 in 2014 \n",
      "  Lambeth:316200 in 2014 \n",
      "  Faro:61214 in 2015 \n",
      "  Köln:1034175 in 2014 \n",
      "  Drobeta-Turnu Severin:110768 in 2014 \n",
      "  Bucuresti:2110878 in 2014 \n",
      "  Duisburg:486855 in 2014 \n",
      "  Bergisch Gladbach:109425 in 2014 \n",
      "  Latina:125375 in 2014 \n",
      "  Koblenz:110643 in 2014 \n",
      "  Middlesbrough:139000 in 2014 \n",
      "  Helsingborg:126754 in 2008 \n",
      "  Dacorum:149000 in 2014 \n",
      "  Biella:45325 in 2014 \n",
      "  Funchal:106721 in 2015 \n",
      "  Jihlava:50521 in 2014 \n",
      "  Elche/Elx:228647 in 2014 \n",
      "  Balikesir:229842 in 2004 \n",
      "  Zielona Góra:118405 in 2013 \n",
      "  Messina:241997 in 2014 \n",
      "  Walsall:273200 in 2014 \n",
      "  Kingston-upon-Hull:257600 in 2014 \n",
      "  Arrecife:56880 in 2014 \n",
      "  Antwerpen:513915 in 2014 \n",
      "  North East Lincolnshire:159800 in 2014 \n",
      "  Tunbridge Wells:115900 in 2014 \n",
      "  Bromley:319600 in 2014 \n",
      "  Olsztyn:174675 in 2013 \n",
      "  Perugia:166030 in 2014 \n",
      "  Toulouse:734976 in 2013 \n",
      "  Sunderland:276500 in 2014 \n",
      "  Braila:213089 in 2014 \n",
      "  Fulda:65036 in 2014 \n",
      "  Lincoln:95900 in 2014 \n",
      "  Plauen:63967 in 2014 \n",
      "  Plovdiv:341041 in 2014 \n",
      "  Preston:140400 in 2014 \n",
      "  CC de l'Ouest de la Plaine de France:47286 in 2013 \n",
      "  Liepaja:71926 in 2014 \n",
      "  Besançon:178653 in 2013 \n",
      "  Coventry:333600 in 2014 \n",
      "  Burgas:199364 in 2014 \n",
      "  Katwijk:62688 in 2013 \n",
      "  Kosice:239464 in 2014 \n",
      "  Schweinfurt:51851 in 2014 \n",
      "  Acireale:52792 in 2014 \n",
      "  Gaziantep:945804 in 2004 \n",
      "  York:203400 in 2014 \n",
      "  Västerås:134684 in 2008 \n",
      "  Velsen:67122 in 2013 \n",
      "  Malmö:302835 in 2011 \n",
      "  Radom:218466 in 2013 \n",
      "  Kassel:194087 in 2014 \n",
      "  Pesaro:94705 in 2014 \n",
      "  Badajoz:150517 in 2014 \n",
      "  Blackburn with Darwen:147100 in 2014 \n",
      "  Sandwell:315500 in 2014 \n",
      "  Ruse:147817 in 2014 \n",
      "  Lecce:93302 in 2014 \n",
      "  Rotterdam (greater city):978040 in 2013 \n",
      "  Hénin - Carvin:124368 in 2013 \n",
      "  Edinburgh:490100 in 2014 \n",
      "  Kiel:241533 in 2014 \n",
      "  Klaipeda:157305 in 2014 \n",
      "  Sant Cugat del Vallès:87118 in 2014 \n",
      "  City of London:7900 in 2014 \n",
      "  Barnsley:236800 in 2014 \n",
      "  Râmnicu Vâlcea:119252 in 2014 \n",
      "  Saarbrücken:177201 in 2014 \n",
      "  Sosnowiec:211275 in 2013 \n",
      "  Hoorn:71360 in 2013 \n",
      "  Sankt Augustin:54285 in 2014 \n",
      "  Warszawa:1724404 in 2013 \n",
      "  Ourense:106905 in 2014 \n",
      "  Pau:145163 in 2013 \n",
      "  Waltham Forest:266900 in 2014 \n",
      "  Valencia:786424 in 2014 \n",
      "  Pavia:71297 in 2014 \n",
      "  Marbella:138679 in 2014 \n",
      "  Mansfield:105600 in 2014 \n",
      "  Görlitz:54042 in 2014 \n",
      "  Bistrita:92892 in 2014 \n",
      "  Le Havre:236040 in 2013 \n",
      "  Ferrol:70389 in 2014 \n",
      "  Fuengirola:75856 in 2014 \n",
      "  Bracknell Forest:117300 in 2014 \n",
      "  Bilbao (greater city):777787 in 2014 \n",
      "  Hammersmith and Fulham:178500 in 2014 \n",
      "  Zamora:64423 in 2014 \n",
      "  Târgu Jiu:97336 in 2014 \n",
      "  Cottbus:99595 in 2014 \n",
      "  Evreux:81420 in 2013 \n",
      "  Grenoble:408046 in 2013 \n",
      "  Nice:519525 in 2013 \n",
      "  Udine:99528 in 2014 \n",
      "  Bournemouth:190100 in 2014 \n",
      "  Bottrop:116055 in 2014 \n",
      "  Savona:61761 in 2014 \n",
      "  Colchester:179000 in 2014 \n",
      "  Glogów:68997 in 2013 \n",
      "  Alicante/Alacant:332067 in 2014 \n",
      "  Firenze:377207 in 2014 \n",
      "  Calarasi:78102 in 2014 \n",
      "  Piacenza:102404 in 2014 \n",
      "  Esslingen am Neckar:89242 in 2014 \n",
      "  Getxo:79544 in 2014 \n",
      "  Satu Mare:123438 in 2014 \n",
      "  Haarlem:153093 in 2013 \n",
      "  Massa:70202 in 2014 \n",
      "  Górnoslaski Zwiazek Metropolitalny:1904611 in 2013 \n",
      "  Roma:2863322 in 2014 \n",
      "  Melun:109301 in 2013 \n",
      "  Barletta:94903 in 2014 \n",
      "  San Sebastián de los Reyes:83329 in 2014 \n",
      "  Olomouc:99809 in 2014 \n",
      "  Braga:181553 in 2015 \n",
      "  Nevsehir:72841 in 2004 \n",
      "  Huelva:147212 in 2014 \n",
      "  Southwark:300500 in 2014 \n",
      "  's-Hertogenbosch:142817 in 2013 \n",
      "  Birmingham:1096800 in 2014 \n",
      "  Salford:240500 in 2014 \n",
      "  Siauliai:105610 in 2014 \n",
      "  Nîmes:244598 in 2013 \n",
      "  Amersfoort:149662 in 2013 \n",
      "  Amsterdam (greater city):1033279 in 2013 \n",
      "  Great Yarmouth:98000 in 2014 \n",
      "  Rotherham:259400 in 2014 \n",
      "  London (greater city):8477600 in 2014 \n",
      "  Bratislava:419678 in 2014 \n",
      "  Talavera de la Reina:86779 in 2014 \n",
      "  Angers:269176 in 2013 \n",
      "  Trnava:65713 in 2014 \n",
      "  Lorient:188026 in 2013 \n",
      "  Capelle aan den IJssel:66024 in 2013 \n",
      "  Amstelveen:84379 in 2013 \n",
      "  Adana:1197332 in 2004 \n",
      "  Mannheim:296690 in 2014 \n",
      "  Castellón de la Plana/Castelló de la Plana:173841 in 2014 \n",
      "  La Rochelle:148498 in 2013 \n",
      "  Szeged:161921 in 2014 \n",
      "  Cádiz:121739 in 2014 \n",
      "  Poznan:548028 in 2013 \n",
      "  Kayseri:572170 in 2004 \n",
      "  Treviso:83145 in 2014 \n",
      "  Valladolid:306830 in 2014 \n",
      "  Colmar:96999 in 2013 \n",
      "  Stavanger:129191 in 2013 \n",
      "  Bydgoszcz:359428 in 2013 \n",
      "  Schiedam:76216 in 2013 \n",
      "  Neumünster:77058 in 2014 \n",
      "  Tczew:60610 in 2013 \n",
      "  Leeuwarden:95949 in 2013 \n",
      "  Shumen:79710 in 2014 \n",
      "  Fürth:119808 in 2014 \n",
      "  Herne:154417 in 2014 \n",
      "  Friedrichshafen:57153 in 2014 \n",
      "  Crawley:109400 in 2014 \n",
      "  Frankfurt (Oder):58018 in 2014 \n",
      "  Wandsworth:311300 in 2014 \n",
      "  Bergamo:118717 in 2014 \n",
      "  Sofia:1221292 in 2014 \n",
      "  Hildesheim:99979 in 2014 \n",
      "  Bonn:311287 in 2014 \n",
      "  Harrow:244700 in 2014 \n",
      "  Brighton and Hove:279600 in 2014 \n",
      "  Vilnius:539707 in 2014 \n",
      "  St. Gallen:74581 in 2014 \n",
      "  Cáceres:95855 in 2014 \n",
      "  Marburg:73125 in 2014 \n",
      "  Granada:237540 in 2014 \n",
      "  Bacau:196447 in 2014 \n",
      "  Trondheim:179692 in 2013 \n",
      "  Luxembourg:103641 in 2013 \n",
      "  Hillingdon:289700 in 2014 \n",
      "  Bialystok:295282 in 2013 \n",
      "  Cambridge:127600 in 2014 \n",
      "  Venlo:100159 in 2013 \n",
      "  Remscheid:108955 in 2014 \n",
      "  North Tyneside:202400 in 2014 \n",
      "  Angoulême:103977 in 2013 \n",
      "  Martigues:70988 in 2013 \n",
      "  Leidschendam-Voorburg:72588 in 2013 \n",
      "  Varese:80927 in 2014 \n",
      "  Warwick:138900 in 2014 \n",
      "  Norwich:136700 in 2014 \n",
      "  Veliko Tarnovo:68984 in 2014 \n",
      "  Lüneburg:71668 in 2014 \n",
      "  Hilversum:86017 in 2013 \n",
      "  Saint-Brieuc:115905 in 2013 \n",
      "  Brescia:193599 in 2014 \n",
      "  Sevilla:696676 in 2014 \n",
      "  Wycombe:174400 in 2014 \n",
      "  Islington:218400 in 2014 \n",
      "  Reutlingen:111357 in 2014 \n",
      "  Groningen:195418 in 2013 \n",
      "  CA de Seine Essonne:69872 in 2013 \n",
      "  León:129551 in 2014 \n",
      "  Saint-Etienne:376266 in 2013 \n",
      "  Hanau:89907 in 2014 \n",
      "  Dunkerque:193806 in 2013 \n",
      "  Le Mans:185346 in 2013 \n",
      "  Budapest:1744665 in 2014 \n",
      "  Póvoa de Varzim:62707 in 2015 \n",
      "  Brest:207142 in 2013 \n",
      "  Nyíregyháza:118164 in 2014 \n",
      "  Liverpool (greater city):1068200 in 2014 \n",
      "  Valence:119293 in 2013 \n",
      "  Lefkosia:246400 in 2013 \n",
      "  A Coruña:244810 in 2014 \n",
      "  Terni:112227 in 2014 \n",
      "  Erfurt:204880 in 2014 \n",
      "  Porto (greater city):956023 in 2015 \n",
      "  Bruxelles / Brussel:1183841 in 2014 \n",
      "  Gandia:76497 in 2014 \n",
      "  Argenteuil - Bezons:134639 in 2013 \n",
      "  Doncaster:303900 in 2014 \n",
      "  Alba Iulia:73979 in 2014 \n",
      "  Galway:73963 in 2011 \n",
      "  Kristiansand:84476 in 2013 \n",
      "  Genève (greater city):358095 in 2014 \n",
      "  Croydon:374400 in 2014 \n",
      "  Toulon:425505 in 2013 \n",
      "  Bury:187000 in 2014 \n",
      "  Benidorm:69010 in 2014 \n",
      "  Benevento:60770 in 2014 \n",
      "  Torun:203447 in 2013 \n",
      "  Ostrowiec Swietokrzyski:72277 in 2013 \n",
      "  Beauvais:79787 in 2013 \n",
      "  Brandenburg an der Havel:71032 in 2014 \n",
      "  Catanzaro:91028 in 2014 \n",
      "  Luton:209500 in 2014 \n",
      "  Sanlúcar de Barrameda:67385 in 2014 \n",
      "  Opole:120146 in 2013 \n",
      "  Katowice:304362 in 2013 \n",
      "  CA du Val d'Yerres:91709 in 2013 \n",
      "  Sindelfingen:61669 in 2014 \n",
      "  Barakaldo:100080 in 2014 \n",
      "  Namur:111348 in 2014 \n",
      "  Newcastle upon Tyne:288300 in 2014 \n",
      "  Chemnitz:242022 in 2014 \n",
      "  Zaanstad:149622 in 2013 \n",
      "  Evry:115985 in 2013 \n",
      "  Salzburg:145871 in 2013 \n",
      "  Stockholm (greater city):1689952 in 2015 \n",
      "  Wirral:320600 in 2014 \n",
      "  Matera:60556 in 2014 \n",
      "  Heilbronn:118122 in 2014 \n",
      "  Cheshire West and Chester:331600 in 2014 \n",
      "  Zürich:384786 in 2014 \n",
      "  Pitesti:177485 in 2014 \n",
      "  Melilla:84509 in 2014 \n",
      "  Basingstoke and Deane:172400 in 2014 \n",
      "  Ostrava:294200 in 2014 \n",
      "  Ljubljana:285857 in 2014 \n",
      "  Mainz:204268 in 2014 \n",
      "  Metz:217104 in 2013 \n",
      "  Braunschweig:247227 in 2014 \n",
      "  Cardiff:353000 in 2014 \n",
      "  Siegen:99403 in 2014 \n",
      "  Pila:74609 in 2013 \n",
      "  Borås:101487 in 2008 \n",
      "  Ludwigsburg:89639 in 2014 \n",
      "  Dessau-Roßlau:83616 in 2014 \n",
      "  Ferrara:133423 in 2014 \n",
      "  Stevenage:85700 in 2014 \n",
      "  Santander:175736 in 2014 \n",
      "  Erzurum:405733 in 2004 \n",
      "  Torrejón de Ardoz:126878 in 2014 \n",
      "  Breda:178140 in 2013 \n",
      "  Gloucester:125100 in 2014 \n",
      "  Pazardzhik:70728 in 2014 \n",
      "  Aberdeen:228100 in 2014 \n",
      "  Giugliano in Campania:120157 in 2014 \n",
      "  Alcalá de Henares:200768 in 2014 \n",
      "  Jyväskylä:134658 in 2014 \n",
      "  Girona:97227 in 2014 \n",
      "  Getafe:173057 in 2014 \n",
      "  Niort:103874 in 2013 \n",
      "  Jastrzebie-Zdrój:91235 in 2013 \n"
     ]
    }
   ],
   "source": [
    "recentCityPopulation={} # key= city , value = {'year': year, 'pop':population}\n",
    "\n",
    "\n",
    "\n",
    "## a quick trick to be able to convert the yearIndex to its label\n",
    "headerRow=[]\n",
    "with open(urbanAuditFile) as f:\n",
    "    csvfile = csv.reader(f, delimiter=\"\\t\")\n",
    "    for i, row in enumerate(csvfile):\n",
    "        if i==0:\n",
    "            headerRow=row\n",
    "        if 'DE1001V' in row[0] and len(row[0])> len(\"DE1001V,AT\"): # same filter conditition as before\n",
    "            for yearIndex in range (1,27): # this generates all numbers between 1 and 27\n",
    "                popCount=row[yearIndex].strip().split(\" \")[0]\n",
    "                if popCount != \":\" and int(popCount)>0: # check if value exists and we can convert it\n",
    "                    #ok we have a population value >0, that is hte most recent year, lets store this\n",
    "                    cityPopulation=int(popCount)\n",
    "                    cityCode=row[0].split(\",\")[1]\n",
    "                    cityLabel=cityCodeMap[cityCode] # lets just merge the mapping from city code to label in this code\n",
    "                    recentCityPopulation[cityLabel]={'year':headerRow[yearIndex],'pop': cityPopulation} # we also convert hte year index to the year label\n",
    "                    break\n",
    "## lets fix also the printing \n",
    "print(\"Number of cities: \"+str(len(recentCityPopulation.keys())))\n",
    "for city, pop in recentCityPopulation.items():\n",
    "    print(\"  \"+city+\":\"+str(pop['pop'])+\" in \"+str(pop['year']))"
   ]
  },
  {
   "cell_type": "markdown",
   "metadata": {},
   "source": [
    "### Further exercise\n",
    "\n",
    "We leave it up to you to play around with this interesting data. Some ideas you could explore are:\n",
    "* How many cities have a value in 2015\n",
    "* Sort them first by year and then population"
   ]
  },
  {
   "cell_type": "markdown",
   "metadata": {},
   "source": [
    "### Which ones are the 10 biggest cities?\n",
    "\n",
    "We show here an algorithms which performs a scan over the data and *remembers* the top-k biggest elements\n",
    "\n",
    "Other versions could be to store all values in a list or dictionary and then sort the datasctructre after a full parse.\n",
    "\n",
    "We use the code example from http://stevehanov.ca/blog/index.php?id=122 and adapt it for \"tuples\" as per https://docs.python.org/2/library/heapq.html"
   ]
  },
  {
   "cell_type": "code",
   "execution_count": 109,
   "metadata": {
    "collapsed": false
   },
   "outputs": [
    {
     "name": "stdout",
     "output_type": "stream",
     "text": [
      "(8477600, 'London (greater city)')\n",
      "(3421829, 'Berlin')\n",
      "(3207006, 'Milano (greater city)')\n",
      "(3176357, 'Barcelona (greater city)')\n",
      "(3176107, 'Napoli (greater city)')\n",
      "(3165235, 'Madrid')\n",
      "(2863322, 'Roma')\n",
      "(2723900, 'Greater Manchester')\n",
      "(2462300, 'West Midlands urban area')\n",
      "(2110878, 'Bucuresti')\n"
     ]
    }
   ],
   "source": [
    "#USING A HEAP ( complexity O(n log(k))) \n",
    "import heapq\n",
    "topKCities = []\n",
    "k=10\n",
    "yearIndex=2#2015\n",
    "with open(urbanAuditFile) as f:\n",
    "    csvfile = csv.reader(f, delimiter=\"\\t\")\n",
    "    for i, row in enumerate(csvfile):\n",
    "        if 'DE1001V' in row[0] and len(row[0])> len(\"DE1001V,AT\"): # same filter conditition as before\n",
    "            popCount=row[yearIndex].strip().split(\" \")[0]\n",
    "            if popCount != \":\" and int(popCount)>0: # check if value exists and we can convert it\n",
    "                #ok we have a population value >0, that is hte most recent year, lets store this\n",
    "                cityCode=row[0].split(\",\")[1]\n",
    "                cityLabel=cityCodeMap[cityCode] # lets just merge the mapping from city code to label in this code\n",
    "                cityPopulation=int(popCount)\n",
    "                #CODE FROM http://stevehanov.ca/blog/index.php?id=122\n",
    "                #ADAPTION TO TUPLES FROM https://docs.python.org/2/library/heapq.html\n",
    "                item=(cityPopulation,cityLabel)\n",
    "                # If we have not yet found k items, or the current item is larger than\n",
    "                # the smallest item on the heap,\n",
    "                if len(topKCities) < k or item > topKCities[0]:\n",
    "                    # If the heap is full, remove the smallest element on the heap.\n",
    "                    if len(topKCities) == k: heapq.heappop( topKCities )\n",
    "                    # add the current element as the new smallest.\n",
    "                    heapq.heappush( topKCities, item )\n",
    "for city in heapq.nlargest(k,topKCities): \n",
    "    print(city) #see https://docs.python.org/2/library/heapq.html"
   ]
  },
  {
   "cell_type": "code",
   "execution_count": 112,
   "metadata": {
    "collapsed": false
   },
   "outputs": [
    {
     "name": "stdout",
     "output_type": "stream",
     "text": [
      "('London (greater city)', 8477600)\n",
      "('Berlin', 3421829)\n",
      "('Milano (greater city)', 3207006)\n",
      "('Barcelona (greater city)', 3176357)\n",
      "('Napoli (greater city)', 3176107)\n",
      "('Madrid', 3165235)\n",
      "('Roma', 2863322)\n",
      "('Greater Manchester', 2723900)\n",
      "('West Midlands urban area', 2462300)\n",
      "('Bucuresti', 2110878)\n"
     ]
    }
   ],
   "source": [
    "#USING A Dictionary ( complexity O(n log(n))) \n",
    "\n",
    "cities = {}\n",
    "k=10\n",
    "yearIndex=2#2015\n",
    "with open(urbanAuditFile) as f:\n",
    "    csvfile = csv.reader(f, delimiter=\"\\t\")\n",
    "    for i, row in enumerate(csvfile):\n",
    "        if 'DE1001V' in row[0] and len(row[0])> len(\"DE1001V,AT\"): # same filter conditition as before\n",
    "            popCount=row[yearIndex].strip().split(\" \")[0]\n",
    "            if popCount != \":\" and int(popCount)>0: # check if value exists and we can convert it\n",
    "                #ok we have a population value >0, that is hte most recent year, lets store this\n",
    "                cityCode=row[0].split(\",\")[1]\n",
    "                cityLabel=cityCodeMap[cityCode] # lets just merge the mapping from city code to label in this code\n",
    "                cityPopulation=int(popCount)\n",
    "                cities[cityLabel]=cityPopulation\n",
    "\n",
    "#Option1\n",
    "from operator import itemgetter\n",
    "topkCitites= sorted(cities.items(), key=itemgetter(1), reverse=True)[0:k] # sort descending\n",
    "for city in topkCitites:\n",
    "    print(city)"
   ]
  },
  {
   "cell_type": "code",
   "execution_count": 110,
   "metadata": {
    "collapsed": false
   },
   "outputs": [
    {
     "name": "stdout",
     "output_type": "stream",
     "text": [
      "London (greater city) 8477600\n",
      "Berlin 3421829\n",
      "Milano (greater city) 3207006\n",
      "Barcelona (greater city) 3176357\n",
      "Napoli (greater city) 3176107\n",
      "Madrid 3165235\n",
      "Roma 2863322\n",
      "Greater Manchester 2723900\n",
      "West Midlands urban area 2462300\n",
      "Bucuresti 2110878\n"
     ]
    }
   ],
   "source": [
    "#Another Option for the output\n",
    "from collections import Counter\n",
    "\n",
    "sortedCitites = Counter(cities)\n",
    "for k, v in sortedCitites.most_common(k):\n",
    "    print(k,v) #see https://docs.python.org/2/library/heapq.html"
   ]
  },
  {
   "cell_type": "markdown",
   "metadata": {
    "collapsed": true
   },
   "source": [
    "### How many cities has each country?\n",
    "\n",
    "This question will be answered in the lecture"
   ]
  },
  {
   "cell_type": "code",
   "execution_count": null,
   "metadata": {
    "collapsed": true
   },
   "outputs": [],
   "source": []
  }
 ],
 "metadata": {
  "kernelspec": {
   "display_name": "Python 3",
   "language": "python",
   "name": "python3"
  },
  "language_info": {
   "codemirror_mode": {
    "name": "ipython",
    "version": 3
   },
   "file_extension": ".py",
   "mimetype": "text/x-python",
   "name": "python",
   "nbconvert_exporter": "python",
   "pygments_lexer": "ipython3",
   "version": "3.5.2"
  }
 },
 "nbformat": 4,
 "nbformat_minor": 1
}
