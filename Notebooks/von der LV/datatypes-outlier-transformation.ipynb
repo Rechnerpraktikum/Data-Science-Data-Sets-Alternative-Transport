{
 "cells": [
  {
   "cell_type": "markdown",
   "metadata": {},
   "source": [
    "## Data type detection"
   ]
  },
  {
   "cell_type": "code",
   "execution_count": 6,
   "metadata": {
    "collapsed": false
   },
   "outputs": [
    {
     "name": "stdout",
     "output_type": "stream",
     "text": [
      "3.14159265 <class 'float'>\n",
      "2010-01-20 00:00:00 <class 'datetime.datetime'>\n",
      "16 <class 'int'>\n",
      "some words <class 'str'>\n"
     ]
    }
   ],
   "source": [
    "from datetime import datetime\n",
    "\n",
    "heuristics = [lambda value: datetime.strptime(value, \"%Y-%m-%d\"),\n",
    "              int, float]\n",
    "\n",
    "def convert(value):\n",
    "    for type in heuristics:\n",
    "        try:\n",
    "            return type(value)\n",
    "        except ValueError:\n",
    "            continue\n",
    "    # All other heuristics failed it is a string\n",
    "    return value\n",
    "\n",
    "values = ['3.14159265', '2010-01-20', '16', 'some words']\n",
    "\n",
    "for value in values:\n",
    "    converted_value = convert(value)\n",
    "    print(converted_value, type(converted_value))"
   ]
  },
  {
   "cell_type": "markdown",
   "metadata": {},
   "source": [
    "### type() and instance() function"
   ]
  },
  {
   "cell_type": "code",
   "execution_count": 140,
   "metadata": {
    "collapsed": false
   },
   "outputs": [
    {
     "name": "stdout",
     "output_type": "stream",
     "text": [
      "<class 'int'>\n"
     ]
    }
   ],
   "source": [
    "print(type(5))"
   ]
  },
  {
   "cell_type": "code",
   "execution_count": 141,
   "metadata": {
    "collapsed": false
   },
   "outputs": [
    {
     "data": {
      "text/plain": [
       "True"
      ]
     },
     "execution_count": 141,
     "metadata": {},
     "output_type": "execute_result"
    }
   ],
   "source": [
    "isinstance( 5, int)"
   ]
  },
  {
   "cell_type": "code",
   "execution_count": 142,
   "metadata": {
    "collapsed": false
   },
   "outputs": [
    {
     "data": {
      "text/plain": [
       "-12345.0"
      ]
     },
     "execution_count": 142,
     "metadata": {},
     "output_type": "execute_result"
    }
   ],
   "source": [
    "float(\"   -12345\\n\")"
   ]
  },
  {
   "cell_type": "code",
   "execution_count": 143,
   "metadata": {
    "collapsed": false
   },
   "outputs": [
    {
     "data": {
      "text/plain": [
       "2"
      ]
     },
     "execution_count": 143,
     "metadata": {},
     "output_type": "execute_result"
    }
   ],
   "source": [
    " int(2.0)"
   ]
  },
  {
   "cell_type": "code",
   "execution_count": 144,
   "metadata": {
    "collapsed": false
   },
   "outputs": [
    {
     "data": {
      "text/plain": [
       "datetime.datetime(2012, 9, 20, 0, 0)"
      ]
     },
     "execution_count": 144,
     "metadata": {},
     "output_type": "execute_result"
    }
   ],
   "source": [
    "from datetime import datetime\n",
    "text = '2012-09-20'\n",
    "datetime.strptime(text, '%Y-%m-%d')"
   ]
  },
  {
   "cell_type": "code",
   "execution_count": 145,
   "metadata": {
    "collapsed": false
   },
   "outputs": [
    {
     "data": {
      "text/plain": [
       "(datetime.datetime(2047, 1, 1, 8, 21), ('Today is ', ' ', ' ', 'at '))"
      ]
     },
     "execution_count": 145,
     "metadata": {},
     "output_type": "execute_result"
    }
   ],
   "source": [
    "from dateutil.parser import parse\n",
    "parse(\"Today is January 1, 2047 at 8:21:00AM\", fuzzy_with_tokens=True)"
   ]
  },
  {
   "cell_type": "markdown",
   "metadata": {},
   "source": [
    "### String manipulation"
   ]
  },
  {
   "cell_type": "code",
   "execution_count": 146,
   "metadata": {
    "collapsed": false
   },
   "outputs": [
    {
     "data": {
      "text/plain": [
       "'DATA PROCESSING'"
      ]
     },
     "execution_count": 146,
     "metadata": {},
     "output_type": "execute_result"
    }
   ],
   "source": [
    "word=\"Data Processing\"\n",
    "word.lower()\n",
    "word.upper()"
   ]
  },
  {
   "cell_type": "code",
   "execution_count": 147,
   "metadata": {
    "collapsed": false
   },
   "outputs": [
    {
     "name": "stdout",
     "output_type": "stream",
     "text": [
      "2\n"
     ]
    }
   ],
   "source": [
    "print(word.count('a'))"
   ]
  },
  {
   "cell_type": "code",
   "execution_count": 148,
   "metadata": {
    "collapsed": false
   },
   "outputs": [
    {
     "name": "stdout",
     "output_type": "stream",
     "text": [
      "0\n"
     ]
    }
   ],
   "source": [
    "print(word.find(\"D\") ) "
   ]
  },
  {
   "cell_type": "code",
   "execution_count": 149,
   "metadata": {
    "collapsed": false
   },
   "outputs": [
    {
     "name": "stdout",
     "output_type": "stream",
     "text": [
      "5\n"
     ]
    }
   ],
   "source": [
    "print( word.index(\"Pro\") )"
   ]
  },
  {
   "cell_type": "code",
   "execution_count": 150,
   "metadata": {
    "collapsed": false
   },
   "outputs": [
    {
     "name": "stdout",
     "output_type": "stream",
     "text": [
      " test \n",
      "test\n"
     ]
    }
   ],
   "source": [
    "word=\" test \"\n",
    "print(word)\n",
    "print(word.strip())"
   ]
  },
  {
   "cell_type": "code",
   "execution_count": 151,
   "metadata": {
    "collapsed": false
   },
   "outputs": [
    {
     "name": "stdout",
     "output_type": "stream",
     "text": [
      "Data\n"
     ]
    }
   ],
   "source": [
    "word=\"Data Processing\"\n",
    "print(word[0:4])"
   ]
  },
  {
   "cell_type": "code",
   "execution_count": 152,
   "metadata": {
    "collapsed": false
   },
   "outputs": [
    {
     "data": {
      "text/plain": [
       "['Data', 'Processing']"
      ]
     },
     "execution_count": 152,
     "metadata": {},
     "output_type": "execute_result"
    }
   ],
   "source": [
    "word.split(' ')  # Split on whitespace"
   ]
  },
  {
   "cell_type": "code",
   "execution_count": 153,
   "metadata": {
    "collapsed": false
   },
   "outputs": [
    {
     "name": "stdout",
     "output_type": "stream",
     "text": [
      "Data processing\n"
     ]
    }
   ],
   "source": [
    "print(word.capitalize())"
   ]
  },
  {
   "cell_type": "code",
   "execution_count": 154,
   "metadata": {
    "collapsed": false
   },
   "outputs": [
    {
     "ename": "ValueError",
     "evalue": "could not convert string to float: '100,50'",
     "output_type": "error",
     "traceback": [
      "\u001b[0;31m---------------------------------------------------------------------------\u001b[0m",
      "\u001b[0;31mValueError\u001b[0m                                Traceback (most recent call last)",
      "\u001b[0;32m<ipython-input-154-dfa51dba0f85>\u001b[0m in \u001b[0;36m<module>\u001b[0;34m()\u001b[0m\n\u001b[0;32m----> 1\u001b[0;31m \u001b[0mfloat\u001b[0m\u001b[0;34m(\u001b[0m \u001b[0;34m\"100,50\"\u001b[0m\u001b[0;34m)\u001b[0m\u001b[0;34m\u001b[0m\u001b[0m\n\u001b[0m",
      "\u001b[0;31mValueError\u001b[0m: could not convert string to float: '100,50'"
     ]
    }
   ],
   "source": [
    "float( \"100,50\")"
   ]
  },
  {
   "cell_type": "code",
   "execution_count": 155,
   "metadata": {
    "collapsed": false
   },
   "outputs": [
    {
     "data": {
      "text/plain": [
       "False"
      ]
     },
     "execution_count": 155,
     "metadata": {},
     "output_type": "execute_result"
    }
   ],
   "source": [
    "\"Wien\" == \"wien\""
   ]
  },
  {
   "cell_type": "code",
   "execution_count": 156,
   "metadata": {
    "collapsed": false
   },
   "outputs": [
    {
     "name": "stdout",
     "output_type": "stream",
     "text": [
      "DE1001V\n"
     ]
    }
   ],
   "source": [
    "word=\"DE1001V,AT\"\n",
    "print(word[0:len(\"DE1001V\")])"
   ]
  },
  {
   "cell_type": "code",
   "execution_count": 157,
   "metadata": {
    "collapsed": true
   },
   "outputs": [],
   "source": [
    "## Outlier detection"
   ]
  },
  {
   "cell_type": "code",
   "execution_count": 68,
   "metadata": {
    "collapsed": true
   },
   "outputs": [],
   "source": [
    "l=[1, 2, 3, 3, 4, 4, 4, 5, 5.5, 6, 6, 6.5, 7, 7, 7.5, 8, 9, 12, 52, 90]"
   ]
  },
  {
   "cell_type": "code",
   "execution_count": 132,
   "metadata": {
    "collapsed": true
   },
   "outputs": [],
   "source": [
    "def doubleMADsfromMedian(y,thresh=3.5):\n",
    "    # warning: this function does not check for NAs\n",
    "    # nor does it address issues when \n",
    "    # more than 50% of your data have identical values\n",
    "    m = np.median(y)\n",
    "    abs_dev = np.abs(y - m)\n",
    "    left_mad = np.median(abs_dev[y <= m])\n",
    "    right_mad = np.median(abs_dev[y >= m])\n",
    "    y_mad = left_mad * np.ones(len(y))\n",
    "    y_mad[y > m] = right_mad\n",
    "    modified_z_score = 0.6745 * abs_dev / y_mad\n",
    "    modified_z_score[y == m] = 0\n",
    "    return modified_z_score > thresh"
   ]
  },
  {
   "cell_type": "code",
   "execution_count": 133,
   "metadata": {
    "collapsed": false
   },
   "outputs": [
    {
     "name": "stdout",
     "output_type": "stream",
     "text": [
      "[False False False False False False False False False False False False\n",
      " False False False False False False  True  True]\n"
     ]
    }
   ],
   "source": [
    "print(doubleMADsfromMedian(l))"
   ]
  },
  {
   "cell_type": "code",
   "execution_count": 86,
   "metadata": {
    "collapsed": true
   },
   "outputs": [],
   "source": [
    "def percentile_based_outlier(data, threshold=95):\n",
    "    # Marks all data points which are below the 2.5% quantile or above the 97.5% quantile\n",
    "    diff = (100 - threshold) / 2.0\n",
    "    minval, maxval = np.percentile(data, [diff, 100 - diff])\n",
    "    return (data < minval) | (data > maxval)"
   ]
  },
  {
   "cell_type": "code",
   "execution_count": 87,
   "metadata": {
    "collapsed": false
   },
   "outputs": [
    {
     "name": "stdout",
     "output_type": "stream",
     "text": [
      "[ True False False False False False False False False False False False\n",
      " False False False False False False False  True]\n"
     ]
    }
   ],
   "source": [
    "print(percentile_based_outlier(l))"
   ]
  },
  {
   "cell_type": "code",
   "execution_count": 104,
   "metadata": {
    "collapsed": false
   },
   "outputs": [],
   "source": [
    "def xAwayFromStddev(points, x=2):\n",
    "    mean= np.mean(points)\n",
    "    stddev=np.std(points)\n",
    "    abs_dev = np.abs(points - mean)\n",
    "    return (abs_dev>x*stddev)"
   ]
  },
  {
   "cell_type": "code",
   "execution_count": 106,
   "metadata": {
    "collapsed": false
   },
   "outputs": [
    {
     "name": "stdout",
     "output_type": "stream",
     "text": [
      "[False False False False False False False False False False False False\n",
      " False False False False False False False  True]\n"
     ]
    }
   ],
   "source": [
    "print(xAwayFromStddev(l))"
   ]
  },
  {
   "cell_type": "code",
   "execution_count": 136,
   "metadata": {
    "collapsed": true
   },
   "outputs": [],
   "source": [
    "def interQuantil(points, distance=3):\n",
    "    q25, q75=np.percentile(points, [25, 75])\n",
    "    IQ= q75-q25\n",
    "    minval= q25-distance*IQ\n",
    "    maxval= q75+distance*IQ\n",
    "    return (points < minval) | (points > maxval)"
   ]
  },
  {
   "cell_type": "code",
   "execution_count": 137,
   "metadata": {
    "collapsed": false
   },
   "outputs": [
    {
     "name": "stdout",
     "output_type": "stream",
     "text": [
      "[False False False False False False False False False False False False\n",
      " False False False False False False  True  True]\n"
     ]
    }
   ],
   "source": [
    "print(interQuantil(l))"
   ]
  },
  {
   "cell_type": "code",
   "execution_count": 138,
   "metadata": {
    "collapsed": false
   },
   "outputs": [
    {
     "name": "stdout",
     "output_type": "stream",
     "text": [
      "[False False False False False False False False False False False False\n",
      " False False False False False False  True  True]\n"
     ]
    }
   ],
   "source": [
    "print(interQuantil(l, distance=1.5))"
   ]
  },
  {
   "cell_type": "markdown",
   "metadata": {},
   "source": [
    "## Transposing lists of lists and CSV to JSON"
   ]
  },
  {
   "cell_type": "code",
   "execution_count": 139,
   "metadata": {
    "collapsed": false
   },
   "outputs": [
    {
     "name": "stdout",
     "output_type": "stream",
     "text": [
      "[['city', 'Wien', 'Salzburg', 'Innsbruck'], ['state', 'Wien', 'Salzburg', 'Tyrol'], ['population', '1852997', '150887', '130,894']]\n"
     ]
    }
   ],
   "source": [
    "a = [['city','state','population'],['Wien','Wien','1852997'],['Salzburg','Salzburg','150887'],['Innsbruck','Tyrol','130,894']]\n",
    "z=zip(*a)\n",
    "transposed=[]\n",
    "for i in z:\n",
    "    transposed.append(list(i))\n",
    "\n",
    "print(transposed)\n"
   ]
  },
  {
   "cell_type": "code",
   "execution_count": 128,
   "metadata": {
    "collapsed": false
   },
   "outputs": [
    {
     "name": "stdout",
     "output_type": "stream",
     "text": [
      "[{'city': 'Wien', 'population': '1852997', 'state': 'Wien'}, {'city': 'Salzburg', 'population': '150887', 'state': 'Salzburg'}, {'city': 'Innsbruck', 'population': '130,894', 'state': 'Tyrol'}]\n"
     ]
    }
   ],
   "source": [
    "atcities = [['city','state','population'],['Wien','Wien','1852997'],['Salzburg','Salzburg','150887'],['Innsbruck','Tyrol','130,894']]\n",
    "atCitiesDict=[]\n",
    "\n",
    "header=atcities[0]\n",
    "for city in atcities[1:]:\n",
    "    d={}\n",
    "    for i,h in enumerate(header):\n",
    "        d[h]=city[i]\n",
    "    atCitiesDict.append(d)\n",
    "print(atCitiesDict)"
   ]
  },
  {
   "cell_type": "code",
   "execution_count": 130,
   "metadata": {
    "collapsed": false
   },
   "outputs": [
    {
     "name": "stdout",
     "output_type": "stream",
     "text": [
      "{'city': ['Wien', 'Salzburg', 'Innsbruck'], 'population': ['1852997', '150887', '130,894'], 'state': ['Wien', 'Salzburg', 'Tyrol']}\n"
     ]
    }
   ],
   "source": [
    "atCitiesDict={}\n",
    "header=atcities[0]\n",
    "atCitiesDict={ h:[] for h in header}\n",
    "\n",
    "for city in atcities[1:]:\n",
    "    for i,h in enumerate(header):\n",
    "        atCitiesDict[h].append(city[i])\n",
    "print(atCitiesDict)"
   ]
  },
  {
   "cell_type": "code",
   "execution_count": null,
   "metadata": {
    "collapsed": true
   },
   "outputs": [],
   "source": []
  }
 ],
 "metadata": {
  "anaconda-cloud": {},
  "kernelspec": {
   "display_name": "Python 3",
   "language": "python",
   "name": "python3"
  },
  "language_info": {
   "codemirror_mode": {
    "name": "ipython",
    "version": 3
   },
   "file_extension": ".py",
   "mimetype": "text/x-python",
   "name": "python",
   "nbconvert_exporter": "python",
   "pygments_lexer": "ipython3",
   "version": "3.5.2"
  }
 },
 "nbformat": 4,
 "nbformat_minor": 1
}
