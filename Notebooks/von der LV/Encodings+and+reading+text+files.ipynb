{
 "cells": [
  {
   "cell_type": "markdown",
   "metadata": {},
   "source": [
    "## Python3 and character encodings\n",
    "\n",
    "Python3 [natively supports Unicode](https://docs.python.org/3/howto/unicode.html) (UTF-8)... which eases many things compared to other programming languages!"
   ]
  },
  {
   "cell_type": "code",
   "execution_count": 19,
   "metadata": {
    "collapsed": false
   },
   "outputs": [
    {
     "name": "stdout",
     "output_type": "stream",
     "text": [
      "Daß Jürgen heute nicht in Österreich ist, liegt daran, daß er zu einer Konferenz nach 神戸 (Kobe, Japan) geflogen ist. \n",
      "\n"
     ]
    }
   ],
   "source": [
    "# Let's read a file in UTF-8 Unicode:\n",
    "\n",
    "with open('./data/unicode_example_utf8.txt', 'r') as f:\n",
    "    s =f.read()\n",
    "\n",
    "print(s)"
   ]
  },
  {
   "cell_type": "markdown",
   "metadata": {},
   "source": [
    "As you already know from BIS I, Unicode/UTF-8 is upwards compatible with ASCII, so all textfiles without any special sympols can be read in with out problems. Those two formats/encodings are probably by far themost common ones nowadays."
   ]
  },
  {
   "cell_type": "code",
   "execution_count": 99,
   "metadata": {
    "collapsed": false
   },
   "outputs": [
    {
     "name": "stdout",
     "output_type": "stream",
     "text": [
      "Some arbitrary test without special characters.\n"
     ]
    }
   ],
   "source": [
    "# Let's read an ASCII file in UTF-8 Unicode:\n",
    "\n",
    "with open('./data/ascii.txt', 'r') as f:\n",
    "    s =f.read()\n",
    "\n",
    "print(s)\n"
   ]
  },
  {
   "cell_type": "markdown",
   "metadata": {},
   "source": [
    "However, there are other other common encodings that may produce errors when you try to read them.\n",
    "You can provide the input endocing for a file as an explicit parameter in the open() function.\n",
    "Find a list of known encodings here: https://docs.python.org/3/library/codecs.html"
   ]
  },
  {
   "cell_type": "code",
   "execution_count": 100,
   "metadata": {
    "collapsed": false
   },
   "outputs": [
    {
     "ename": "UnicodeDecodeError",
     "evalue": "'utf-8' codec can't decode byte 0xdf in position 2: invalid continuation byte",
     "output_type": "error",
     "traceback": [
      "\u001b[0;31m---------------------------------------------------------------------------\u001b[0m",
      "\u001b[0;31mUnicodeDecodeError\u001b[0m                        Traceback (most recent call last)",
      "\u001b[0;32m<ipython-input-100-755ddb1435d9>\u001b[0m in \u001b[0;36m<module>\u001b[0;34m()\u001b[0m\n\u001b[1;32m      3\u001b[0m \u001b[0;31m# This one doesn't work...:\u001b[0m\u001b[0;34m\u001b[0m\u001b[0;34m\u001b[0m\u001b[0m\n\u001b[1;32m      4\u001b[0m \u001b[0;32mwith\u001b[0m \u001b[0mopen\u001b[0m\u001b[0;34m(\u001b[0m\u001b[0;34m'latin-1.txt'\u001b[0m\u001b[0;34m,\u001b[0m\u001b[0mmode\u001b[0m\u001b[0;34m=\u001b[0m\u001b[0;34m'r'\u001b[0m\u001b[0;34m)\u001b[0m \u001b[0;32mas\u001b[0m \u001b[0mf\u001b[0m\u001b[0;34m:\u001b[0m\u001b[0;34m\u001b[0m\u001b[0m\n\u001b[0;32m----> 5\u001b[0;31m     \u001b[0ms\u001b[0m \u001b[0;34m=\u001b[0m\u001b[0mf\u001b[0m\u001b[0;34m.\u001b[0m\u001b[0mread\u001b[0m\u001b[0;34m(\u001b[0m\u001b[0;34m)\u001b[0m\u001b[0;34m\u001b[0m\u001b[0m\n\u001b[0m\u001b[1;32m      6\u001b[0m \u001b[0;34m\u001b[0m\u001b[0m\n\u001b[1;32m      7\u001b[0m \u001b[0;31m# ...but this one would:\u001b[0m\u001b[0;34m\u001b[0m\u001b[0;34m\u001b[0m\u001b[0m\n",
      "\u001b[0;32m/Library/Frameworks/Python.framework/Versions/3.5/lib/python3.5/codecs.py\u001b[0m in \u001b[0;36mdecode\u001b[0;34m(self, input, final)\u001b[0m\n\u001b[1;32m    319\u001b[0m         \u001b[0;31m# decode input (taking the buffer into account)\u001b[0m\u001b[0;34m\u001b[0m\u001b[0;34m\u001b[0m\u001b[0m\n\u001b[1;32m    320\u001b[0m         \u001b[0mdata\u001b[0m \u001b[0;34m=\u001b[0m \u001b[0mself\u001b[0m\u001b[0;34m.\u001b[0m\u001b[0mbuffer\u001b[0m \u001b[0;34m+\u001b[0m \u001b[0minput\u001b[0m\u001b[0;34m\u001b[0m\u001b[0m\n\u001b[0;32m--> 321\u001b[0;31m         \u001b[0;34m(\u001b[0m\u001b[0mresult\u001b[0m\u001b[0;34m,\u001b[0m \u001b[0mconsumed\u001b[0m\u001b[0;34m)\u001b[0m \u001b[0;34m=\u001b[0m \u001b[0mself\u001b[0m\u001b[0;34m.\u001b[0m\u001b[0m_buffer_decode\u001b[0m\u001b[0;34m(\u001b[0m\u001b[0mdata\u001b[0m\u001b[0;34m,\u001b[0m \u001b[0mself\u001b[0m\u001b[0;34m.\u001b[0m\u001b[0merrors\u001b[0m\u001b[0;34m,\u001b[0m \u001b[0mfinal\u001b[0m\u001b[0;34m)\u001b[0m\u001b[0;34m\u001b[0m\u001b[0m\n\u001b[0m\u001b[1;32m    322\u001b[0m         \u001b[0;31m# keep undecoded input until the next call\u001b[0m\u001b[0;34m\u001b[0m\u001b[0;34m\u001b[0m\u001b[0m\n\u001b[1;32m    323\u001b[0m         \u001b[0mself\u001b[0m\u001b[0;34m.\u001b[0m\u001b[0mbuffer\u001b[0m \u001b[0;34m=\u001b[0m \u001b[0mdata\u001b[0m\u001b[0;34m[\u001b[0m\u001b[0mconsumed\u001b[0m\u001b[0;34m:\u001b[0m\u001b[0;34m]\u001b[0m\u001b[0;34m\u001b[0m\u001b[0m\n",
      "\u001b[0;31mUnicodeDecodeError\u001b[0m: 'utf-8' codec can't decode byte 0xdf in position 2: invalid continuation byte"
     ]
    }
   ],
   "source": [
    "# Another common encoding, especially for French or German documents, LATIN-1 (or also, more precisely, called )\n",
    "\n",
    "# This one doesn't work...:\n",
    "with open('./data/latin-1.txt',mode='r') as f:\n",
    "    s =f.read()\n",
    "\n",
    "# ...but this one would:\n",
    "# with open('./data/latin-1.txt',mode='r', encoding='latin-1') as f:\n",
    "#    s =f.read()\n",
    "\n",
    "print(s)"
   ]
  },
  {
   "cell_type": "markdown",
   "metadata": {},
   "source": [
    "On top of that, there are encoding variants for Unicode, while more rarely used than UTF-8, such as UTF-16, or UTF-32. The differences between these Unicode encodings are well explained here: [(EN)](https://en.wikipedia.org/wiki/Comparison_of_Unicode_encodings) [(DE)](https://de.wikipedia.org/wiki/Unicode_Transformation_Format#UTF-8.2C_UTF-16_und_UTF-32)"
   ]
  },
  {
   "cell_type": "code",
   "execution_count": 83,
   "metadata": {
    "collapsed": false
   },
   "outputs": [
    {
     "name": "stdout",
     "output_type": "stream",
     "text": [
      "Some arbitrary test without special characters, but in a strange encoding...\n",
      "\n"
     ]
    }
   ],
   "source": [
    "# Let's read a file in UTF-32:\n",
    "\n",
    "with open('./data/unicode_example_utf32.txt', encoding='UTF-32', mode='r') as f:\n",
    "    s =f.read()\n",
    "\n",
    "print(s)"
   ]
  },
  {
   "cell_type": "code",
   "execution_count": null,
   "metadata": {
    "collapsed": true
   },
   "outputs": [],
   "source": [
    "# We can also convert formats, by first reading it in as binary and then \n",
    "# forcing an encoding with the decode() method... but that obviously produces nonsense:\n",
    "with open('./data/ascii.txt', mode='rb') as f:\n",
    "    s =f.read()\n",
    "\n",
    "print(s.decode(\"utf-16\", \"replace\"))"
   ]
  },
  {
   "cell_type": "markdown",
   "metadata": {
    "collapsed": true
   },
   "source": [
    "It's kinda hard to guess the encoding manually... but a Python package module comes to the rescue: [chardet](https://pypi.python.org/pypi/chardet) :-)"
   ]
  },
  {
   "cell_type": "code",
   "execution_count": 85,
   "metadata": {
    "collapsed": false
   },
   "outputs": [
    {
     "name": "stdout",
     "output_type": "stream",
     "text": [
      "{'encoding': 'ISO-8859-2', 'confidence': 0.8327456309366219}\n"
     ]
    }
   ],
   "source": [
    "import chardet\n",
    "with open('./data/latin-9.txt','rb') as f:\n",
    "    rawdata = f.read()\n",
    "    print(chardet.detect(rawdata))\n",
    "    \n",
    "    \n",
    "# but it doesn't always work, bad news: try the above one with 'latin-9.txt'"
   ]
  }
 ],
 "metadata": {
  "anaconda-cloud": {},
  "kernelspec": {
   "display_name": "Python 3",
   "language": "python",
   "name": "python3"
  },
  "language_info": {
   "codemirror_mode": {
    "name": "ipython",
    "version": 3
   },
   "file_extension": ".py",
   "mimetype": "text/x-python",
   "name": "python",
   "nbconvert_exporter": "python",
   "pygments_lexer": "ipython3",
   "version": "3.5.2"
  }
 },
 "nbformat": 4,
 "nbformat_minor": 0
}
