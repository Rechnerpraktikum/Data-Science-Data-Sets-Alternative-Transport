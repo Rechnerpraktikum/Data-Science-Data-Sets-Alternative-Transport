{
 "cells": [
  {
   "cell_type": "markdown",
   "metadata": {},
   "source": [
    "# Data Processing Project - "
   ]
  },
  {
   "cell_type": "markdown",
   "metadata": {},
   "source": [
    "Finding Geolocations from Universities, FH (Fachhochschulen) are saved for later.\n",
    "Data Source = https://www.data.gv.at/katalog/dataset/3e62e13e-3955-494a-91b3-f00ab9e84b48\n",
    "\n",
    "Dict Unis - total 162 Datensätze\n",
    "row[4] = id\n",
    "\n",
    "1) GPS Koordinaten verkehrt - [y-, x-]\n",
    "\n",
    "2) teilweise alte Gebäude!\n",
    "\n",
    "3) Radius - 1.0 km?\n",
    "\n",
    "- Car Sharing Parkplätze\n"
   ]
  },
  {
   "cell_type": "code",
   "execution_count": 51,
   "metadata": {
    "collapsed": false,
    "scrolled": false
   },
   "outputs": [],
   "source": [
    "import os\n",
    "import csv\n",
    "uniGPSFile = \"./data/UNIVERSITAETOGD.csv\"\n",
    "\n",
    "with open(uniGPSFile) as f:\n",
    "    uniloc = csv.reader(f, delimiter=\",\")\n",
    "    next(uniloc)\n",
    "    for row in uniloc:\n",
    "        #print(row[4] + \"\\t\" + row[2] + \"\\t\" + row[3])\n",
    "        continue"
   ]
  },
  {
   "cell_type": "code",
   "execution_count": 52,
   "metadata": {
    "collapsed": false,
    "scrolled": true
   },
   "outputs": [
    {
     "name": "stdout",
     "output_type": "stream",
     "text": [
      "1546200\tWirtschaftsuniversität Wien\tGebäude      \t48.23938184611682,16.35957159449422\n",
      "1546201\tWirtschaftsuniversität Wien\tGebäude      \t48.23350876049785,16.348984783975943\n",
      "1545931\tWirtschaftsuniversität Wien\tLC - Hauptgebäude      \t48.21384341856702,16.408860446502068\n",
      "1545932\tWirtschaftsuniversität Wien\tD1 TC      \t48.21274722310716,16.40990387836498\n",
      "1545933\tWirtschaftsuniversität Wien\tD2 SC      \t48.21220475172164,16.409839010138533\n",
      "1545934\tWirtschaftsuniversität Wien\tD3      \t48.21396293277605,16.40641305840182\n",
      "1545935\tWirtschaftsuniversität Wien\tD4      \t48.214569211541416,16.407354829589078\n",
      "1545936\tWirtschaftsuniversität Wien\tAD      \t48.2146197497305,16.40626443464473\n",
      "1545937\tWirtschaftsuniversität Wien\tEA      \t48.21566196605036,16.406223135786885\n",
      "1546263\tMUK Musik und Kunst Privatuniversität der Stadt Wien\tHauptstandort      \t48.20486789337447,16.37222911791936\n",
      "1546264\tMUK Musik und Kunst Privatuniversität der Stadt Wien\tGebäude      \t48.207793352232336,16.36892021832221\n",
      "1546265\tKonservatorium Wien Privatuniversität\tGebäude      \t48.20661507466812,16.374890464529464\n"
     ]
    }
   ],
   "source": [
    "with open(uniGPSFile) as f:\n",
    "    uniloc = csv.reader(f, delimiter=\",\")\n",
    "    next(uniloc)\n",
    "    for row in uniloc:\n",
    "        if \"universität\" in row[2]:\n",
    "            #print(row[4]  + \"\\t\" + row[2] + \"\\t\" + row[3] + \"\\t\\t\" + gpsx + \" \" + gpsy)   \n",
    "            print(row[4] + \"\\t\" + row[2] + \"\\t\" + row[3] + \"      \\t\" + unigps.get(row[4]))"
   ]
  },
  {
   "cell_type": "code",
   "execution_count": 53,
   "metadata": {
    "collapsed": false,
    "scrolled": true
   },
   "outputs": [],
   "source": [
    "unigps = {}\n",
    "with open(uniGPSFile) as f:\n",
    "    uniloc = csv.reader(f, delimiter=\",\")\n",
    "    next(uniloc) #skip header line\n",
    "    for row in uniloc:\n",
    "        gpsy = row[1].strip().split(\"(\")[1].split(\" \")[0]\n",
    "        gpsx = row[1].strip().split(\"(\")[1].split(\" \")[1].split(\")\")[0]\n",
    "        unigps[row[4]] = str(gpsx + \",\" + gpsy)\n",
    "\n",
    "#unigps"
   ]
  },
  {
   "cell_type": "markdown",
   "metadata": {
    "collapsed": false,
    "scrolled": true
   },
   "source": [
    "## Datasets\n",
    "1545931 Wirtschaftsuniversität Wien', 'LC - Hauptgebäude',\n",
    "\n",
    "1546291\tUniversität Wien\tHauptgebäude\t (16.360851928870705 48.213012828415096)\n",
    "\n",
    "1546253\tUniversität Wien\tCampus der\n",
    "\n",
    "1546202\tTechnische Universität Wien\tHauptgebäude\n",
    "\n",
    "1546148\tUniversität für Bodenkultur Wien\tGregor Mendel Haus (Hauptgebäude)\n",
    "\n",
    "1546137\tMedizinische Universität Wien\tGebäude\n",
    "\n",
    "1546123\tUniversität für angewandte Kunst\tHauptgebäude\n",
    "\n",
    "1546113\tUniversität für Musik und darstellende Kunst Wien\tPalais Springer\n",
    "\n",
    "1546292\tUniversität Wien\tUniversitätssportzentrum USZ II\n",
    "\n",
    "1546266\tWebster University Vienna\tGebäude\n",
    "\n",
    "\n",
    "## Optional - zu nahe:\n",
    "1546237\tUniversität Wien\tJuridicum \n",
    "\n",
    "FH's"
   ]
  },
  {
   "cell_type": "code",
   "execution_count": 69,
   "metadata": {
    "collapsed": true
   },
   "outputs": [],
   "source": [
    "uniname = {}\n",
    "\n",
    "uniname[1545931] = \"Wirtschaftsuniversität Wien\"\n",
    "uniname[1546291] = \"Universität Wien Hauptgebäude\"\n",
    "uniname[1546253] = \"Campus der Universität Wien\"\n",
    "uniname[1546202] = \"Technische Universität Wien\"\n",
    "uniname[1546148] = \"Universität für Bodenkultur Wien\"\n",
    "uniname[1546137] = \"Medizinische Universität Wien\"\n",
    "uniname[1546123] = \"Universität für angewandte Kunst\"\n",
    "uniname[1546113] = \"Universität für Musik und darstellende Kunst Wien\"\n",
    "uniname[1546292] = \"Universitätssportzentrum Wien\"\n",
    "uniname[1546266] = \"Webster University Vienna\"\n",
    "\n",
    "#uniname"
   ]
  },
  {
   "cell_type": "markdown",
   "metadata": {},
   "source": [
    "## Write Files"
   ]
  },
  {
   "cell_type": "code",
   "execution_count": 71,
   "metadata": {
    "collapsed": true
   },
   "outputs": [],
   "source": [
    "with open('./dictionaries/uniname.csv', 'w', newline='') as csvfile:\n",
    "    writer = csv.writer(csvfile, delimiter=',')\n",
    "    for k, v in uniname.items():\n",
    "      writer.writerow( [ k, v ] )"
   ]
  },
  {
   "cell_type": "code",
   "execution_count": 72,
   "metadata": {
    "collapsed": false
   },
   "outputs": [],
   "source": [
    "with open('./dictionaries/unigps.csv', 'w', newline='') as csvfile:\n",
    "    writer = csv.writer(csvfile, delimiter=',')\n",
    "    for k, v in unigps.items():\n",
    "      writer.writerow( [ k, v ] )"
   ]
  },
  {
   "cell_type": "markdown",
   "metadata": {},
   "source": [
    "## Read Files"
   ]
  },
  {
   "cell_type": "markdown",
   "metadata": {},
   "source": [
    "uniname = {}\n",
    "with open('./dictionaries/uniname.csv', 'r') as f:\n",
    "    file = csv.reader(f, delimiter=\",\")\n",
    "    for row in file:\n",
    "        uniname[row[0]]=row[1]"
   ]
  },
  {
   "cell_type": "markdown",
   "metadata": {},
   "source": [
    "unigps = {}\n",
    "with open('./dictionaries/unigps.csv', 'r') as f:\n",
    "    file = csv.reader(f, delimiter=\",\")\n",
    "    for row in file:\n",
    "        unigps[row[0]]=row[1]\n"
   ]
  }
 ],
 "metadata": {
  "kernelspec": {
   "display_name": "Python 3",
   "language": "python",
   "name": "python3"
  },
  "language_info": {
   "codemirror_mode": {
    "name": "ipython",
    "version": 3
   },
   "file_extension": ".py",
   "mimetype": "text/x-python",
   "name": "python",
   "nbconvert_exporter": "python",
   "pygments_lexer": "ipython3",
   "version": "3.5.1"
  }
 },
 "nbformat": 4,
 "nbformat_minor": 1
}
