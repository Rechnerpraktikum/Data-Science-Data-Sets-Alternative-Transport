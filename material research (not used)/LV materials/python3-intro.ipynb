{
 "cells": [
  {
   "cell_type": "markdown",
   "metadata": {},
   "source": [
    "## A useful helper: The print operator"
   ]
  },
  {
   "cell_type": "code",
   "execution_count": 1,
   "metadata": {
    "collapsed": false
   },
   "outputs": [],
   "source": [
    "print('test')"
   ]
  },
  {
   "cell_type": "markdown",
   "metadata": {},
   "source": [
    "## Basic Data Types\n",
    "\n",
    "Basic data types are the essential building blocks for handling information in Python\n",
    "\n",
    "* Strings\n",
    "\n",
    "* Integers\n",
    "\n",
    "* Floats\n",
    "\n",
    "* Boolean\n",
    "\n",
    "## Strings\n",
    "\n",
    "**Any text between two matching quotes** (either single ' '  or double quote \" \")\n",
    "\n",
    "Examples"
   ]
  },
  {
   "cell_type": "code",
   "execution_count": 2,
   "metadata": {
    "collapsed": false
   },
   "outputs": [],
   "source": [
    "'data'"
   ]
  },
  {
   "cell_type": "code",
   "execution_count": 3,
   "metadata": {
    "collapsed": false
   },
   "outputs": [],
   "source": [
    "\"science\""
   ]
  },
  {
   "cell_type": "code",
   "execution_count": 4,
   "metadata": {
    "collapsed": false
   },
   "outputs": [],
   "source": [
    "'I study at WU Vienna'"
   ]
  },
  {
   "cell_type": "markdown",
   "metadata": {},
   "source": [
    "**Exercise.**\n",
    "\n",
    "Create some strings and play with the different quotes\n",
    "\n",
    "\n",
    "\n",
    "see also Chapter 3.1.2 in the Python tutorial ([en](https://docs.python.org/3/tutorial/introduction.html) , [de](https://py-tutorial-de.readthedocs.io/de/python-3.3/introduction.html))\n",
    "\n",
    "## Integers\n",
    "\n",
    "**Integers are are whole numbers**\n",
    "\n",
    "\n",
    "Some examples:"
   ]
  },
  {
   "cell_type": "code",
   "execution_count": 5,
   "metadata": {
    "collapsed": false
   },
   "outputs": [],
   "source": [
    "1"
   ]
  },
  {
   "cell_type": "code",
   "execution_count": 6,
   "metadata": {
    "collapsed": false
   },
   "outputs": [],
   "source": [
    "0"
   ]
  },
  {
   "cell_type": "code",
   "execution_count": 7,
   "metadata": {
    "collapsed": false
   },
   "outputs": [],
   "source": [
    "-5"
   ]
  },
  {
   "cell_type": "markdown",
   "metadata": {},
   "source": [
    "## Floats\n",
    "\n",
    "**Floats are decimal number types.**"
   ]
  },
  {
   "cell_type": "code",
   "execution_count": 8,
   "metadata": {
    "collapsed": false
   },
   "outputs": [],
   "source": [
    "type( 2.2 )"
   ]
  },
  {
   "cell_type": "markdown",
   "metadata": {},
   "source": [
    "Some examples:"
   ]
  },
  {
   "cell_type": "code",
   "execution_count": 9,
   "metadata": {
    "collapsed": false
   },
   "outputs": [],
   "source": [
    "1.0"
   ]
  },
  {
   "cell_type": "code",
   "execution_count": 10,
   "metadata": {
    "collapsed": false
   },
   "outputs": [],
   "source": [
    "15.4"
   ]
  },
  {
   "cell_type": "markdown",
   "metadata": {},
   "source": [
    "## Numbers with leading zero\n",
    "\n",
    "Python does not support numbers with a leading zero"
   ]
  },
  {
   "cell_type": "code",
   "execution_count": 11,
   "metadata": {
    "collapsed": false
   },
   "outputs": [],
   "source": [
    "0034"
   ]
  },
  {
   "cell_type": "markdown",
   "metadata": {},
   "source": [
    "## Operations for Numbers: Addition\n",
    "\n",
    "* \"+\" Addition"
   ]
  },
  {
   "cell_type": "code",
   "execution_count": 12,
   "metadata": {
    "collapsed": false
   },
   "outputs": [],
   "source": [
    "5+4"
   ]
  },
  {
   "cell_type": "markdown",
   "metadata": {},
   "source": [
    "## Operations for Numbers: Subtraction\n",
    "* \"-\" Subtraction"
   ]
  },
  {
   "cell_type": "code",
   "execution_count": 13,
   "metadata": {
    "collapsed": false
   },
   "outputs": [],
   "source": [
    "10-34"
   ]
  },
  {
   "cell_type": "markdown",
   "metadata": {},
   "source": [
    "## Operations for Numbers: Multiplication\n",
    "\n",
    "* \"*\" Multiplication"
   ]
  },
  {
   "cell_type": "code",
   "execution_count": 14,
   "metadata": {
    "collapsed": false
   },
   "outputs": [],
   "source": [
    "5*4"
   ]
  },
  {
   "cell_type": "code",
   "execution_count": 15,
   "metadata": {
    "collapsed": false
   },
   "outputs": [],
   "source": [
    "2.5 *3"
   ]
  },
  {
   "cell_type": "markdown",
   "metadata": {},
   "source": [
    "## Operations for Numbers: Division\n",
    "\n",
    "**Python 3**\n",
    "* \"//\" (floor division)\n",
    "\n",
    "* \"/\" (true division)"
   ]
  },
  {
   "cell_type": "code",
   "execution_count": 16,
   "metadata": {
    "collapsed": false
   },
   "outputs": [],
   "source": [
    "4/8"
   ]
  },
  {
   "cell_type": "markdown",
   "metadata": {},
   "source": [
    "see also Chapter 3.1.1 in the Python tutorial ([en](https://docs.python.org/3/tutorial/introduction.html) , [de](https://py-tutorial-de.readthedocs.io/de/python-3.3/introduction.html))\n",
    "\n",
    "## Strings vs. Integers\n",
    "\n",
    "**Question.**\n",
    "\n",
    "The \"==\" operator compares if two values are equal.\n",
    "What happens if we execute the following command?"
   ]
  },
  {
   "cell_type": "code",
   "execution_count": 17,
   "metadata": {
    "collapsed": false
   },
   "outputs": [],
   "source": [
    "5==\"5\""
   ]
  },
  {
   "cell_type": "markdown",
   "metadata": {},
   "source": [
    "## Float vs. Integers\n",
    "\n",
    "Try the following\n",
    "\n",
    "**Question.**\n",
    "\n",
    "The \"==\" operator compares if two values are equal.\n",
    "What happens if we execute the following command?"
   ]
  },
  {
   "cell_type": "code",
   "execution_count": 18,
   "metadata": {
    "collapsed": false
   },
   "outputs": [],
   "source": [
    "5==5.5"
   ]
  },
  {
   "cell_type": "markdown",
   "metadata": {},
   "source": [
    "## Booleans\n",
    "\n",
    "**A boolean data type has only two possible values: True or False**\n",
    "\n",
    "* named after [George Boole](https://en.wikipedia.org/wiki/George_Boole)\n",
    "\n",
    "* truth value of logic and boolean algebra\n",
    "\n",
    "* used to test conditions and to control the program flow"
   ]
  },
  {
   "cell_type": "code",
   "execution_count": 19,
   "metadata": {
    "collapsed": false
   },
   "outputs": [],
   "source": [
    "type( True )"
   ]
  },
  {
   "cell_type": "markdown",
   "metadata": {},
   "source": [
    "## Data Containers\n",
    "\n",
    "* Data containers can hold multiple data points.\n",
    "\n",
    "* Data containers are **data types** again\n",
    "\n",
    "Python provides the following containers:\n",
    "* Variables\n",
    "\n",
    "* lists\n",
    "\n",
    "* dictionaries\n",
    "\n",
    "## Variables\n",
    "\n",
    "**Variables** are a means to store and reference data\n",
    "\n",
    "* container that holds information\n",
    "\n",
    "* sole purpose is to label and store data in memory\n",
    "\n",
    "Python does not require type declarations (unlike Java), defining variables is thus as simple as:"
   ]
  },
  {
   "cell_type": "markdown",
   "metadata": {},
   "source": [
    "         VARIABLE_NAME = ASSIGNEMENT\n"
   ]
  },
  {
   "cell_type": "markdown",
   "metadata": {},
   "source": [
    "### Number assignments\n",
    "\n",
    "For instance. Assigning the value of 1 to variable *a*"
   ]
  },
  {
   "cell_type": "code",
   "execution_count": 20,
   "metadata": {
    "collapsed": false
   },
   "outputs": [],
   "source": [
    "a = 1"
   ]
  },
  {
   "cell_type": "markdown",
   "metadata": {},
   "source": [
    "### String assignments\n",
    "\n",
    "For instance. Assigning the value of \"Data Science\" to variable *title*"
   ]
  },
  {
   "cell_type": "code",
   "execution_count": 21,
   "metadata": {
    "collapsed": false
   },
   "outputs": [],
   "source": [
    "title = \"Data Science\""
   ]
  },
  {
   "cell_type": "markdown",
   "metadata": {},
   "source": [
    "## Operations with variables\n",
    "\n",
    "One can also combine operations with variables"
   ]
  },
  {
   "cell_type": "code",
   "execution_count": 22,
   "metadata": {
    "collapsed": false
   },
   "outputs": [],
   "source": [
    "x = 5\n",
    "y = 10\n",
    "c = x*y\n",
    "print(c)"
   ]
  },
  {
   "cell_type": "markdown",
   "metadata": {},
   "source": [
    "## Operations with variables"
   ]
  },
  {
   "cell_type": "code",
   "execution_count": 23,
   "metadata": {
    "collapsed": false
   },
   "outputs": [],
   "source": [
    "a = 'Data'\n",
    "b = 'Science'\n",
    "print(a+b)"
   ]
  },
  {
   "cell_type": "markdown",
   "metadata": {},
   "source": [
    "## Lists\n",
    "\n",
    "**A list is a group of items**\n",
    "\n",
    "You can create a list in Python by placing the items in square brackets ([]) and separating the items with a comma."
   ]
  },
  {
   "cell_type": "markdown",
   "metadata": {},
   "source": [
    "         [ item1, item2, item3, ..., itemN ]\n"
   ]
  },
  {
   "cell_type": "code",
   "execution_count": 24,
   "metadata": {
    "collapsed": false
   },
   "outputs": [],
   "source": [
    "type( [] )"
   ]
  },
  {
   "cell_type": "markdown",
   "metadata": {},
   "source": [
    "## Lists: Example"
   ]
  },
  {
   "cell_type": "code",
   "execution_count": 25,
   "metadata": {
    "collapsed": false
   },
   "outputs": [],
   "source": [
    "[ 'Milk', 'Eggs', 'Lettuce' ]\n",
    "#or\n",
    "[ 12.5, 8.0, 61.3, 87.5 ]"
   ]
  },
  {
   "cell_type": "markdown",
   "metadata": {},
   "source": [
    "Lets store the list in a variable so that we can reuse it later in the code"
   ]
  },
  {
   "cell_type": "code",
   "execution_count": 26,
   "metadata": {
    "collapsed": false
   },
   "outputs": [],
   "source": [
    "list = [ 12.5, 8.0, 61.3, 87.5 ]\n",
    "print(list)\n",
    "[ 12.5, 8.0, 61.3, 87.5 ]"
   ]
  },
  {
   "cell_type": "markdown",
   "metadata": {},
   "source": [
    "see also Chapter 3.4 and 5  in the Python tutorial ([en](https://docs.python.org/3/tutorial/introduction.html) , [de](https://py-tutorial-de.readthedocs.io/de/python-3.3/introduction.html))\n",
    "\n",
    "## Lists Concatenation"
   ]
  },
  {
   "cell_type": "code",
   "execution_count": 27,
   "metadata": {
    "collapsed": false
   },
   "outputs": [],
   "source": [
    "a1=['a','b','c']\n",
    "a2=['d','e']\n",
    "a3=a1+a2\n",
    "print(a3)"
   ]
  },
  {
   "cell_type": "markdown",
   "metadata": {},
   "source": [
    "**Notice.**\n",
    "\n",
    "\"-\",\"*\",\"/\" are not allowed as operations for lists\n",
    "\n",
    "\n",
    "\n",
    "\n",
    "## Iterating over lists"
   ]
  },
  {
   "cell_type": "code",
   "execution_count": 28,
   "metadata": {
    "collapsed": false
   },
   "outputs": [],
   "source": [
    "list=[11,22,33,44,55]\n",
    "for  item in list:\n",
    "    print(item)"
   ]
  },
  {
   "cell_type": "markdown",
   "metadata": {},
   "source": [
    "## Dictionaries\n",
    "\n",
    "A Python dictionary is a more complex data container than a variable or a list.\n",
    "\n",
    "key: the *word* you lookup\n",
    "* value: result for the lookup"
   ]
  },
  {
   "cell_type": "markdown",
   "metadata": {},
   "source": [
    "        { key1: value, key2: values }\n"
   ]
  },
  {
   "cell_type": "code",
   "execution_count": 29,
   "metadata": {
    "collapsed": false
   },
   "outputs": [],
   "source": [
    "type( {} )"
   ]
  },
  {
   "cell_type": "markdown",
   "metadata": {},
   "source": [
    "## Dictionaries: Example"
   ]
  },
  {
   "cell_type": "code",
   "execution_count": 30,
   "metadata": {
    "collapsed": false
   },
   "outputs": [],
   "source": [
    "wordCounts={ 'Data':10, 'Science': 1, 'Course':5 }\n",
    "print(wordCounts)"
   ]
  },
  {
   "cell_type": "code",
   "execution_count": 31,
   "metadata": {
    "collapsed": false
   },
   "outputs": [],
   "source": [
    "#acces key-value\n",
    "print( wordCounts['Data'] )"
   ]
  },
  {
   "cell_type": "markdown",
   "metadata": {},
   "source": [
    "## Dictionaries: Values\n",
    "\n",
    "The values of a dictionary itself can be:\n",
    "* data ( e.g. Integers, Strings, Booleans)\n",
    "\n",
    "* lists\n",
    "\n",
    "* dictionaries\n",
    "\n",
    "## Dictionaries: Values"
   ]
  },
  {
   "cell_type": "code",
   "execution_count": 32,
   "metadata": {
    "collapsed": false
   },
   "outputs": [],
   "source": [
    "course={ 'title': 'DataProcessing1 (WS17)',\n",
    "                'authors':['A. Polleres', 'J. Umbrich']\n",
    "                'wordCounts': {'Data':10, 'Science':10}}\n",
    "\n",
    "value=course['wordCounts']"
   ]
  },
  {
   "cell_type": "code",
   "execution_count": 33,
   "metadata": {
    "collapsed": false
   },
   "outputs": [],
   "source": [
    "print value"
   ]
  },
  {
   "cell_type": "code",
   "execution_count": 34,
   "metadata": {
    "collapsed": false
   },
   "outputs": [],
   "source": [
    "print( type(value) )"
   ]
  }
 ],
 "metadata": {},
 "nbformat": 4,
 "nbformat_minor": 1
}
