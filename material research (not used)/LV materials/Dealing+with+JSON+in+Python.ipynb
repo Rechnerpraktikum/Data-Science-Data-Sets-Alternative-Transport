{
 "cells": [
  {
   "cell_type": "markdown",
   "metadata": {},
   "source": [
    "# The JSON library\n",
    "\n",
    "The [JSON](https://docs.python.org/3/library/json.html) Python library allows you to parse and generate JSON in Python.\n",
    "The library is by default already installed in the core Python3 installation.\n",
    "\n",
    "To load JSON, we can use the following methods"
   ]
  },
  {
   "cell_type": "markdown",
   "metadata": {},
   "source": [
    "        json.load( fp )  #Deserialize fp (a .read()-supporting file-like object containing a JSON document) to a Python object\n",
    "        json.loads( s ) #Deserialize s (a str instance containing a JSON document) to a Python object\n"
   ]
  },
  {
   "cell_type": "markdown",
   "metadata": {},
   "source": [
    "Similar methods are available for \"dumping\" a python object to JSON, either to a string (*dumps(obj)*) or to file (*dump( obj, file)*)\n",
    "\n",
    "\n",
    "\n",
    "1. Load the library"
   ]
  },
  {
   "cell_type": "code",
   "execution_count": 1,
   "metadata": {
    "collapsed": false
   },
   "outputs": [],
   "source": [
    "import json\n",
    "from pprint import pprint # import the function pprint from the pprint (pretty print) libary for a nicer output"
   ]
  },
  {
   "cell_type": "markdown",
   "metadata": {},
   "source": [
    "### An example for loading JSON from a file\n",
    "\n",
    "Let's load an JSON file from the file system."
   ]
  },
  {
   "cell_type": "code",
   "execution_count": 2,
   "metadata": {
    "collapsed": false
   },
   "outputs": [],
   "source": [
    "# loading a CSV file from disk ( path local to the Jupyter notebook)\n",
    "filePath='./data/alice.json'\n",
    "\n",
    "with open(filePath, 'r') as f:\n",
    "    data=json.load(f)\n",
    "    pprint(data)"
   ]
  },
  {
   "cell_type": "markdown",
   "metadata": {},
   "source": [
    "## An example for loading JSON from a URL\n",
    "\n",
    "Let's load an JSON file from a Web resource.\n",
    "\n",
    "We decided to use a json file from a [dataset about the Museum of Modern Art](http://data.opendataportal.at/dataset/kunstler-der-sammlung-des-mumok/resource/e25640f8-a3e4-46d2-8a4f-9be471b115d2) from the \"opendataportal.at\" Open Data portal."
   ]
  },
  {
   "cell_type": "code",
   "execution_count": 3,
   "metadata": {
    "collapsed": false
   },
   "outputs": [],
   "source": [
    "# loading a \"CSV\" file from data.gv.at\n",
    "import urllib.request\n",
    "\n",
    "#url , copied from the data.wu.ac.at portal\n",
    "url='http://data.mumok.at/artist.csv-metadata.json'"
   ]
  },
  {
   "cell_type": "code",
   "execution_count": 4,
   "metadata": {
    "collapsed": false
   },
   "outputs": [],
   "source": [
    "resp = urllib.request.urlopen(url) # open the connection\n",
    "data = json.loads(resp.read().decode('utf-8'))\n",
    "pprint(data)"
   ]
  },
  {
   "cell_type": "markdown",
   "metadata": {},
   "source": [
    "Oops, the typical **encoding nightmare**. A quick search at [stackoverflow](http://stackoverflow.com/questions/24703060/issues-reading-json-from-txt-file) shows that the document contains a [UTF-8 BOM character](https://en.wikipedia.org/wiki/Byte_order_mark#UTF-8) at the start. UTF-8 doesn't need a BOM but especially Microsoft tools insist on adding one anyway.\n",
    "\n",
    "We should open this file with **utf-8-sig** encoding instead:"
   ]
  },
  {
   "cell_type": "code",
   "execution_count": 5,
   "metadata": {
    "collapsed": false
   },
   "outputs": [],
   "source": [
    "resp = urllib.request.urlopen(url) # open the connection\n",
    "data = json.loads(resp.read().decode('utf-8-sig'))\n",
    "pprint(data)"
   ]
  }
 ],
 "metadata": {},
 "nbformat": 4,
 "nbformat_minor": 1
}
