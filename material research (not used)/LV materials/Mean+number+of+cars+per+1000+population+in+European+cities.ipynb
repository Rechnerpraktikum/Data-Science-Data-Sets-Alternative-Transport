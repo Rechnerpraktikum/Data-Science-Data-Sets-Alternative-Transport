{
 "cells": [
  {
   "cell_type": "markdown",
   "metadata": {},
   "source": [
    "# Some thoughts on missing values\n",
    "\n",
    "**Prerequisite:** We have lists of cities and many indicators from EUROSTAT. \n",
    "\n",
    "\n",
    "\n",
    "\n",
    "\n",
    "** What about non-European cities? ** For instance, let's compare whether we could/should use Imputation by \"Mean substitution\" for US citiesfor the EUROSTAT indicator \"Number of registered cars per 1000 population\".\n",
    "Let's look at the [data](http://ec.europa.eu/eurostat/web/cities/data/database) (cf. dataset urb_ctran) that EUROSTAT has here. Looking at this [map](http://ec.europa.eu/eurostat/documents/3217494/5784093/KS-HA-13-001-12-EN.PDF/89d2a7bb-0860-46cc-a494-cd5eeadbafc8?version=1.0) (Map12.3)\n",
    "\n",
    "![MapEU](./figures/Europe_cars_per_1000_population.png)\n",
    "\n",
    "We see that rarely any European city hat >600 cars per 1000 population.\n",
    "\n",
    "Let's havea a closer look at the CSV data and compute the actual mean of cars per 1000 population in European cities. First, let's try to find the relevant indicator ID:"
   ]
  },
  {
   "cell_type": "code",
   "execution_count": 4,
   "metadata": {
    "collapsed": false
   },
   "outputs": [
    {
     "name": "stdout",
     "output_type": "stream",
     "text": [
      "Number of registered cars per 1000 population : TT1057I\n"
     ]
    }
   ],
   "source": [
    "import csv # for handling csv/tsv files\n",
    "from statistics import mean\n",
    "\n",
    "# first, find out which indicator is the number of registered cars per 1000 population:\n",
    "with open('./data/indic_ur.csv') as f:\n",
    "    csvfile = csv.reader(f)\n",
    "    for row in csvfile:\n",
    "        if \"registered cars per 1000\" in row[1]:\n",
    "            print(row[1],':',row[3])\n",
    "            indic = row[3]"
   ]
  },
  {
   "cell_type": "code",
   "execution_count": 5,
   "metadata": {
    "collapsed": false
   },
   "outputs": [
    {
     "name": "stdout",
     "output_type": "stream",
     "text": [
      "441.3053376906318\n"
     ]
    }
   ],
   "source": [
    "# Now, compute the mean over all the values for this indicator:\n",
    "cars_per_1000 = []\n",
    "with open('./data/urb_ctran.tsv') as f:\n",
    "    csvfile = csv.reader(f,delimiter=\"\\t\")\n",
    "    for row in csvfile:\n",
    "        if indic in row[0]:\n",
    "            n = next((float(s.split(' ')[0]) for s in row[1:] if s[0] != ':'),[])\n",
    "            if n != [] : cars_per_1000.append(n)\n",
    "print(mean(cars_per_1000))"
   ]
  },
  {
   "cell_type": "markdown",
   "metadata": {},
   "source": [
    "Ok, looks like the number of cars per 1000 in Europe is around 441 on average.\n",
    "\n",
    "Is this also a plausible/good value to assume for, e.g. US cities? Let's see...\n"
   ]
  },
  {
   "cell_type": "markdown",
   "metadata": {},
   "source": [
    "Unfortunately this data is all missing for our UN Data, let's check whether it would be a good idea here to work with Mean susbstitution, i.e. add 441 for each US city?\n",
    "\n",
    "Probably not a good idea... Why?\n",
    "\n",
    "Let's look at this other [map](http://www.governing.com/gov-data/car-ownership-numbers-of-vehicles-by-city-map.html):\n",
    "\n",
    "![MapUS](./figures/US_cars_per_household.png)\n",
    "\n",
    "It seems to indicate that the mean for cars per household in the US cities is something around 1.5, roughly (US wide it is 1.8 even), if we want to set this in relation, we need the [average household size](https://www.statista.com/statistics/183648/average-size-of-households-in-the-us/), which is - again roughly - 2.54.\n",
    "\n",
    "This makes the following estimated mean ot cars per 1000 population in  US cities:"
   ]
  },
  {
   "cell_type": "code",
   "execution_count": 7,
   "metadata": {
    "collapsed": false
   },
   "outputs": [
    {
     "data": {
      "text/plain": [
       "590.5511811023622"
      ]
     },
     "execution_count": 7,
     "metadata": {},
     "output_type": "execute_result"
    }
   ],
   "source": [
    "1.5 * 1000 / 2.54"
   ]
  },
  {
   "cell_type": "markdown",
   "metadata": {},
   "source": [
    "Some thoughts on this: of course we were playing here with completely over-rough estimates and assumptions, but: what it seems to indicate is the following: it is probably not a good idea to use value imputation based on EUROSTAT data  only for missing data outside of the US, which likely follows different regularities.\n",
    "\n",
    "**Discussion:** What else/more we could do? "
   ]
  },
  {
   "cell_type": "code",
   "execution_count": null,
   "metadata": {
    "collapsed": true
   },
   "outputs": [],
   "source": []
  }
 ],
 "metadata": {
  "kernelspec": {
   "display_name": "Python 3",
   "language": "python",
   "name": "python3"
  },
  "language_info": {
   "codemirror_mode": {
    "name": "ipython",
    "version": 3
   },
   "file_extension": ".py",
   "mimetype": "text/x-python",
   "name": "python",
   "nbconvert_exporter": "python",
   "pygments_lexer": "ipython3",
   "version": "3.5.2"
  }
 },
 "nbformat": 4,
 "nbformat_minor": 1
}
