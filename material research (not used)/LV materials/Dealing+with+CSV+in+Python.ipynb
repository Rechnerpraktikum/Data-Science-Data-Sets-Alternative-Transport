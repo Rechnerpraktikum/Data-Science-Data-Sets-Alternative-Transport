{
 "cells": [
  {
   "cell_type": "markdown",
   "metadata": {},
   "source": [
    "# The CSV library\n",
    "\n",
    "The [CSV](https://docs.python.org/3/library/csv.html) Python library allows you to parse and generate CSV in Python.\n",
    "The library is by default already installed in the core Python3 installation.\n",
    "\n",
    "The method"
   ]
  },
  {
   "cell_type": "markdown",
   "metadata": {},
   "source": [
    "        csv.reader( iteratableObject ) # iteratableObject: e.g. file, lists, etc..\n"
   ]
  },
  {
   "cell_type": "markdown",
   "metadata": {},
   "source": [
    "return a reader object which will iterate over lines.\n",
    "\n",
    "1. Load the library"
   ]
  },
  {
   "cell_type": "code",
   "execution_count": 1,
   "metadata": {
    "collapsed": false
   },
   "outputs": [],
   "source": [
    "import csv"
   ]
  },
  {
   "cell_type": "markdown",
   "metadata": {},
   "source": [
    "### An example for loading CSV from a file\n",
    "\n",
    "Let's load an CSV file from the file system."
   ]
  },
  {
   "cell_type": "code",
   "execution_count": 2,
   "metadata": {
    "collapsed": false
   },
   "outputs": [],
   "source": [
    "# loading a CSV file from disk ( path local to the Jupyter notebook)\n",
    "filePath='./data/allcoursesandevents16w-small.csv'\n",
    "\n",
    "with open(filePath, 'r') as f:\n",
    "    csvreader = csv.reader(f)\n",
    "    for row in csvreader:\n",
    "        print(row)"
   ]
  },
  {
   "cell_type": "markdown",
   "metadata": {},
   "source": [
    "## An example for loading CSV from a URL\n",
    "\n",
    "Let's load an CSV file from a Web resource.\n",
    "\n",
    "We load the course events for the Winter Semester 2016, located at the [data.wu.ac.at Open Data portal](http://data.wu.ac.at/dataset/all_course_events_2016w)."
   ]
  },
  {
   "cell_type": "code",
   "execution_count": 3,
   "metadata": {
    "collapsed": false
   },
   "outputs": [],
   "source": [
    "# loading a \"CSV\" file from data.gv.at\n",
    "import urllib.request\n",
    "import csv\n",
    "import codecs # we use this libary to properly decode the byte stream of the HTTP response\n",
    "\n",
    "#url , copied from the data.wu.ac.at portal\n",
    "url='http://data.wu.ac.at/dataset/d99ed34b-449d-4a34-8f11-0f6743fe3cae/resource/090b8cc4-2105-46c5-a822-f6c013a50757/download/allcoursesandevents16w.csv'"
   ]
  },
  {
   "cell_type": "markdown",
   "metadata": {},
   "source": [
    "**Careful**: This file contains **several thousand lines**. We do not want to output all of the lines on the notebook, just the first N."
   ]
  },
  {
   "cell_type": "code",
   "execution_count": 4,
   "metadata": {
    "collapsed": false
   },
   "outputs": [],
   "source": [
    "resp = urllib.request.urlopen(url) # open the connection\n",
    "#We need to decode the byte stream to string\n",
    "csvfile = csv.reader(codecs.iterdecode(resp, 'utf-8')) # csv.reader requires a iterator object\n",
    "c=0 # counter for the parsed line numbers\n",
    "N=10 # MAX number of lines we want to output\n",
    "for line in csvfile:\n",
    "    c+=1\n",
    "    print(line)\n",
    "    if c>N:\n",
    "        break # break exists the loop ( see also Python3 tutorial in chapter 4)"
   ]
  },
  {
   "cell_type": "markdown",
   "metadata": {},
   "source": [
    "## CSV is not alway \"Comma-seperated values\" file\n",
    "\n",
    "In fact, many \"CSV\" files are more \"character-seperate-values file\", meaning that the used value delimiter is not \",\".\n",
    "Very often, the \";\" delimiter is used, rather than the \",\" delimiter. Especially, for MS Excel exported CSV files from German speaking countries.\n",
    "\n",
    "## Dealing with non-',' delimiters\n",
    "\n",
    "Lets look at some statistics about tourism from the city of Innsbruck, taken from [data.gv.at](https://www.data.gv.at/katalog/dataset/touribk-1011/resource/a89d9ae3-b855-492d-81e7-bdb2f29605df)"
   ]
  },
  {
   "cell_type": "code",
   "execution_count": 5,
   "metadata": {
    "collapsed": false
   },
   "outputs": [],
   "source": [
    "#Tourism, arrivals, and over-night-stays in 2010-2011\n",
    "url=\"http://www.innsbruck.gv.at/data.cfm?vpath=diverse/ogd/statistik9/tourismus22/tourismusjahr-2010-2011csv\"\n",
    "resp=urllib.request.urlopen(url) # open the connection\n",
    "\n",
    "#lets have a quick look how the data looks\n",
    "data=resp.read().decode('utf-8') #decoding the byte content to string\n",
    "c=0 # counter for the parsed line numbers\n",
    "N=10 # MAX number of lines we want to output\n",
    "\n",
    "#to iterate over the content line by line, we need to tell Python to split the string content at the \"newline\" character\n",
    "for line in data.split('\\n'):\n",
    "  c+=1\n",
    "  print(line)\n",
    "  if c>N:\n",
    "      break # break exists the loop ( see also Python3 tutorial in chapter 4)"
   ]
  },
  {
   "cell_type": "markdown",
   "metadata": {},
   "source": [
    "**Notice.**\n",
    "\n",
    " Well, it does not look like they are using ',' as delimiter. Seems it is more likely that it is the \";\" delimiter."
   ]
  },
  {
   "cell_type": "code",
   "execution_count": 6,
   "metadata": {
    "collapsed": false
   },
   "outputs": [],
   "source": [
    "#Tourism, arrivals, and over-night-stays in 2010-2011\n",
    "url=\"http://www.innsbruck.gv.at/data.cfm?vpath=diverse/ogd/statistik9/tourismus22/tourismusjahr-2010-2011csv\"\n",
    "resp = urllib.request.urlopen(url) # open the connection\n",
    "csvfile = csv.reader(codecs.iterdecode(resp, 'utf-8'), delimiter=\";\") # csv.reader requires a iterator object\n",
    "c=0 # counter for the parsed line numbers\n",
    "N=10 # MAX number of lines we want to output\n",
    "for line in csvfile:\n",
    "    c+=1\n",
    "    print(line)\n",
    "    if c>N:\n",
    "        break # break exists the loop ( see also Python3 tutorial in chapter 4)"
   ]
  },
  {
   "cell_type": "markdown",
   "metadata": {},
   "source": [
    "Ok, with ';' as delimiter, the reader object returns a row which contains 4 items"
   ]
  }
 ],
 "metadata": {},
 "nbformat": 4,
 "nbformat_minor": 1
}
